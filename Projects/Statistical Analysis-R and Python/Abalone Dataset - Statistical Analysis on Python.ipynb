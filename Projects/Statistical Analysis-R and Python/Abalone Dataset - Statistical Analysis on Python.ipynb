{
 "cells": [
  {
   "cell_type": "markdown",
   "id": "e3ca95a4",
   "metadata": {},
   "source": [
    "### Statistical Analysis on Abalone Dataset \n",
    "         \n",
    "        Abalones are marine snails.Abalone is a gastropod mollusk that lives in coastal saltwater. A member of the Haliotidae family, it ranges in size from 4 to 10 inches. Like other univalve snails, it has a single shell on top and uses a large foot to cling to rocks and eat algae.The age of abalone is determined by cutting the shell through the cone, staining it, and counting the number of rings through a microscope\n",
    "        "
   ]
  },
  {
   "cell_type": "markdown",
   "id": "7a1506f4",
   "metadata": {},
   "source": [
    "### Descriptive statistics is about describing and summarizing data. It uses two main approaches:\n",
    "\n",
    "* The quantitative approach describes and summarizes data numerically.\n",
    "* The visual approach illustrates data with charts, plots, histograms, and other graphs.\n",
    "<p>\n",
    "<u>Descriptive statistics can be applied to one or many datasets or variables.<u>\n",
    "    </p>\n",
    "* When you describe and summarize a single variable, you’re performing univariate analysis. \n",
    "* When you search for statistical relationships among a pair of variables, you’re doing a bivariate analysis.\n",
    "* Similarly, a multivariate analysis is concerned with multiple variables at once."
   ]
  },
  {
   "cell_type": "code",
   "execution_count": 26,
   "id": "fa345961",
   "metadata": {},
   "outputs": [],
   "source": [
    "import pandas as pd \n",
    "import numpy as np\n",
    "import matplotlib.pyplot as plt\n",
    "import statistics \n",
    "import scipy.stats\n",
    "import seaborn as sns"
   ]
  },
  {
   "cell_type": "code",
   "execution_count": 2,
   "id": "2c7ececd",
   "metadata": {},
   "outputs": [
    {
     "data": {
      "text/html": [
       "<div>\n",
       "<style scoped>\n",
       "    .dataframe tbody tr th:only-of-type {\n",
       "        vertical-align: middle;\n",
       "    }\n",
       "\n",
       "    .dataframe tbody tr th {\n",
       "        vertical-align: top;\n",
       "    }\n",
       "\n",
       "    .dataframe thead th {\n",
       "        text-align: right;\n",
       "    }\n",
       "</style>\n",
       "<table border=\"1\" class=\"dataframe\">\n",
       "  <thead>\n",
       "    <tr style=\"text-align: right;\">\n",
       "      <th></th>\n",
       "      <th>Sex</th>\n",
       "      <th>Length</th>\n",
       "      <th>Diameter</th>\n",
       "      <th>Height</th>\n",
       "      <th>Wholeweight</th>\n",
       "      <th>Shuckedweight</th>\n",
       "      <th>Viscera weight</th>\n",
       "      <th>Shell weight</th>\n",
       "      <th>Rings</th>\n",
       "    </tr>\n",
       "  </thead>\n",
       "  <tbody>\n",
       "    <tr>\n",
       "      <th>0</th>\n",
       "      <td>M</td>\n",
       "      <td>0.455</td>\n",
       "      <td>0.365</td>\n",
       "      <td>0.095</td>\n",
       "      <td>0.5140</td>\n",
       "      <td>0.2245</td>\n",
       "      <td>0.1010</td>\n",
       "      <td>0.1500</td>\n",
       "      <td>15</td>\n",
       "    </tr>\n",
       "    <tr>\n",
       "      <th>1</th>\n",
       "      <td>M</td>\n",
       "      <td>0.350</td>\n",
       "      <td>0.265</td>\n",
       "      <td>0.090</td>\n",
       "      <td>0.2255</td>\n",
       "      <td>0.0995</td>\n",
       "      <td>0.0485</td>\n",
       "      <td>0.0700</td>\n",
       "      <td>7</td>\n",
       "    </tr>\n",
       "    <tr>\n",
       "      <th>2</th>\n",
       "      <td>F</td>\n",
       "      <td>0.530</td>\n",
       "      <td>0.420</td>\n",
       "      <td>0.135</td>\n",
       "      <td>0.6770</td>\n",
       "      <td>0.2565</td>\n",
       "      <td>0.1415</td>\n",
       "      <td>0.2100</td>\n",
       "      <td>9</td>\n",
       "    </tr>\n",
       "    <tr>\n",
       "      <th>3</th>\n",
       "      <td>M</td>\n",
       "      <td>0.440</td>\n",
       "      <td>0.365</td>\n",
       "      <td>0.125</td>\n",
       "      <td>0.5160</td>\n",
       "      <td>0.2155</td>\n",
       "      <td>0.1140</td>\n",
       "      <td>0.1550</td>\n",
       "      <td>10</td>\n",
       "    </tr>\n",
       "    <tr>\n",
       "      <th>4</th>\n",
       "      <td>I</td>\n",
       "      <td>0.330</td>\n",
       "      <td>0.255</td>\n",
       "      <td>0.080</td>\n",
       "      <td>0.2050</td>\n",
       "      <td>0.0895</td>\n",
       "      <td>0.0395</td>\n",
       "      <td>0.0550</td>\n",
       "      <td>7</td>\n",
       "    </tr>\n",
       "    <tr>\n",
       "      <th>...</th>\n",
       "      <td>...</td>\n",
       "      <td>...</td>\n",
       "      <td>...</td>\n",
       "      <td>...</td>\n",
       "      <td>...</td>\n",
       "      <td>...</td>\n",
       "      <td>...</td>\n",
       "      <td>...</td>\n",
       "      <td>...</td>\n",
       "    </tr>\n",
       "    <tr>\n",
       "      <th>4172</th>\n",
       "      <td>F</td>\n",
       "      <td>0.565</td>\n",
       "      <td>0.450</td>\n",
       "      <td>0.165</td>\n",
       "      <td>0.8870</td>\n",
       "      <td>0.3700</td>\n",
       "      <td>0.2390</td>\n",
       "      <td>0.2490</td>\n",
       "      <td>11</td>\n",
       "    </tr>\n",
       "    <tr>\n",
       "      <th>4173</th>\n",
       "      <td>M</td>\n",
       "      <td>0.590</td>\n",
       "      <td>0.440</td>\n",
       "      <td>0.135</td>\n",
       "      <td>0.9660</td>\n",
       "      <td>0.4390</td>\n",
       "      <td>0.2145</td>\n",
       "      <td>0.2605</td>\n",
       "      <td>10</td>\n",
       "    </tr>\n",
       "    <tr>\n",
       "      <th>4174</th>\n",
       "      <td>M</td>\n",
       "      <td>0.600</td>\n",
       "      <td>0.475</td>\n",
       "      <td>0.205</td>\n",
       "      <td>1.1760</td>\n",
       "      <td>0.5255</td>\n",
       "      <td>0.2875</td>\n",
       "      <td>0.3080</td>\n",
       "      <td>9</td>\n",
       "    </tr>\n",
       "    <tr>\n",
       "      <th>4175</th>\n",
       "      <td>F</td>\n",
       "      <td>0.625</td>\n",
       "      <td>0.485</td>\n",
       "      <td>0.150</td>\n",
       "      <td>1.0945</td>\n",
       "      <td>0.5310</td>\n",
       "      <td>0.2610</td>\n",
       "      <td>0.2960</td>\n",
       "      <td>10</td>\n",
       "    </tr>\n",
       "    <tr>\n",
       "      <th>4176</th>\n",
       "      <td>M</td>\n",
       "      <td>0.710</td>\n",
       "      <td>0.555</td>\n",
       "      <td>0.195</td>\n",
       "      <td>1.9485</td>\n",
       "      <td>0.9455</td>\n",
       "      <td>0.3765</td>\n",
       "      <td>0.4950</td>\n",
       "      <td>12</td>\n",
       "    </tr>\n",
       "  </tbody>\n",
       "</table>\n",
       "<p>4177 rows × 9 columns</p>\n",
       "</div>"
      ],
      "text/plain": [
       "     Sex  Length  Diameter  Height  Wholeweight  Shuckedweight  \\\n",
       "0      M   0.455     0.365   0.095       0.5140         0.2245   \n",
       "1      M   0.350     0.265   0.090       0.2255         0.0995   \n",
       "2      F   0.530     0.420   0.135       0.6770         0.2565   \n",
       "3      M   0.440     0.365   0.125       0.5160         0.2155   \n",
       "4      I   0.330     0.255   0.080       0.2050         0.0895   \n",
       "...   ..     ...       ...     ...          ...            ...   \n",
       "4172   F   0.565     0.450   0.165       0.8870         0.3700   \n",
       "4173   M   0.590     0.440   0.135       0.9660         0.4390   \n",
       "4174   M   0.600     0.475   0.205       1.1760         0.5255   \n",
       "4175   F   0.625     0.485   0.150       1.0945         0.5310   \n",
       "4176   M   0.710     0.555   0.195       1.9485         0.9455   \n",
       "\n",
       "      Viscera weight  Shell weight  Rings  \n",
       "0             0.1010        0.1500     15  \n",
       "1             0.0485        0.0700      7  \n",
       "2             0.1415        0.2100      9  \n",
       "3             0.1140        0.1550     10  \n",
       "4             0.0395        0.0550      7  \n",
       "...              ...           ...    ...  \n",
       "4172          0.2390        0.2490     11  \n",
       "4173          0.2145        0.2605     10  \n",
       "4174          0.2875        0.3080      9  \n",
       "4175          0.2610        0.2960     10  \n",
       "4176          0.3765        0.4950     12  \n",
       "\n",
       "[4177 rows x 9 columns]"
      ]
     },
     "execution_count": 2,
     "metadata": {},
     "output_type": "execute_result"
    }
   ],
   "source": [
    "df=pd.read_csv('abalone.csv')\n",
    "df"
   ]
  },
  {
   "cell_type": "code",
   "execution_count": 3,
   "id": "f59e5f78",
   "metadata": {},
   "outputs": [
    {
     "name": "stdout",
     "output_type": "stream",
     "text": [
      "column names:   Index(['Sex', 'Length', 'Diameter', 'Height', 'Wholeweight', 'Shuckedweight',\n",
      "       'Viscera weight', 'Shell weight', 'Rings'],\n",
      "      dtype='object')\n",
      "Shape of dataset:   (4177, 9)\n",
      "Size of dataset:   37593\n"
     ]
    }
   ],
   "source": [
    "print(\"column names:  \",df.columns)\n",
    "print(\"Shape of dataset:  \",df.shape)\n",
    "print(\"Size of dataset:  \",df.size)"
   ]
  },
  {
   "cell_type": "code",
   "execution_count": 4,
   "id": "f822075f",
   "metadata": {},
   "outputs": [
    {
     "data": {
      "text/plain": [
       "0"
      ]
     },
     "execution_count": 4,
     "metadata": {},
     "output_type": "execute_result"
    }
   ],
   "source": [
    "df.isnull().sum().sum()"
   ]
  },
  {
   "cell_type": "code",
   "execution_count": 5,
   "id": "c7ef3335",
   "metadata": {},
   "outputs": [
    {
     "data": {
      "text/plain": [
       "0"
      ]
     },
     "execution_count": 5,
     "metadata": {},
     "output_type": "execute_result"
    }
   ],
   "source": [
    "df.duplicated().sum()"
   ]
  },
  {
   "cell_type": "markdown",
   "id": "0f304413",
   "metadata": {},
   "source": [
    "#### Now, the data is set to Statistical analysis "
   ]
  },
  {
   "cell_type": "code",
   "execution_count": 6,
   "id": "2995a776",
   "metadata": {},
   "outputs": [
    {
     "name": "stdout",
     "output_type": "stream",
     "text": [
      "The description of the Abalone dataset :  \n",
      "<class 'pandas.core.frame.DataFrame'>\n",
      "RangeIndex: 4177 entries, 0 to 4176\n",
      "Data columns (total 9 columns):\n",
      " #   Column          Non-Null Count  Dtype  \n",
      "---  ------          --------------  -----  \n",
      " 0   Sex             4177 non-null   object \n",
      " 1   Length          4177 non-null   float64\n",
      " 2   Diameter        4177 non-null   float64\n",
      " 3   Height          4177 non-null   float64\n",
      " 4   Wholeweight     4177 non-null   float64\n",
      " 5   Shuckedweight   4177 non-null   float64\n",
      " 6   Viscera weight  4177 non-null   float64\n",
      " 7   Shell weight    4177 non-null   float64\n",
      " 8   Rings           4177 non-null   int64  \n",
      "dtypes: float64(7), int64(1), object(1)\n",
      "memory usage: 293.8+ KB\n",
      "None\n"
     ]
    }
   ],
   "source": [
    "print(\"The description of the Abalone dataset :  \")\n",
    "print(df.info())"
   ]
  },
  {
   "cell_type": "markdown",
   "id": "3f465d0b",
   "metadata": {},
   "source": [
    "#### Python’s statistics is a built-in Python library for descriptive statistics. We can use it if your datasets are not too large or if you can’t rely on importing other libraries."
   ]
  },
  {
   "cell_type": "markdown",
   "id": "fd8e602c",
   "metadata": {},
   "source": [
    "### <u><b>Basic Statistics</b><u>"
   ]
  },
  {
   "cell_type": "markdown",
   "id": "88e32475",
   "metadata": {},
   "source": [
    "* Basic statistics such as <u>mean,median,sum,Quartiles,maximum,minimum<u> can be found using the function <u>describe()<u>"
   ]
  },
  {
   "cell_type": "code",
   "execution_count": 7,
   "id": "0158b10e",
   "metadata": {
    "scrolled": true
   },
   "outputs": [
    {
     "data": {
      "text/html": [
       "<div>\n",
       "<style scoped>\n",
       "    .dataframe tbody tr th:only-of-type {\n",
       "        vertical-align: middle;\n",
       "    }\n",
       "\n",
       "    .dataframe tbody tr th {\n",
       "        vertical-align: top;\n",
       "    }\n",
       "\n",
       "    .dataframe thead th {\n",
       "        text-align: right;\n",
       "    }\n",
       "</style>\n",
       "<table border=\"1\" class=\"dataframe\">\n",
       "  <thead>\n",
       "    <tr style=\"text-align: right;\">\n",
       "      <th></th>\n",
       "      <th>count</th>\n",
       "      <th>mean</th>\n",
       "      <th>std</th>\n",
       "      <th>min</th>\n",
       "      <th>25%</th>\n",
       "      <th>50%</th>\n",
       "      <th>75%</th>\n",
       "      <th>max</th>\n",
       "    </tr>\n",
       "  </thead>\n",
       "  <tbody>\n",
       "    <tr>\n",
       "      <th>Length</th>\n",
       "      <td>4177.0</td>\n",
       "      <td>0.523992</td>\n",
       "      <td>0.120093</td>\n",
       "      <td>0.0750</td>\n",
       "      <td>0.4500</td>\n",
       "      <td>0.5450</td>\n",
       "      <td>0.615</td>\n",
       "      <td>0.8150</td>\n",
       "    </tr>\n",
       "    <tr>\n",
       "      <th>Diameter</th>\n",
       "      <td>4177.0</td>\n",
       "      <td>0.407881</td>\n",
       "      <td>0.099240</td>\n",
       "      <td>0.0550</td>\n",
       "      <td>0.3500</td>\n",
       "      <td>0.4250</td>\n",
       "      <td>0.480</td>\n",
       "      <td>0.6500</td>\n",
       "    </tr>\n",
       "    <tr>\n",
       "      <th>Height</th>\n",
       "      <td>4177.0</td>\n",
       "      <td>0.139516</td>\n",
       "      <td>0.041827</td>\n",
       "      <td>0.0000</td>\n",
       "      <td>0.1150</td>\n",
       "      <td>0.1400</td>\n",
       "      <td>0.165</td>\n",
       "      <td>1.1300</td>\n",
       "    </tr>\n",
       "    <tr>\n",
       "      <th>Wholeweight</th>\n",
       "      <td>4177.0</td>\n",
       "      <td>0.828742</td>\n",
       "      <td>0.490389</td>\n",
       "      <td>0.0020</td>\n",
       "      <td>0.4415</td>\n",
       "      <td>0.7995</td>\n",
       "      <td>1.153</td>\n",
       "      <td>2.8255</td>\n",
       "    </tr>\n",
       "    <tr>\n",
       "      <th>Shuckedweight</th>\n",
       "      <td>4177.0</td>\n",
       "      <td>0.359367</td>\n",
       "      <td>0.221963</td>\n",
       "      <td>0.0010</td>\n",
       "      <td>0.1860</td>\n",
       "      <td>0.3360</td>\n",
       "      <td>0.502</td>\n",
       "      <td>1.4880</td>\n",
       "    </tr>\n",
       "    <tr>\n",
       "      <th>Viscera weight</th>\n",
       "      <td>4177.0</td>\n",
       "      <td>0.180594</td>\n",
       "      <td>0.109614</td>\n",
       "      <td>0.0005</td>\n",
       "      <td>0.0935</td>\n",
       "      <td>0.1710</td>\n",
       "      <td>0.253</td>\n",
       "      <td>0.7600</td>\n",
       "    </tr>\n",
       "    <tr>\n",
       "      <th>Shell weight</th>\n",
       "      <td>4177.0</td>\n",
       "      <td>0.238831</td>\n",
       "      <td>0.139203</td>\n",
       "      <td>0.0015</td>\n",
       "      <td>0.1300</td>\n",
       "      <td>0.2340</td>\n",
       "      <td>0.329</td>\n",
       "      <td>1.0050</td>\n",
       "    </tr>\n",
       "    <tr>\n",
       "      <th>Rings</th>\n",
       "      <td>4177.0</td>\n",
       "      <td>9.933684</td>\n",
       "      <td>3.224169</td>\n",
       "      <td>1.0000</td>\n",
       "      <td>8.0000</td>\n",
       "      <td>9.0000</td>\n",
       "      <td>11.000</td>\n",
       "      <td>29.0000</td>\n",
       "    </tr>\n",
       "  </tbody>\n",
       "</table>\n",
       "</div>"
      ],
      "text/plain": [
       "                 count      mean       std     min     25%     50%     75%  \\\n",
       "Length          4177.0  0.523992  0.120093  0.0750  0.4500  0.5450   0.615   \n",
       "Diameter        4177.0  0.407881  0.099240  0.0550  0.3500  0.4250   0.480   \n",
       "Height          4177.0  0.139516  0.041827  0.0000  0.1150  0.1400   0.165   \n",
       "Wholeweight     4177.0  0.828742  0.490389  0.0020  0.4415  0.7995   1.153   \n",
       "Shuckedweight   4177.0  0.359367  0.221963  0.0010  0.1860  0.3360   0.502   \n",
       "Viscera weight  4177.0  0.180594  0.109614  0.0005  0.0935  0.1710   0.253   \n",
       "Shell weight    4177.0  0.238831  0.139203  0.0015  0.1300  0.2340   0.329   \n",
       "Rings           4177.0  9.933684  3.224169  1.0000  8.0000  9.0000  11.000   \n",
       "\n",
       "                    max  \n",
       "Length           0.8150  \n",
       "Diameter         0.6500  \n",
       "Height           1.1300  \n",
       "Wholeweight      2.8255  \n",
       "Shuckedweight    1.4880  \n",
       "Viscera weight   0.7600  \n",
       "Shell weight     1.0050  \n",
       "Rings           29.0000  "
      ]
     },
     "execution_count": 7,
     "metadata": {},
     "output_type": "execute_result"
    }
   ],
   "source": [
    "df.describe().transpose()"
   ]
  },
  {
   "cell_type": "markdown",
   "id": "e317317e",
   "metadata": {},
   "source": [
    "### Measures of central tendency"
   ]
  },
  {
   "cell_type": "markdown",
   "id": "6330a354",
   "metadata": {},
   "source": [
    "* Central tendency tells you about the centers of the data. Useful measures include the mean, median, and mode.\n"
   ]
  },
  {
   "attachments": {
    "image.png": {
     "image/png": "[encoded data removed]"
    }
   },
   "cell_type": "markdown",
   "id": "5cfb3f28",
   "metadata": {},
   "source": [
    "![image.png](attachment:image.png)"
   ]
  },
  {
   "cell_type": "markdown",
   "id": "f755a4a3",
   "metadata": {},
   "source": [
    "The Statistical Analysis are done on the whole set called <u>Popualtion<u> but if the data is too big or complex, subset of population is considered called <u> Sample<u>\n",
    "    "
   ]
  },
  {
   "cell_type": "code",
   "execution_count": 8,
   "id": "f48f7bcf",
   "metadata": {},
   "outputs": [
    {
     "data": {
      "text/html": [
       "<div>\n",
       "<style scoped>\n",
       "    .dataframe tbody tr th:only-of-type {\n",
       "        vertical-align: middle;\n",
       "    }\n",
       "\n",
       "    .dataframe tbody tr th {\n",
       "        vertical-align: top;\n",
       "    }\n",
       "\n",
       "    .dataframe thead th {\n",
       "        text-align: right;\n",
       "    }\n",
       "</style>\n",
       "<table border=\"1\" class=\"dataframe\">\n",
       "  <thead>\n",
       "    <tr style=\"text-align: right;\">\n",
       "      <th></th>\n",
       "      <th>Sex</th>\n",
       "      <th>Length</th>\n",
       "      <th>Diameter</th>\n",
       "      <th>Height</th>\n",
       "      <th>Wholeweight</th>\n",
       "      <th>Shuckedweight</th>\n",
       "      <th>Viscera weight</th>\n",
       "      <th>Shell weight</th>\n",
       "      <th>Rings</th>\n",
       "    </tr>\n",
       "  </thead>\n",
       "  <tbody>\n",
       "    <tr>\n",
       "      <th>62</th>\n",
       "      <td>F</td>\n",
       "      <td>0.530</td>\n",
       "      <td>0.410</td>\n",
       "      <td>0.130</td>\n",
       "      <td>0.6965</td>\n",
       "      <td>0.3020</td>\n",
       "      <td>0.1935</td>\n",
       "      <td>0.2000</td>\n",
       "      <td>10</td>\n",
       "    </tr>\n",
       "    <tr>\n",
       "      <th>171</th>\n",
       "      <td>F</td>\n",
       "      <td>0.530</td>\n",
       "      <td>0.395</td>\n",
       "      <td>0.145</td>\n",
       "      <td>0.7750</td>\n",
       "      <td>0.3080</td>\n",
       "      <td>0.1690</td>\n",
       "      <td>0.2550</td>\n",
       "      <td>7</td>\n",
       "    </tr>\n",
       "    <tr>\n",
       "      <th>1082</th>\n",
       "      <td>I</td>\n",
       "      <td>0.435</td>\n",
       "      <td>0.345</td>\n",
       "      <td>0.115</td>\n",
       "      <td>0.4180</td>\n",
       "      <td>0.2220</td>\n",
       "      <td>0.0735</td>\n",
       "      <td>0.1060</td>\n",
       "      <td>7</td>\n",
       "    </tr>\n",
       "    <tr>\n",
       "      <th>3270</th>\n",
       "      <td>F</td>\n",
       "      <td>0.625</td>\n",
       "      <td>0.475</td>\n",
       "      <td>0.130</td>\n",
       "      <td>0.8595</td>\n",
       "      <td>0.3195</td>\n",
       "      <td>0.1775</td>\n",
       "      <td>0.2400</td>\n",
       "      <td>13</td>\n",
       "    </tr>\n",
       "    <tr>\n",
       "      <th>2380</th>\n",
       "      <td>M</td>\n",
       "      <td>0.175</td>\n",
       "      <td>0.135</td>\n",
       "      <td>0.040</td>\n",
       "      <td>0.0305</td>\n",
       "      <td>0.0110</td>\n",
       "      <td>0.0075</td>\n",
       "      <td>0.0100</td>\n",
       "      <td>5</td>\n",
       "    </tr>\n",
       "    <tr>\n",
       "      <th>470</th>\n",
       "      <td>F</td>\n",
       "      <td>0.530</td>\n",
       "      <td>0.440</td>\n",
       "      <td>0.135</td>\n",
       "      <td>0.7835</td>\n",
       "      <td>0.3130</td>\n",
       "      <td>0.1715</td>\n",
       "      <td>0.2185</td>\n",
       "      <td>9</td>\n",
       "    </tr>\n",
       "    <tr>\n",
       "      <th>91</th>\n",
       "      <td>M</td>\n",
       "      <td>0.555</td>\n",
       "      <td>0.440</td>\n",
       "      <td>0.150</td>\n",
       "      <td>0.7550</td>\n",
       "      <td>0.3070</td>\n",
       "      <td>0.1525</td>\n",
       "      <td>0.2600</td>\n",
       "      <td>12</td>\n",
       "    </tr>\n",
       "    <tr>\n",
       "      <th>2040</th>\n",
       "      <td>I</td>\n",
       "      <td>0.320</td>\n",
       "      <td>0.255</td>\n",
       "      <td>0.085</td>\n",
       "      <td>0.1745</td>\n",
       "      <td>0.0720</td>\n",
       "      <td>0.0330</td>\n",
       "      <td>0.0570</td>\n",
       "      <td>8</td>\n",
       "    </tr>\n",
       "    <tr>\n",
       "      <th>2318</th>\n",
       "      <td>F</td>\n",
       "      <td>0.505</td>\n",
       "      <td>0.385</td>\n",
       "      <td>0.135</td>\n",
       "      <td>0.6185</td>\n",
       "      <td>0.2510</td>\n",
       "      <td>0.1175</td>\n",
       "      <td>0.2000</td>\n",
       "      <td>12</td>\n",
       "    </tr>\n",
       "    <tr>\n",
       "      <th>1943</th>\n",
       "      <td>F</td>\n",
       "      <td>0.635</td>\n",
       "      <td>0.485</td>\n",
       "      <td>0.165</td>\n",
       "      <td>1.2695</td>\n",
       "      <td>0.5635</td>\n",
       "      <td>0.3065</td>\n",
       "      <td>0.3395</td>\n",
       "      <td>11</td>\n",
       "    </tr>\n",
       "    <tr>\n",
       "      <th>2819</th>\n",
       "      <td>I</td>\n",
       "      <td>0.375</td>\n",
       "      <td>0.265</td>\n",
       "      <td>0.095</td>\n",
       "      <td>0.1960</td>\n",
       "      <td>0.0850</td>\n",
       "      <td>0.0420</td>\n",
       "      <td>0.0585</td>\n",
       "      <td>5</td>\n",
       "    </tr>\n",
       "    <tr>\n",
       "      <th>2468</th>\n",
       "      <td>F</td>\n",
       "      <td>0.370</td>\n",
       "      <td>0.275</td>\n",
       "      <td>0.080</td>\n",
       "      <td>0.2270</td>\n",
       "      <td>0.0930</td>\n",
       "      <td>0.0625</td>\n",
       "      <td>0.0700</td>\n",
       "      <td>8</td>\n",
       "    </tr>\n",
       "    <tr>\n",
       "      <th>2366</th>\n",
       "      <td>M</td>\n",
       "      <td>0.695</td>\n",
       "      <td>0.570</td>\n",
       "      <td>0.230</td>\n",
       "      <td>1.8850</td>\n",
       "      <td>0.8665</td>\n",
       "      <td>0.4350</td>\n",
       "      <td>0.5000</td>\n",
       "      <td>19</td>\n",
       "    </tr>\n",
       "    <tr>\n",
       "      <th>3804</th>\n",
       "      <td>I</td>\n",
       "      <td>0.355</td>\n",
       "      <td>0.270</td>\n",
       "      <td>0.100</td>\n",
       "      <td>0.2255</td>\n",
       "      <td>0.1100</td>\n",
       "      <td>0.0420</td>\n",
       "      <td>0.0640</td>\n",
       "      <td>7</td>\n",
       "    </tr>\n",
       "    <tr>\n",
       "      <th>2825</th>\n",
       "      <td>I</td>\n",
       "      <td>0.495</td>\n",
       "      <td>0.375</td>\n",
       "      <td>0.120</td>\n",
       "      <td>0.5890</td>\n",
       "      <td>0.3075</td>\n",
       "      <td>0.1215</td>\n",
       "      <td>0.1405</td>\n",
       "      <td>8</td>\n",
       "    </tr>\n",
       "    <tr>\n",
       "      <th>1317</th>\n",
       "      <td>I</td>\n",
       "      <td>0.555</td>\n",
       "      <td>0.430</td>\n",
       "      <td>0.155</td>\n",
       "      <td>0.7395</td>\n",
       "      <td>0.3135</td>\n",
       "      <td>0.1435</td>\n",
       "      <td>0.2800</td>\n",
       "      <td>10</td>\n",
       "    </tr>\n",
       "    <tr>\n",
       "      <th>1829</th>\n",
       "      <td>I</td>\n",
       "      <td>0.365</td>\n",
       "      <td>0.270</td>\n",
       "      <td>0.085</td>\n",
       "      <td>0.1970</td>\n",
       "      <td>0.0815</td>\n",
       "      <td>0.0325</td>\n",
       "      <td>0.0650</td>\n",
       "      <td>6</td>\n",
       "    </tr>\n",
       "    <tr>\n",
       "      <th>3737</th>\n",
       "      <td>M</td>\n",
       "      <td>0.625</td>\n",
       "      <td>0.470</td>\n",
       "      <td>0.150</td>\n",
       "      <td>1.1240</td>\n",
       "      <td>0.5560</td>\n",
       "      <td>0.2315</td>\n",
       "      <td>0.2870</td>\n",
       "      <td>9</td>\n",
       "    </tr>\n",
       "    <tr>\n",
       "      <th>512</th>\n",
       "      <td>F</td>\n",
       "      <td>0.490</td>\n",
       "      <td>0.380</td>\n",
       "      <td>0.145</td>\n",
       "      <td>0.6725</td>\n",
       "      <td>0.2490</td>\n",
       "      <td>0.1810</td>\n",
       "      <td>0.2100</td>\n",
       "      <td>10</td>\n",
       "    </tr>\n",
       "    <tr>\n",
       "      <th>2940</th>\n",
       "      <td>M</td>\n",
       "      <td>0.625</td>\n",
       "      <td>0.490</td>\n",
       "      <td>0.120</td>\n",
       "      <td>0.8765</td>\n",
       "      <td>0.4560</td>\n",
       "      <td>0.1800</td>\n",
       "      <td>0.2330</td>\n",
       "      <td>10</td>\n",
       "    </tr>\n",
       "  </tbody>\n",
       "</table>\n",
       "</div>"
      ],
      "text/plain": [
       "     Sex  Length  Diameter  Height  Wholeweight  Shuckedweight  \\\n",
       "62     F   0.530     0.410   0.130       0.6965         0.3020   \n",
       "171    F   0.530     0.395   0.145       0.7750         0.3080   \n",
       "1082   I   0.435     0.345   0.115       0.4180         0.2220   \n",
       "3270   F   0.625     0.475   0.130       0.8595         0.3195   \n",
       "2380   M   0.175     0.135   0.040       0.0305         0.0110   \n",
       "470    F   0.530     0.440   0.135       0.7835         0.3130   \n",
       "91     M   0.555     0.440   0.150       0.7550         0.3070   \n",
       "2040   I   0.320     0.255   0.085       0.1745         0.0720   \n",
       "2318   F   0.505     0.385   0.135       0.6185         0.2510   \n",
       "1943   F   0.635     0.485   0.165       1.2695         0.5635   \n",
       "2819   I   0.375     0.265   0.095       0.1960         0.0850   \n",
       "2468   F   0.370     0.275   0.080       0.2270         0.0930   \n",
       "2366   M   0.695     0.570   0.230       1.8850         0.8665   \n",
       "3804   I   0.355     0.270   0.100       0.2255         0.1100   \n",
       "2825   I   0.495     0.375   0.120       0.5890         0.3075   \n",
       "1317   I   0.555     0.430   0.155       0.7395         0.3135   \n",
       "1829   I   0.365     0.270   0.085       0.1970         0.0815   \n",
       "3737   M   0.625     0.470   0.150       1.1240         0.5560   \n",
       "512    F   0.490     0.380   0.145       0.6725         0.2490   \n",
       "2940   M   0.625     0.490   0.120       0.8765         0.4560   \n",
       "\n",
       "      Viscera weight  Shell weight  Rings  \n",
       "62            0.1935        0.2000     10  \n",
       "171           0.1690        0.2550      7  \n",
       "1082          0.0735        0.1060      7  \n",
       "3270          0.1775        0.2400     13  \n",
       "2380          0.0075        0.0100      5  \n",
       "470           0.1715        0.2185      9  \n",
       "91            0.1525        0.2600     12  \n",
       "2040          0.0330        0.0570      8  \n",
       "2318          0.1175        0.2000     12  \n",
       "1943          0.3065        0.3395     11  \n",
       "2819          0.0420        0.0585      5  \n",
       "2468          0.0625        0.0700      8  \n",
       "2366          0.4350        0.5000     19  \n",
       "3804          0.0420        0.0640      7  \n",
       "2825          0.1215        0.1405      8  \n",
       "1317          0.1435        0.2800     10  \n",
       "1829          0.0325        0.0650      6  \n",
       "3737          0.2315        0.2870      9  \n",
       "512           0.1810        0.2100     10  \n",
       "2940          0.1800        0.2330     10  "
      ]
     },
     "execution_count": 8,
     "metadata": {},
     "output_type": "execute_result"
    }
   ],
   "source": [
    "df.sample(20)"
   ]
  },
  {
   "cell_type": "markdown",
   "id": "9a83c72e",
   "metadata": {},
   "source": [
    "### Measures of central tendency \n",
    "     The column \"Rings \" which is helpful in predicting the age of Abalone is utilised here"
   ]
  },
  {
   "cell_type": "code",
   "execution_count": 9,
   "id": "e7b0b8ba",
   "metadata": {},
   "outputs": [
    {
     "name": "stdout",
     "output_type": "stream",
     "text": [
      "Average Rings for Abalone:  9.933684462532918\n",
      "Average Rings for Abalone:  8.958674665991989\n",
      "Average Rings for Abalone:  9.446825758874109\n"
     ]
    }
   ],
   "source": [
    "Ring_mean=df['Rings'].mean()\n",
    "print(\"Average Rings for Abalone: \",Ring_mean)\n",
    "Ring_harmonicmean=stats.harmonic_mean(df[\"Rings\"])\n",
    "print(\"Average Rings for Abalone: \",Ring_harmonicmean)\n",
    "Ring_geometricmean=stats.geometric_mean(df[\"Rings\"])\n",
    "print(\"Average Rings for Abalone: \",Ring_geometricmean)"
   ]
  },
  {
   "cell_type": "code",
   "execution_count": 10,
   "id": "81928202",
   "metadata": {},
   "outputs": [
    {
     "name": "stdout",
     "output_type": "stream",
     "text": [
      "Median Rings for Abalone:  9.0\n",
      "Mode Rings for Abalone:  0    9\n",
      "dtype: int64\n"
     ]
    }
   ],
   "source": [
    "Ring_median=df['Rings'].median()\n",
    "print(\"Median Rings for Abalone: \",Ring_median)\n",
    "Ring_mode=df['Rings'].mode()\n",
    "print(\"Mode Rings for Abalone: \",Ring_mode)"
   ]
  },
  {
   "cell_type": "markdown",
   "id": "6c480ffd",
   "metadata": {},
   "source": [
    "### All the measures of central tendency shows approximately 9 rings "
   ]
  },
  {
   "cell_type": "code",
   "execution_count": 18,
   "id": "95962dc5",
   "metadata": {
    "collapsed": true
   },
   "outputs": [
    {
     "name": "stdout",
     "output_type": "stream",
     "text": [
      "Average of each columns:  Length            0.523992\n",
      "Diameter          0.407881\n",
      "Height            0.139516\n",
      "Wholeweight       0.828742\n",
      "Shuckedweight     0.359367\n",
      "Viscera weight    0.180594\n",
      "Shell weight      0.238831\n",
      "Rings             9.933684\n",
      "dtype: float64\n"
     ]
    },
    {
     "name": "stderr",
     "output_type": "stream",
     "text": [
      "C:\\Users\\User\\AppData\\Local\\Temp/ipykernel_13464/2198030627.py:1: FutureWarning: Dropping of nuisance columns in DataFrame reductions (with 'numeric_only=None') is deprecated; in a future version this will raise TypeError.  Select only valid columns before calling the reduction.\n",
      "  Average_columns=df.mean()\n"
     ]
    }
   ],
   "source": [
    "Average_columns=df.mean()\n",
    "print(\"Average of each columns: \",Average_columns)\n"
   ]
  },
  {
   "cell_type": "code",
   "execution_count": 20,
   "id": "e292e46f",
   "metadata": {
    "scrolled": false
   },
   "outputs": [
    {
     "name": "stdout",
     "output_type": "stream",
     "text": [
      "Median of each columns:  Length            0.523992\n",
      "Diameter          0.407881\n",
      "Height            0.139516\n",
      "Wholeweight       0.828742\n",
      "Shuckedweight     0.359367\n",
      "Viscera weight    0.180594\n",
      "Shell weight      0.238831\n",
      "Rings             9.933684\n",
      "dtype: float64\n"
     ]
    },
    {
     "name": "stderr",
     "output_type": "stream",
     "text": [
      "C:\\Users\\User\\AppData\\Local\\Temp/ipykernel_13464/3579090965.py:1: FutureWarning: Dropping of nuisance columns in DataFrame reductions (with 'numeric_only=None') is deprecated; in a future version this will raise TypeError.  Select only valid columns before calling the reduction.\n",
      "  Median_columns=df.mean()\n"
     ]
    }
   ],
   "source": [
    "Median_columns=df.mean()\n",
    "print(\"Median of each columns: \",Median_columns)"
   ]
  },
  {
   "cell_type": "markdown",
   "id": "b8f069de",
   "metadata": {},
   "source": [
    "### Mean and Median under Normal curve "
   ]
  },
  {
   "cell_type": "code",
   "execution_count": 23,
   "id": "12723130",
   "metadata": {},
   "outputs": [
    {
     "data": {
      "text/plain": [
       "<matplotlib.collections.LineCollection at 0x192cc5dd3d0>"
      ]
     },
     "execution_count": 23,
     "metadata": {},
     "output_type": "execute_result"
    },
    {
     "data": {
      "image/png": "[encoded data removed]",
      "text/plain": [
       "<Figure size 720x720 with 1 Axes>"
      ]
     },
     "metadata": {
      "needs_background": "light"
     },
     "output_type": "display_data"
    }
   ],
   "source": [
    "data=pd.DataFrame(np.random.normal(size=100))\n",
    "data.plot(kind='density',figsize=(10,10))\n",
    "plt.vlines(data.mean(),ymin=0,ymax=0.4,linewidth=5.0)\n",
    "plt.vlines(data.median(),ymin=0,ymax=0.4,linewidth=5.0,color=\"red\")\n"
   ]
  },
  {
   "cell_type": "markdown",
   "id": "c6b7cea6",
   "metadata": {},
   "source": [
    "### <u>Measure of Spread or Variation<u>"
   ]
  },
  {
   "cell_type": "markdown",
   "id": "2c6d42ca",
   "metadata": {},
   "source": [
    "* Variability tells you about the spread of the data. Useful measures include variance and standard deviation.\n"
   ]
  },
  {
   "attachments": {
    "image.png": {
     "image/png": "[encoded data removed]"
    }
   },
   "cell_type": "markdown",
   "id": "95eccc6a",
   "metadata": {},
   "source": [
    "![image.png](attachment:image.png)"
   ]
  },
  {
   "cell_type": "code",
   "execution_count": 11,
   "id": "7a67c847",
   "metadata": {},
   "outputs": [
    {
     "name": "stdout",
     "output_type": "stream",
     "text": [
      "Population Standard deviation Rings for Abalone:  3.2237830658212117\n",
      "Standard deviation Rings for Abalone:  3.224169032068128\n"
     ]
    }
   ],
   "source": [
    "Ring_populationSD=stats.pstdev(df['Rings'])\n",
    "print(\"Population Standard deviation Rings for Abalone: \",Ring_populationSD)\n",
    "Ring_stdev=stats.stdev(df['Rings'])\n",
    "print(\"Standard deviation Rings for Abalone: \",Ring_stdev)"
   ]
  },
  {
   "cell_type": "code",
   "execution_count": 12,
   "id": "fe4a8a2e",
   "metadata": {
    "scrolled": true
   },
   "outputs": [
    {
     "name": "stdout",
     "output_type": "stream",
     "text": [
      "Standard deviation Rings for Abalone:  10.39526594734713\n"
     ]
    }
   ],
   "source": [
    "Ring_variance=stats.variance(df['Rings'])\n",
    "print(\"Standard deviation Rings for Abalone: \",Ring_variance)"
   ]
  },
  {
   "cell_type": "code",
   "execution_count": 24,
   "id": "520e3370",
   "metadata": {},
   "outputs": [
    {
     "data": {
      "text/plain": [
       "1.114101898355677"
      ]
     },
     "execution_count": 24,
     "metadata": {},
     "output_type": "execute_result"
    }
   ],
   "source": [
    "df['Rings'].skew()"
   ]
  },
  {
   "cell_type": "code",
   "execution_count": 25,
   "id": "d18748e4",
   "metadata": {},
   "outputs": [
    {
     "data": {
      "text/plain": [
       "2.3306874268535847"
      ]
     },
     "execution_count": 25,
     "metadata": {},
     "output_type": "execute_result"
    }
   ],
   "source": [
    "df[\"Rings\"].kurt()"
   ]
  },
  {
   "cell_type": "markdown",
   "id": "86872c31",
   "metadata": {},
   "source": [
    "### Corelation and Covariance"
   ]
  },
  {
   "cell_type": "markdown",
   "id": "8027f798",
   "metadata": {},
   "source": [
    "* Correlation or joint variability tells you about the relation between a pair of variables in a dataset. Useful measures include covariance and the correlation coefficient."
   ]
  },
  {
   "cell_type": "code",
   "execution_count": 33,
   "id": "18ecc459",
   "metadata": {},
   "outputs": [
    {
     "data": {
      "text/html": [
       "<div>\n",
       "<style scoped>\n",
       "    .dataframe tbody tr th:only-of-type {\n",
       "        vertical-align: middle;\n",
       "    }\n",
       "\n",
       "    .dataframe tbody tr th {\n",
       "        vertical-align: top;\n",
       "    }\n",
       "\n",
       "    .dataframe thead th {\n",
       "        text-align: right;\n",
       "    }\n",
       "</style>\n",
       "<table border=\"1\" class=\"dataframe\">\n",
       "  <thead>\n",
       "    <tr style=\"text-align: right;\">\n",
       "      <th></th>\n",
       "      <th>Length</th>\n",
       "      <th>Diameter</th>\n",
       "      <th>Height</th>\n",
       "      <th>Wholeweight</th>\n",
       "      <th>Shuckedweight</th>\n",
       "      <th>Viscera weight</th>\n",
       "      <th>Shell weight</th>\n",
       "      <th>Rings</th>\n",
       "    </tr>\n",
       "  </thead>\n",
       "  <tbody>\n",
       "    <tr>\n",
       "      <th>Length</th>\n",
       "      <td>0.014422</td>\n",
       "      <td>0.011761</td>\n",
       "      <td>0.004157</td>\n",
       "      <td>0.054491</td>\n",
       "      <td>0.023935</td>\n",
       "      <td>0.011887</td>\n",
       "      <td>0.015007</td>\n",
       "      <td>0.215562</td>\n",
       "    </tr>\n",
       "    <tr>\n",
       "      <th>Diameter</th>\n",
       "      <td>0.011761</td>\n",
       "      <td>0.009849</td>\n",
       "      <td>0.003461</td>\n",
       "      <td>0.045038</td>\n",
       "      <td>0.019674</td>\n",
       "      <td>0.009787</td>\n",
       "      <td>0.012507</td>\n",
       "      <td>0.183872</td>\n",
       "    </tr>\n",
       "    <tr>\n",
       "      <th>Height</th>\n",
       "      <td>0.004157</td>\n",
       "      <td>0.003461</td>\n",
       "      <td>0.001750</td>\n",
       "      <td>0.016803</td>\n",
       "      <td>0.007195</td>\n",
       "      <td>0.003660</td>\n",
       "      <td>0.004759</td>\n",
       "      <td>0.075179</td>\n",
       "    </tr>\n",
       "    <tr>\n",
       "      <th>Wholeweight</th>\n",
       "      <td>0.054491</td>\n",
       "      <td>0.045038</td>\n",
       "      <td>0.016803</td>\n",
       "      <td>0.240481</td>\n",
       "      <td>0.105518</td>\n",
       "      <td>0.051946</td>\n",
       "      <td>0.065216</td>\n",
       "      <td>0.854409</td>\n",
       "    </tr>\n",
       "    <tr>\n",
       "      <th>Shuckedweight</th>\n",
       "      <td>0.023935</td>\n",
       "      <td>0.019674</td>\n",
       "      <td>0.007195</td>\n",
       "      <td>0.105518</td>\n",
       "      <td>0.049268</td>\n",
       "      <td>0.022675</td>\n",
       "      <td>0.027271</td>\n",
       "      <td>0.301204</td>\n",
       "    </tr>\n",
       "    <tr>\n",
       "      <th>Viscera weight</th>\n",
       "      <td>0.011887</td>\n",
       "      <td>0.009787</td>\n",
       "      <td>0.003660</td>\n",
       "      <td>0.051946</td>\n",
       "      <td>0.022675</td>\n",
       "      <td>0.012015</td>\n",
       "      <td>0.013850</td>\n",
       "      <td>0.178057</td>\n",
       "    </tr>\n",
       "    <tr>\n",
       "      <th>Shell weight</th>\n",
       "      <td>0.015007</td>\n",
       "      <td>0.012507</td>\n",
       "      <td>0.004759</td>\n",
       "      <td>0.065216</td>\n",
       "      <td>0.027271</td>\n",
       "      <td>0.013850</td>\n",
       "      <td>0.019377</td>\n",
       "      <td>0.281663</td>\n",
       "    </tr>\n",
       "    <tr>\n",
       "      <th>Rings</th>\n",
       "      <td>0.215562</td>\n",
       "      <td>0.183872</td>\n",
       "      <td>0.075179</td>\n",
       "      <td>0.854409</td>\n",
       "      <td>0.301204</td>\n",
       "      <td>0.178057</td>\n",
       "      <td>0.281663</td>\n",
       "      <td>10.395266</td>\n",
       "    </tr>\n",
       "  </tbody>\n",
       "</table>\n",
       "</div>"
      ],
      "text/plain": [
       "                  Length  Diameter    Height  Wholeweight  Shuckedweight  \\\n",
       "Length          0.014422  0.011761  0.004157     0.054491       0.023935   \n",
       "Diameter        0.011761  0.009849  0.003461     0.045038       0.019674   \n",
       "Height          0.004157  0.003461  0.001750     0.016803       0.007195   \n",
       "Wholeweight     0.054491  0.045038  0.016803     0.240481       0.105518   \n",
       "Shuckedweight   0.023935  0.019674  0.007195     0.105518       0.049268   \n",
       "Viscera weight  0.011887  0.009787  0.003660     0.051946       0.022675   \n",
       "Shell weight    0.015007  0.012507  0.004759     0.065216       0.027271   \n",
       "Rings           0.215562  0.183872  0.075179     0.854409       0.301204   \n",
       "\n",
       "                Viscera weight  Shell weight      Rings  \n",
       "Length                0.011887      0.015007   0.215562  \n",
       "Diameter              0.009787      0.012507   0.183872  \n",
       "Height                0.003660      0.004759   0.075179  \n",
       "Wholeweight           0.051946      0.065216   0.854409  \n",
       "Shuckedweight         0.022675      0.027271   0.301204  \n",
       "Viscera weight        0.012015      0.013850   0.178057  \n",
       "Shell weight          0.013850      0.019377   0.281663  \n",
       "Rings                 0.178057      0.281663  10.395266  "
      ]
     },
     "execution_count": 33,
     "metadata": {},
     "output_type": "execute_result"
    }
   ],
   "source": [
    "df.cov()"
   ]
  },
  {
   "cell_type": "code",
   "execution_count": 36,
   "id": "f59e1e95",
   "metadata": {},
   "outputs": [
    {
     "data": {
      "text/html": [
       "<div>\n",
       "<style scoped>\n",
       "    .dataframe tbody tr th:only-of-type {\n",
       "        vertical-align: middle;\n",
       "    }\n",
       "\n",
       "    .dataframe tbody tr th {\n",
       "        vertical-align: top;\n",
       "    }\n",
       "\n",
       "    .dataframe thead th {\n",
       "        text-align: right;\n",
       "    }\n",
       "</style>\n",
       "<table border=\"1\" class=\"dataframe\">\n",
       "  <thead>\n",
       "    <tr style=\"text-align: right;\">\n",
       "      <th></th>\n",
       "      <th>Length</th>\n",
       "      <th>Diameter</th>\n",
       "      <th>Height</th>\n",
       "      <th>Wholeweight</th>\n",
       "      <th>Shuckedweight</th>\n",
       "      <th>Viscera weight</th>\n",
       "      <th>Shell weight</th>\n",
       "      <th>Rings</th>\n",
       "    </tr>\n",
       "  </thead>\n",
       "  <tbody>\n",
       "    <tr>\n",
       "      <th>Length</th>\n",
       "      <td>1.000000</td>\n",
       "      <td>0.986812</td>\n",
       "      <td>0.827554</td>\n",
       "      <td>0.925261</td>\n",
       "      <td>0.897914</td>\n",
       "      <td>0.903018</td>\n",
       "      <td>0.897706</td>\n",
       "      <td>0.556720</td>\n",
       "    </tr>\n",
       "    <tr>\n",
       "      <th>Diameter</th>\n",
       "      <td>0.986812</td>\n",
       "      <td>1.000000</td>\n",
       "      <td>0.833684</td>\n",
       "      <td>0.925452</td>\n",
       "      <td>0.893162</td>\n",
       "      <td>0.899724</td>\n",
       "      <td>0.905330</td>\n",
       "      <td>0.574660</td>\n",
       "    </tr>\n",
       "    <tr>\n",
       "      <th>Height</th>\n",
       "      <td>0.827554</td>\n",
       "      <td>0.833684</td>\n",
       "      <td>1.000000</td>\n",
       "      <td>0.819221</td>\n",
       "      <td>0.774972</td>\n",
       "      <td>0.798319</td>\n",
       "      <td>0.817338</td>\n",
       "      <td>0.557467</td>\n",
       "    </tr>\n",
       "    <tr>\n",
       "      <th>Wholeweight</th>\n",
       "      <td>0.925261</td>\n",
       "      <td>0.925452</td>\n",
       "      <td>0.819221</td>\n",
       "      <td>1.000000</td>\n",
       "      <td>0.969405</td>\n",
       "      <td>0.966375</td>\n",
       "      <td>0.955355</td>\n",
       "      <td>0.540390</td>\n",
       "    </tr>\n",
       "    <tr>\n",
       "      <th>Shuckedweight</th>\n",
       "      <td>0.897914</td>\n",
       "      <td>0.893162</td>\n",
       "      <td>0.774972</td>\n",
       "      <td>0.969405</td>\n",
       "      <td>1.000000</td>\n",
       "      <td>0.931961</td>\n",
       "      <td>0.882617</td>\n",
       "      <td>0.420884</td>\n",
       "    </tr>\n",
       "    <tr>\n",
       "      <th>Viscera weight</th>\n",
       "      <td>0.903018</td>\n",
       "      <td>0.899724</td>\n",
       "      <td>0.798319</td>\n",
       "      <td>0.966375</td>\n",
       "      <td>0.931961</td>\n",
       "      <td>1.000000</td>\n",
       "      <td>0.907656</td>\n",
       "      <td>0.503819</td>\n",
       "    </tr>\n",
       "    <tr>\n",
       "      <th>Shell weight</th>\n",
       "      <td>0.897706</td>\n",
       "      <td>0.905330</td>\n",
       "      <td>0.817338</td>\n",
       "      <td>0.955355</td>\n",
       "      <td>0.882617</td>\n",
       "      <td>0.907656</td>\n",
       "      <td>1.000000</td>\n",
       "      <td>0.627574</td>\n",
       "    </tr>\n",
       "    <tr>\n",
       "      <th>Rings</th>\n",
       "      <td>0.556720</td>\n",
       "      <td>0.574660</td>\n",
       "      <td>0.557467</td>\n",
       "      <td>0.540390</td>\n",
       "      <td>0.420884</td>\n",
       "      <td>0.503819</td>\n",
       "      <td>0.627574</td>\n",
       "      <td>1.000000</td>\n",
       "    </tr>\n",
       "  </tbody>\n",
       "</table>\n",
       "</div>"
      ],
      "text/plain": [
       "                  Length  Diameter    Height  Wholeweight  Shuckedweight  \\\n",
       "Length          1.000000  0.986812  0.827554     0.925261       0.897914   \n",
       "Diameter        0.986812  1.000000  0.833684     0.925452       0.893162   \n",
       "Height          0.827554  0.833684  1.000000     0.819221       0.774972   \n",
       "Wholeweight     0.925261  0.925452  0.819221     1.000000       0.969405   \n",
       "Shuckedweight   0.897914  0.893162  0.774972     0.969405       1.000000   \n",
       "Viscera weight  0.903018  0.899724  0.798319     0.966375       0.931961   \n",
       "Shell weight    0.897706  0.905330  0.817338     0.955355       0.882617   \n",
       "Rings           0.556720  0.574660  0.557467     0.540390       0.420884   \n",
       "\n",
       "                Viscera weight  Shell weight     Rings  \n",
       "Length                0.903018      0.897706  0.556720  \n",
       "Diameter              0.899724      0.905330  0.574660  \n",
       "Height                0.798319      0.817338  0.557467  \n",
       "Wholeweight           0.966375      0.955355  0.540390  \n",
       "Shuckedweight         0.931961      0.882617  0.420884  \n",
       "Viscera weight        1.000000      0.907656  0.503819  \n",
       "Shell weight          0.907656      1.000000  0.627574  \n",
       "Rings                 0.503819      0.627574  1.000000  "
      ]
     },
     "execution_count": 36,
     "metadata": {},
     "output_type": "execute_result"
    }
   ],
   "source": [
    "df.corr()"
   ]
  },
  {
   "cell_type": "code",
   "execution_count": 43,
   "id": "bdc222c5",
   "metadata": {},
   "outputs": [
    {
     "data": {
      "image/png": "[encoded data removed]",
      "text/plain": [
       "<Figure size 432x288 with 2 Axes>"
      ]
     },
     "metadata": {
      "needs_background": "light"
     },
     "output_type": "display_data"
    }
   ],
   "source": [
    "sns.heatmap(df.corr())\n",
    "plt.show()"
   ]
  },
  {
   "cell_type": "markdown",
   "id": "3c4addfe",
   "metadata": {},
   "source": [
    "##### That's a quick go through on Statistical part of Python using a dataset which helped to find the relation connecting Rings with the rest of the factors which in turn will help the user to find the age."
   ]
  },
  {
   "cell_type": "code",
   "execution_count": null,
   "id": "68697381",
   "metadata": {},
   "outputs": [],
   "source": []
  }
 ],
 "metadata": {
  "kernelspec": {
   "display_name": "Python 3 (ipykernel)",
   "language": "python",
   "name": "python3"
  },
  "language_info": {
   "codemirror_mode": {
    "name": "ipython",
    "version": 3
   },
   "file_extension": ".py",
   "mimetype": "text/x-python",
   "name": "python",
   "nbconvert_exporter": "python",
   "pygments_lexer": "ipython3",
   "version": "3.9.12"
  }
 },
 "nbformat": 4,
 "nbformat_minor": 5
}
