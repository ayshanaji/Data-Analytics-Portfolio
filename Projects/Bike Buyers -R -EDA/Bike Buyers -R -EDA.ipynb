{
 "cells": [
  {
   "cell_type": "markdown",
   "id": "f276adae",
   "metadata": {},
   "source": [
    "### <u>Bike Buyers- A Quick Insights<u>"
   ]
  },
  {
   "cell_type": "markdown",
   "id": "67177c90",
   "metadata": {},
   "source": [
    "#### Data of 1000 rows with details of bike buyers with a categorical output variable"
   ]
  },
  {
   "cell_type": "markdown",
   "id": "c806d7f2",
   "metadata": {},
   "source": [
    "### <u>Abstract<u>\n",
    "* This dataset has details of 1000 users from different backgrounds and whether or not they buy a bike. This data can be used for prediction models using Machine Learning Algorithms. There are some NA values injected in the dataset. Use this dataset for Data Cleaning, Exploration and Visualization.\n",
    "\n",
    "<u>**Columns -**<u>\n",
    "\n",
    "* ID\n",
    "* Marital Status\n",
    "* Gender\n",
    "* Income\n",
    "* Children\n",
    "* Education\n",
    "* Occupation\n",
    "* Home Owner\n",
    "* Cars\n",
    "* Commute Distance\n",
    "* Region\n",
    "* Age\n",
    "* Purchased Bike"
   ]
  },
  {
   "cell_type": "markdown",
   "id": "01c8124c",
   "metadata": {},
   "source": [
    "### <u>Structure<u>\n",
    "* Part 1: **Importing Libraries**\n",
    "* Part 2: **Reading the data**\n",
    "* Part 3: **Exploring the data**\n",
    "* Part 4: **Cleaning the data**\n",
    "* part 5: **Analysing and Visualization the data**\n",
    "* part 6: **Conclusion**\n"
   ]
  },
  {
   "cell_type": "markdown",
   "id": "ca00fa40",
   "metadata": {},
   "source": [
    "#### Installing and importing required packages "
   ]
  },
  {
   "cell_type": "code",
   "execution_count": 1,
   "id": "f0ba547c",
   "metadata": {
    "scrolled": true
   },
   "outputs": [
    {
     "name": "stdout",
     "output_type": "stream",
     "text": [
      "\n",
      "  There is a binary version available but the source version is later:\n",
      "       binary source needs_compilation\n",
      "plotly  4.9.3 4.10.0             FALSE\n",
      "\n"
     ]
    },
    {
     "name": "stderr",
     "output_type": "stream",
     "text": [
      "installing the source package 'plotly'\n",
      "\n"
     ]
    }
   ],
   "source": [
    "install.packages(\"plotly\")"
   ]
  },
  {
   "cell_type": "code",
   "execution_count": 2,
   "id": "9f04053b",
   "metadata": {},
   "outputs": [
    {
     "name": "stdout",
     "output_type": "stream",
     "text": [
      "package 'hrbrthemes' successfully unpacked and MD5 sums checked\n",
      "\n",
      "The downloaded binary packages are in\n",
      "\tC:\\Users\\User\\AppData\\Local\\Temp\\RtmpOciquc\\downloaded_packages\n"
     ]
    }
   ],
   "source": [
    "install.packages(\"hrbrthemes\")"
   ]
  },
  {
   "cell_type": "code",
   "execution_count": 3,
   "id": "1ff0e648",
   "metadata": {
    "scrolled": true
   },
   "outputs": [
    {
     "name": "stderr",
     "output_type": "stream",
     "text": [
      "Warning message:\n",
      "\"package 'dplyr' was built under R version 3.6.3\"\n",
      "Attaching package: 'dplyr'\n",
      "\n",
      "The following objects are masked from 'package:stats':\n",
      "\n",
      "    filter, lag\n",
      "\n",
      "The following objects are masked from 'package:base':\n",
      "\n",
      "    intersect, setdiff, setequal, union\n",
      "\n",
      "Loading required package: ggplot2\n",
      "\n",
      "Attaching package: 'plotly'\n",
      "\n",
      "The following object is masked from 'package:ggplot2':\n",
      "\n",
      "    last_plot\n",
      "\n",
      "The following object is masked from 'package:stats':\n",
      "\n",
      "    filter\n",
      "\n",
      "The following object is masked from 'package:graphics':\n",
      "\n",
      "    layout\n",
      "\n",
      "Warning message:\n",
      "\"package 'hrbrthemes' was built under R version 3.6.3\"NOTE: Either Arial Narrow or Roboto Condensed fonts are required to use these themes.\n",
      "      Please use hrbrthemes::import_roboto_condensed() to install Roboto Condensed and\n",
      "      if Arial Narrow is not on your system, please see https://bit.ly/arialnarrow\n",
      "Warning message:\n",
      "\"package 'tidyr' was built under R version 3.6.3\""
     ]
    }
   ],
   "source": [
    "library(dplyr)\n",
    "library(plotly)\n",
    "library(ggplot2)     #imports library ggplot2\n",
    "library(hrbrthemes)  #imports library hrbrthemes\n",
    "library (tidyr)      #imports the tidyverse package\n",
    "#library(viridis)     #imports the library viridis\n",
    "#library(gmodels)\n",
    "#library(datasets)"
   ]
  },
  {
   "cell_type": "markdown",
   "id": "f0f595b5",
   "metadata": {},
   "source": [
    "#### Reading the dataset "
   ]
  },
  {
   "cell_type": "code",
   "execution_count": 4,
   "id": "d7ddf22e",
   "metadata": {},
   "outputs": [
    {
     "data": {
      "text/html": [
       "<table>\n",
       "<thead><tr><th scope=col>X</th><th scope=col>ID</th><th scope=col>Marital.Status</th><th scope=col>Gender</th><th scope=col>Income</th><th scope=col>Children</th><th scope=col>Education</th><th scope=col>Occupation</th><th scope=col>Home.Owner</th><th scope=col>Cars</th><th scope=col>Commute.Distance</th><th scope=col>Region</th><th scope=col>Age</th><th scope=col>Purchased.Bike</th></tr></thead>\n",
       "<tbody>\n",
       "\t<tr><td> 1                 </td><td>12496              </td><td>Married            </td><td>Female             </td><td> 40000             </td><td>1                  </td><td>Bachelors          </td><td>Skilled Manual     </td><td>Yes                </td><td>0.000000           </td><td>0-1 Miles          </td><td>Europe             </td><td>42                 </td><td>No                 </td></tr>\n",
       "\t<tr><td> 2                 </td><td>24107              </td><td>Married            </td><td>Male               </td><td> 30000             </td><td>3                  </td><td>Partial College    </td><td>Clerical           </td><td>Yes                </td><td>1.000000           </td><td>0-1 Miles          </td><td>Europe             </td><td>43                 </td><td>No                 </td></tr>\n",
       "\t<tr><td> 3                 </td><td>14177              </td><td>Married            </td><td>Male               </td><td> 80000             </td><td>5                  </td><td>Partial College    </td><td>Professional       </td><td>No                 </td><td>2.000000           </td><td>2-5 Miles          </td><td>Europe             </td><td>60                 </td><td>No                 </td></tr>\n",
       "\t<tr><td> 4                 </td><td>24381              </td><td>Single             </td><td>Male               </td><td> 70000             </td><td>0                  </td><td>Bachelors          </td><td>Professional       </td><td>Yes                </td><td>1.000000           </td><td>5-10 Miles         </td><td>Pacific            </td><td>41                 </td><td>Yes                </td></tr>\n",
       "\t<tr><td> 5                 </td><td>25597              </td><td>Single             </td><td>Male               </td><td> 30000             </td><td>0                  </td><td>Bachelors          </td><td>Clerical           </td><td>No                 </td><td>0.000000           </td><td>0-1 Miles          </td><td>Europe             </td><td>36                 </td><td>Yes                </td></tr>\n",
       "\t<tr><td> 6                 </td><td>13507              </td><td>Married            </td><td>Female             </td><td> 10000             </td><td>2                  </td><td>Partial College    </td><td>Manual             </td><td>Yes                </td><td>0.000000           </td><td>1-2 Miles          </td><td>Europe             </td><td>50                 </td><td>No                 </td></tr>\n",
       "\t<tr><td> 7                 </td><td>27974              </td><td>Single             </td><td>Male               </td><td>160000             </td><td>2                  </td><td>High School        </td><td>Management         </td><td>Yes                </td><td>4.000000           </td><td>0-1 Miles          </td><td>Pacific            </td><td>33                 </td><td>Yes                </td></tr>\n",
       "\t<tr><td> 8                 </td><td>19364              </td><td>Married            </td><td>Male               </td><td> 40000             </td><td>1                  </td><td>Bachelors          </td><td>Skilled Manual     </td><td>Yes                </td><td>0.000000           </td><td>0-1 Miles          </td><td>Europe             </td><td>43                 </td><td>Yes                </td></tr>\n",
       "\t<tr><td> 9                 </td><td>22155              </td><td>Married            </td><td>Male               </td><td> 20000             </td><td>2                  </td><td>Partial High School</td><td>Clerical           </td><td>Yes                </td><td>2.000000           </td><td>5-10 Miles         </td><td>Pacific            </td><td>58                 </td><td>No                 </td></tr>\n",
       "\t<tr><td>10                 </td><td>19280              </td><td>Married            </td><td>Male               </td><td> 60000             </td><td>2                  </td><td>Partial College    </td><td>Manual             </td><td>Yes                </td><td>1.000000           </td><td>0-1 Miles          </td><td>Europe             </td><td>43                 </td><td>Yes                </td></tr>\n",
       "\t<tr><td>11                 </td><td>22173              </td><td>Married            </td><td>Female             </td><td> 30000             </td><td>3                  </td><td>High School        </td><td>Skilled Manual     </td><td>No                 </td><td>2.000000           </td><td>1-2 Miles          </td><td>Pacific            </td><td>54                 </td><td>Yes                </td></tr>\n",
       "\t<tr><td>12                 </td><td>12697              </td><td>Single             </td><td>Female             </td><td> 90000             </td><td>0                  </td><td>Bachelors          </td><td>Professional       </td><td>No                 </td><td>4.000000           </td><td>10+ Miles          </td><td>Pacific            </td><td>36                 </td><td>No                 </td></tr>\n",
       "\t<tr><td>13                 </td><td>11434              </td><td>Married            </td><td>Male               </td><td>170000             </td><td>5                  </td><td>Partial College    </td><td>Professional       </td><td>Yes                </td><td>1.455096           </td><td>0-1 Miles          </td><td>Europe             </td><td>55                 </td><td>No                 </td></tr>\n",
       "\t<tr><td>14                 </td><td>25323              </td><td>Married            </td><td>Male               </td><td> 40000             </td><td>2                  </td><td>Partial College    </td><td>Clerical           </td><td>Yes                </td><td>1.000000           </td><td>1-2 Miles          </td><td>Europe             </td><td>35                 </td><td>Yes                </td></tr>\n",
       "\t<tr><td>15                 </td><td>23542              </td><td>Single             </td><td>Male               </td><td> 60000             </td><td>1                  </td><td>Partial College    </td><td>Skilled Manual     </td><td>No                 </td><td>1.000000           </td><td>0-1 Miles          </td><td>Pacific            </td><td>45                 </td><td>Yes                </td></tr>\n",
       "\t<tr><td>16                 </td><td>20870              </td><td>Single             </td><td>Female             </td><td> 10000             </td><td>2                  </td><td>High School        </td><td>Manual             </td><td>Yes                </td><td>1.000000           </td><td>0-1 Miles          </td><td>Europe             </td><td>38                 </td><td>Yes                </td></tr>\n",
       "\t<tr><td>17                 </td><td>23316              </td><td>Single             </td><td>Male               </td><td> 30000             </td><td>3                  </td><td>Partial College    </td><td>Clerical           </td><td>No                 </td><td>2.000000           </td><td>1-2 Miles          </td><td>Pacific            </td><td>59                 </td><td>Yes                </td></tr>\n",
       "\t<tr><td>18                 </td><td>12610              </td><td>Married            </td><td>Female             </td><td> 30000             </td><td>1                  </td><td>Bachelors          </td><td>Clerical           </td><td>Yes                </td><td>0.000000           </td><td>0-1 Miles          </td><td>Europe             </td><td>47                 </td><td>No                 </td></tr>\n",
       "\t<tr><td>19                 </td><td>27183              </td><td>Single             </td><td>Male               </td><td> 40000             </td><td>2                  </td><td>Partial College    </td><td>Clerical           </td><td>Yes                </td><td>1.000000           </td><td>1-2 Miles          </td><td>Europe             </td><td>35                 </td><td>Yes                </td></tr>\n",
       "\t<tr><td>20                 </td><td>25940              </td><td>Single             </td><td>Male               </td><td> 20000             </td><td>2                  </td><td>Partial High School</td><td>Clerical           </td><td>Yes                </td><td>2.000000           </td><td>5-10 Miles         </td><td>Pacific            </td><td>55                 </td><td>Yes                </td></tr>\n",
       "\t<tr><td>21                 </td><td>25598              </td><td>Married            </td><td>Female             </td><td> 40000             </td><td>0                  </td><td>Graduate Degree    </td><td>Clerical           </td><td>Yes                </td><td>0.000000           </td><td>0-1 Miles          </td><td>Europe             </td><td>36                 </td><td>Yes                </td></tr>\n",
       "\t<tr><td>22                 </td><td>21564              </td><td>Single             </td><td>Female             </td><td> 80000             </td><td>0                  </td><td>Bachelors          </td><td>Professional       </td><td>Yes                </td><td>4.000000           </td><td>10+ Miles          </td><td>Pacific            </td><td>35                 </td><td>No                 </td></tr>\n",
       "\t<tr><td>23                 </td><td>19193              </td><td>Single             </td><td>Male               </td><td> 40000             </td><td>2                  </td><td>Partial College    </td><td>Clerical           </td><td>Yes                </td><td>0.000000           </td><td>1-2 Miles          </td><td>Europe             </td><td>35                 </td><td>Yes                </td></tr>\n",
       "\t<tr><td>24                 </td><td>26412              </td><td>Married            </td><td>Female             </td><td> 80000             </td><td>5                  </td><td>High School        </td><td>Management         </td><td>No                 </td><td>3.000000           </td><td>5-10 Miles         </td><td>Europe             </td><td>56                 </td><td>No                 </td></tr>\n",
       "\t<tr><td>25                 </td><td>27184              </td><td>Single             </td><td>Male               </td><td> 40000             </td><td>2                  </td><td>Partial College    </td><td>Clerical           </td><td>No                 </td><td>1.000000           </td><td>0-1 Miles          </td><td>Europe             </td><td>34                 </td><td>No                 </td></tr>\n",
       "\t<tr><td>26                 </td><td>12590              </td><td>Single             </td><td>Male               </td><td> 30000             </td><td>1                  </td><td>Bachelors          </td><td>Clerical           </td><td>Yes                </td><td>0.000000           </td><td>0-1 Miles          </td><td>Europe             </td><td>63                 </td><td>No                 </td></tr>\n",
       "\t<tr><td>27                 </td><td>17841              </td><td>Single             </td><td>Male               </td><td> 30000             </td><td>0                  </td><td>Partial College    </td><td>Clerical           </td><td>No                 </td><td>1.000000           </td><td>0-1 Miles          </td><td>Europe             </td><td>29                 </td><td>Yes                </td></tr>\n",
       "\t<tr><td>28                 </td><td>18283              </td><td>Married            </td><td>Female             </td><td>100000             </td><td>0                  </td><td>Bachelors          </td><td>Professional       </td><td>No                 </td><td>1.000000           </td><td>5-10 Miles         </td><td>Pacific            </td><td>40                 </td><td>No                 </td></tr>\n",
       "\t<tr><td>29                 </td><td>18299              </td><td>Married            </td><td>Male               </td><td> 70000             </td><td>5                  </td><td>Partial College    </td><td>Skilled Manual     </td><td>Yes                </td><td>2.000000           </td><td>5-10 Miles         </td><td>Pacific            </td><td>44                 </td><td>No                 </td></tr>\n",
       "\t<tr><td>30                 </td><td>16466              </td><td>Single             </td><td>Female             </td><td> 20000             </td><td>0                  </td><td>Partial High School</td><td>Manual             </td><td>No                 </td><td>2.000000           </td><td>0-1 Miles          </td><td>Europe             </td><td>32                 </td><td>Yes                </td></tr>\n",
       "\t<tr><td>...</td><td>...</td><td>...</td><td>...</td><td>...</td><td>...</td><td>...</td><td>...</td><td>...</td><td>...</td><td>...</td><td>...</td><td>...</td><td>...</td></tr>\n",
       "\t<tr><td> 971               </td><td>26576              </td><td>Married            </td><td>Female             </td><td> 60000             </td><td>0                  </td><td>Partial College    </td><td>Skilled Manual     </td><td>Yes                </td><td>2                  </td><td>5-10 Miles         </td><td>North America      </td><td>31                 </td><td>No                 </td></tr>\n",
       "\t<tr><td> 972               </td><td>12192              </td><td>Single             </td><td>Female             </td><td> 60000             </td><td>2                  </td><td>Partial High School</td><td>Skilled Manual     </td><td>No                 </td><td>2                  </td><td>1-2 Miles          </td><td>North America      </td><td>51                 </td><td>No                 </td></tr>\n",
       "\t<tr><td> 973               </td><td>14887              </td><td>Married            </td><td>Female             </td><td> 30000             </td><td>1                  </td><td>High School        </td><td>Clerical           </td><td>Yes                </td><td>1                  </td><td>5-10 Miles         </td><td>North America      </td><td>52                 </td><td>No                 </td></tr>\n",
       "\t<tr><td> 974               </td><td>11734              </td><td>Married            </td><td>Male               </td><td> 60000             </td><td>1                  </td><td>Partial College    </td><td>Skilled Manual     </td><td>No                 </td><td>1                  </td><td>0-1 Miles          </td><td>North America      </td><td>47                 </td><td>No                 </td></tr>\n",
       "\t<tr><td> 975               </td><td>17462              </td><td>Married            </td><td>Male               </td><td> 70000             </td><td>3                  </td><td>Graduate Degree    </td><td>Management         </td><td>Yes                </td><td>2                  </td><td>5-10 Miles         </td><td>North America      </td><td>53                 </td><td>Yes                </td></tr>\n",
       "\t<tr><td> 976               </td><td>20659              </td><td>Married            </td><td>Male               </td><td> 70000             </td><td>3                  </td><td>Graduate Degree    </td><td>Professional       </td><td>Yes                </td><td>0                  </td><td>0-1 Miles          </td><td>North America      </td><td>35                 </td><td>Yes                </td></tr>\n",
       "\t<tr><td> 977               </td><td>28004              </td><td>Married            </td><td>Female             </td><td> 60000             </td><td>3                  </td><td>Bachelors          </td><td>Management         </td><td>Yes                </td><td>2                  </td><td>10+ Miles          </td><td>North America      </td><td>66                 </td><td>No                 </td></tr>\n",
       "\t<tr><td> 978               </td><td>19741              </td><td>Single             </td><td>Female             </td><td> 80000             </td><td>4                  </td><td>Graduate Degree    </td><td>Management         </td><td>Yes                </td><td>2                  </td><td>5-10 Miles         </td><td>North America      </td><td>65                 </td><td>No                 </td></tr>\n",
       "\t<tr><td> 979               </td><td>17450              </td><td>Married            </td><td>Male               </td><td> 80000             </td><td>5                  </td><td>Partial College    </td><td>Professional       </td><td>Yes                </td><td>3                  </td><td>5-10 Miles         </td><td>North America      </td><td>45                 </td><td>No                 </td></tr>\n",
       "\t<tr><td> 980               </td><td>17337              </td><td>Single             </td><td>Male               </td><td> 40000             </td><td>0                  </td><td>High School        </td><td>Skilled Manual     </td><td>Yes                </td><td>1                  </td><td>5-10 Miles         </td><td>North America      </td><td>31                 </td><td>No                 </td></tr>\n",
       "\t<tr><td> 981               </td><td>18594              </td><td>Single             </td><td>Female             </td><td> 80000             </td><td>3                  </td><td>Bachelors          </td><td>Skilled Manual     </td><td>Yes                </td><td>3                  </td><td>10+ Miles          </td><td>North America      </td><td>40                 </td><td>Yes                </td></tr>\n",
       "\t<tr><td> 982               </td><td>15982              </td><td>Married            </td><td>Male               </td><td>110000             </td><td>5                  </td><td>Partial College    </td><td>Professional       </td><td>Yes                </td><td>4                  </td><td>2-5 Miles          </td><td>North America      </td><td>46                 </td><td>No                 </td></tr>\n",
       "\t<tr><td> 983               </td><td>28625              </td><td>Single             </td><td>Male               </td><td> 40000             </td><td>2                  </td><td>Partial College    </td><td>Clerical           </td><td>No                 </td><td>1                  </td><td>1-2 Miles          </td><td>North America      </td><td>47                 </td><td>Yes                </td></tr>\n",
       "\t<tr><td> 984               </td><td>11269              </td><td>Married            </td><td>Male               </td><td>130000             </td><td>2                  </td><td>Graduate Degree    </td><td>Management         </td><td>Yes                </td><td>2                  </td><td>0-1 Miles          </td><td>North America      </td><td>41                 </td><td>No                 </td></tr>\n",
       "\t<tr><td> 985               </td><td>25148              </td><td>Married            </td><td>Male               </td><td> 60000             </td><td>2                  </td><td>High School        </td><td>Professional       </td><td>No                 </td><td>2                  </td><td>1-2 Miles          </td><td>North America      </td><td>48                 </td><td>Yes                </td></tr>\n",
       "\t<tr><td> 986               </td><td>13920              </td><td>Single             </td><td>Female             </td><td> 50000             </td><td>4                  </td><td>Bachelors          </td><td>Skilled Manual     </td><td>Yes                </td><td>2                  </td><td>0-1 Miles          </td><td>North America      </td><td>42                 </td><td>No                 </td></tr>\n",
       "\t<tr><td> 987               </td><td>23704              </td><td>Single             </td><td>Male               </td><td> 40000             </td><td>5                  </td><td>High School        </td><td>Professional       </td><td>Yes                </td><td>4                  </td><td>10+ Miles          </td><td>North America      </td><td>43                 </td><td>Yes                </td></tr>\n",
       "\t<tr><td> 988               </td><td>28972              </td><td>Single             </td><td>Female             </td><td> 60000             </td><td>3                  </td><td>Graduate Degree    </td><td>Management         </td><td>Yes                </td><td>2                  </td><td>10+ Miles          </td><td>North America      </td><td>66                 </td><td>No                 </td></tr>\n",
       "\t<tr><td> 989               </td><td>22730              </td><td>Married            </td><td>Male               </td><td> 70000             </td><td>5                  </td><td>Bachelors          </td><td>Management         </td><td>Yes                </td><td>2                  </td><td>10+ Miles          </td><td>North America      </td><td>63                 </td><td>No                 </td></tr>\n",
       "\t<tr><td> 990               </td><td>29134              </td><td>Married            </td><td>Male               </td><td> 60000             </td><td>4                  </td><td>Bachelors          </td><td>Skilled Manual     </td><td>No                 </td><td>3                  </td><td>10+ Miles          </td><td>North America      </td><td>42                 </td><td>No                 </td></tr>\n",
       "\t<tr><td> 991               </td><td>14332              </td><td>Single             </td><td>Female             </td><td> 30000             </td><td>0                  </td><td>High School        </td><td>Skilled Manual     </td><td>No                 </td><td>2                  </td><td>5-10 Miles         </td><td>North America      </td><td>26                 </td><td>No                 </td></tr>\n",
       "\t<tr><td> 992               </td><td>19117              </td><td>Single             </td><td>Female             </td><td> 60000             </td><td>1                  </td><td>Graduate Degree    </td><td>Professional       </td><td>Yes                </td><td>0                  </td><td>2-5 Miles          </td><td>North America      </td><td>36                 </td><td>Yes                </td></tr>\n",
       "\t<tr><td> 993               </td><td>22864              </td><td>Married            </td><td>Male               </td><td> 90000             </td><td>2                  </td><td>Partial College    </td><td>Professional       </td><td>No                 </td><td>0                  </td><td>5-10 Miles         </td><td>North America      </td><td>49                 </td><td>Yes                </td></tr>\n",
       "\t<tr><td> 994               </td><td>11292              </td><td>Single             </td><td>Male               </td><td>150000             </td><td>1                  </td><td>Partial College    </td><td>Professional       </td><td>No                 </td><td>3                  </td><td>0-1 Miles          </td><td>North America      </td><td>44                 </td><td>Yes                </td></tr>\n",
       "\t<tr><td> 995               </td><td>13466              </td><td>Married            </td><td>Male               </td><td> 80000             </td><td>5                  </td><td>Partial College    </td><td>Professional       </td><td>Yes                </td><td>3                  </td><td>1-2 Miles          </td><td>North America      </td><td>46                 </td><td>No                 </td></tr>\n",
       "\t<tr><td> 996               </td><td>23731              </td><td>Married            </td><td>Male               </td><td> 60000             </td><td>2                  </td><td>High School        </td><td>Professional       </td><td>Yes                </td><td>2                  </td><td>2-5 Miles          </td><td>North America      </td><td>54                 </td><td>Yes                </td></tr>\n",
       "\t<tr><td> 997               </td><td>28672              </td><td>Single             </td><td>Male               </td><td> 70000             </td><td>4                  </td><td>Graduate Degree    </td><td>Professional       </td><td>Yes                </td><td>0                  </td><td>2-5 Miles          </td><td>North America      </td><td>35                 </td><td>Yes                </td></tr>\n",
       "\t<tr><td> 998               </td><td>11809              </td><td>Married            </td><td>Male               </td><td> 60000             </td><td>2                  </td><td>Bachelors          </td><td>Skilled Manual     </td><td>Yes                </td><td>0                  </td><td>0-1 Miles          </td><td>North America      </td><td>38                 </td><td>Yes                </td></tr>\n",
       "\t<tr><td> 999               </td><td>19664              </td><td>Single             </td><td>Male               </td><td>100000             </td><td>3                  </td><td>Bachelors          </td><td>Management         </td><td>No                 </td><td>3                  </td><td>1-2 Miles          </td><td>North America      </td><td>38                 </td><td>No                 </td></tr>\n",
       "\t<tr><td>1000               </td><td>12121              </td><td>Single             </td><td>Male               </td><td> 60000             </td><td>3                  </td><td>High School        </td><td>Professional       </td><td>Yes                </td><td>2                  </td><td>10+ Miles          </td><td>North America      </td><td>53                 </td><td>Yes                </td></tr>\n",
       "</tbody>\n",
       "</table>\n"
      ],
      "text/latex": [
       "\\begin{tabular}{r|llllllllllllll}\n",
       " X & ID & Marital.Status & Gender & Income & Children & Education & Occupation & Home.Owner & Cars & Commute.Distance & Region & Age & Purchased.Bike\\\\\n",
       "\\hline\n",
       "\t  1                  & 12496               & Married             & Female              &  40000              & 1                   & Bachelors           & Skilled Manual      & Yes                 & 0.000000            & 0-1 Miles           & Europe              & 42                  & No                 \\\\\n",
       "\t  2                  & 24107               & Married             & Male                &  30000              & 3                   & Partial College     & Clerical            & Yes                 & 1.000000            & 0-1 Miles           & Europe              & 43                  & No                 \\\\\n",
       "\t  3                  & 14177               & Married             & Male                &  80000              & 5                   & Partial College     & Professional        & No                  & 2.000000            & 2-5 Miles           & Europe              & 60                  & No                 \\\\\n",
       "\t  4                  & 24381               & Single              & Male                &  70000              & 0                   & Bachelors           & Professional        & Yes                 & 1.000000            & 5-10 Miles          & Pacific             & 41                  & Yes                \\\\\n",
       "\t  5                  & 25597               & Single              & Male                &  30000              & 0                   & Bachelors           & Clerical            & No                  & 0.000000            & 0-1 Miles           & Europe              & 36                  & Yes                \\\\\n",
       "\t  6                  & 13507               & Married             & Female              &  10000              & 2                   & Partial College     & Manual              & Yes                 & 0.000000            & 1-2 Miles           & Europe              & 50                  & No                 \\\\\n",
       "\t  7                  & 27974               & Single              & Male                & 160000              & 2                   & High School         & Management          & Yes                 & 4.000000            & 0-1 Miles           & Pacific             & 33                  & Yes                \\\\\n",
       "\t  8                  & 19364               & Married             & Male                &  40000              & 1                   & Bachelors           & Skilled Manual      & Yes                 & 0.000000            & 0-1 Miles           & Europe              & 43                  & Yes                \\\\\n",
       "\t  9                  & 22155               & Married             & Male                &  20000              & 2                   & Partial High School & Clerical            & Yes                 & 2.000000            & 5-10 Miles          & Pacific             & 58                  & No                 \\\\\n",
       "\t 10                  & 19280               & Married             & Male                &  60000              & 2                   & Partial College     & Manual              & Yes                 & 1.000000            & 0-1 Miles           & Europe              & 43                  & Yes                \\\\\n",
       "\t 11                  & 22173               & Married             & Female              &  30000              & 3                   & High School         & Skilled Manual      & No                  & 2.000000            & 1-2 Miles           & Pacific             & 54                  & Yes                \\\\\n",
       "\t 12                  & 12697               & Single              & Female              &  90000              & 0                   & Bachelors           & Professional        & No                  & 4.000000            & 10+ Miles           & Pacific             & 36                  & No                 \\\\\n",
       "\t 13                  & 11434               & Married             & Male                & 170000              & 5                   & Partial College     & Professional        & Yes                 & 1.455096            & 0-1 Miles           & Europe              & 55                  & No                 \\\\\n",
       "\t 14                  & 25323               & Married             & Male                &  40000              & 2                   & Partial College     & Clerical            & Yes                 & 1.000000            & 1-2 Miles           & Europe              & 35                  & Yes                \\\\\n",
       "\t 15                  & 23542               & Single              & Male                &  60000              & 1                   & Partial College     & Skilled Manual      & No                  & 1.000000            & 0-1 Miles           & Pacific             & 45                  & Yes                \\\\\n",
       "\t 16                  & 20870               & Single              & Female              &  10000              & 2                   & High School         & Manual              & Yes                 & 1.000000            & 0-1 Miles           & Europe              & 38                  & Yes                \\\\\n",
       "\t 17                  & 23316               & Single              & Male                &  30000              & 3                   & Partial College     & Clerical            & No                  & 2.000000            & 1-2 Miles           & Pacific             & 59                  & Yes                \\\\\n",
       "\t 18                  & 12610               & Married             & Female              &  30000              & 1                   & Bachelors           & Clerical            & Yes                 & 0.000000            & 0-1 Miles           & Europe              & 47                  & No                 \\\\\n",
       "\t 19                  & 27183               & Single              & Male                &  40000              & 2                   & Partial College     & Clerical            & Yes                 & 1.000000            & 1-2 Miles           & Europe              & 35                  & Yes                \\\\\n",
       "\t 20                  & 25940               & Single              & Male                &  20000              & 2                   & Partial High School & Clerical            & Yes                 & 2.000000            & 5-10 Miles          & Pacific             & 55                  & Yes                \\\\\n",
       "\t 21                  & 25598               & Married             & Female              &  40000              & 0                   & Graduate Degree     & Clerical            & Yes                 & 0.000000            & 0-1 Miles           & Europe              & 36                  & Yes                \\\\\n",
       "\t 22                  & 21564               & Single              & Female              &  80000              & 0                   & Bachelors           & Professional        & Yes                 & 4.000000            & 10+ Miles           & Pacific             & 35                  & No                 \\\\\n",
       "\t 23                  & 19193               & Single              & Male                &  40000              & 2                   & Partial College     & Clerical            & Yes                 & 0.000000            & 1-2 Miles           & Europe              & 35                  & Yes                \\\\\n",
       "\t 24                  & 26412               & Married             & Female              &  80000              & 5                   & High School         & Management          & No                  & 3.000000            & 5-10 Miles          & Europe              & 56                  & No                 \\\\\n",
       "\t 25                  & 27184               & Single              & Male                &  40000              & 2                   & Partial College     & Clerical            & No                  & 1.000000            & 0-1 Miles           & Europe              & 34                  & No                 \\\\\n",
       "\t 26                  & 12590               & Single              & Male                &  30000              & 1                   & Bachelors           & Clerical            & Yes                 & 0.000000            & 0-1 Miles           & Europe              & 63                  & No                 \\\\\n",
       "\t 27                  & 17841               & Single              & Male                &  30000              & 0                   & Partial College     & Clerical            & No                  & 1.000000            & 0-1 Miles           & Europe              & 29                  & Yes                \\\\\n",
       "\t 28                  & 18283               & Married             & Female              & 100000              & 0                   & Bachelors           & Professional        & No                  & 1.000000            & 5-10 Miles          & Pacific             & 40                  & No                 \\\\\n",
       "\t 29                  & 18299               & Married             & Male                &  70000              & 5                   & Partial College     & Skilled Manual      & Yes                 & 2.000000            & 5-10 Miles          & Pacific             & 44                  & No                 \\\\\n",
       "\t 30                  & 16466               & Single              & Female              &  20000              & 0                   & Partial High School & Manual              & No                  & 2.000000            & 0-1 Miles           & Europe              & 32                  & Yes                \\\\\n",
       "\t ... & ... & ... & ... & ... & ... & ... & ... & ... & ... & ... & ... & ... & ...\\\\\n",
       "\t  971                & 26576               & Married             & Female              &  60000              & 0                   & Partial College     & Skilled Manual      & Yes                 & 2                   & 5-10 Miles          & North America       & 31                  & No                 \\\\\n",
       "\t  972                & 12192               & Single              & Female              &  60000              & 2                   & Partial High School & Skilled Manual      & No                  & 2                   & 1-2 Miles           & North America       & 51                  & No                 \\\\\n",
       "\t  973                & 14887               & Married             & Female              &  30000              & 1                   & High School         & Clerical            & Yes                 & 1                   & 5-10 Miles          & North America       & 52                  & No                 \\\\\n",
       "\t  974                & 11734               & Married             & Male                &  60000              & 1                   & Partial College     & Skilled Manual      & No                  & 1                   & 0-1 Miles           & North America       & 47                  & No                 \\\\\n",
       "\t  975                & 17462               & Married             & Male                &  70000              & 3                   & Graduate Degree     & Management          & Yes                 & 2                   & 5-10 Miles          & North America       & 53                  & Yes                \\\\\n",
       "\t  976                & 20659               & Married             & Male                &  70000              & 3                   & Graduate Degree     & Professional        & Yes                 & 0                   & 0-1 Miles           & North America       & 35                  & Yes                \\\\\n",
       "\t  977                & 28004               & Married             & Female              &  60000              & 3                   & Bachelors           & Management          & Yes                 & 2                   & 10+ Miles           & North America       & 66                  & No                 \\\\\n",
       "\t  978                & 19741               & Single              & Female              &  80000              & 4                   & Graduate Degree     & Management          & Yes                 & 2                   & 5-10 Miles          & North America       & 65                  & No                 \\\\\n",
       "\t  979                & 17450               & Married             & Male                &  80000              & 5                   & Partial College     & Professional        & Yes                 & 3                   & 5-10 Miles          & North America       & 45                  & No                 \\\\\n",
       "\t  980                & 17337               & Single              & Male                &  40000              & 0                   & High School         & Skilled Manual      & Yes                 & 1                   & 5-10 Miles          & North America       & 31                  & No                 \\\\\n",
       "\t  981                & 18594               & Single              & Female              &  80000              & 3                   & Bachelors           & Skilled Manual      & Yes                 & 3                   & 10+ Miles           & North America       & 40                  & Yes                \\\\\n",
       "\t  982                & 15982               & Married             & Male                & 110000              & 5                   & Partial College     & Professional        & Yes                 & 4                   & 2-5 Miles           & North America       & 46                  & No                 \\\\\n",
       "\t  983                & 28625               & Single              & Male                &  40000              & 2                   & Partial College     & Clerical            & No                  & 1                   & 1-2 Miles           & North America       & 47                  & Yes                \\\\\n",
       "\t  984                & 11269               & Married             & Male                & 130000              & 2                   & Graduate Degree     & Management          & Yes                 & 2                   & 0-1 Miles           & North America       & 41                  & No                 \\\\\n",
       "\t  985                & 25148               & Married             & Male                &  60000              & 2                   & High School         & Professional        & No                  & 2                   & 1-2 Miles           & North America       & 48                  & Yes                \\\\\n",
       "\t  986                & 13920               & Single              & Female              &  50000              & 4                   & Bachelors           & Skilled Manual      & Yes                 & 2                   & 0-1 Miles           & North America       & 42                  & No                 \\\\\n",
       "\t  987                & 23704               & Single              & Male                &  40000              & 5                   & High School         & Professional        & Yes                 & 4                   & 10+ Miles           & North America       & 43                  & Yes                \\\\\n",
       "\t  988                & 28972               & Single              & Female              &  60000              & 3                   & Graduate Degree     & Management          & Yes                 & 2                   & 10+ Miles           & North America       & 66                  & No                 \\\\\n",
       "\t  989                & 22730               & Married             & Male                &  70000              & 5                   & Bachelors           & Management          & Yes                 & 2                   & 10+ Miles           & North America       & 63                  & No                 \\\\\n",
       "\t  990                & 29134               & Married             & Male                &  60000              & 4                   & Bachelors           & Skilled Manual      & No                  & 3                   & 10+ Miles           & North America       & 42                  & No                 \\\\\n",
       "\t  991                & 14332               & Single              & Female              &  30000              & 0                   & High School         & Skilled Manual      & No                  & 2                   & 5-10 Miles          & North America       & 26                  & No                 \\\\\n",
       "\t  992                & 19117               & Single              & Female              &  60000              & 1                   & Graduate Degree     & Professional        & Yes                 & 0                   & 2-5 Miles           & North America       & 36                  & Yes                \\\\\n",
       "\t  993                & 22864               & Married             & Male                &  90000              & 2                   & Partial College     & Professional        & No                  & 0                   & 5-10 Miles          & North America       & 49                  & Yes                \\\\\n",
       "\t  994                & 11292               & Single              & Male                & 150000              & 1                   & Partial College     & Professional        & No                  & 3                   & 0-1 Miles           & North America       & 44                  & Yes                \\\\\n",
       "\t  995                & 13466               & Married             & Male                &  80000              & 5                   & Partial College     & Professional        & Yes                 & 3                   & 1-2 Miles           & North America       & 46                  & No                 \\\\\n",
       "\t  996                & 23731               & Married             & Male                &  60000              & 2                   & High School         & Professional        & Yes                 & 2                   & 2-5 Miles           & North America       & 54                  & Yes                \\\\\n",
       "\t  997                & 28672               & Single              & Male                &  70000              & 4                   & Graduate Degree     & Professional        & Yes                 & 0                   & 2-5 Miles           & North America       & 35                  & Yes                \\\\\n",
       "\t  998                & 11809               & Married             & Male                &  60000              & 2                   & Bachelors           & Skilled Manual      & Yes                 & 0                   & 0-1 Miles           & North America       & 38                  & Yes                \\\\\n",
       "\t  999                & 19664               & Single              & Male                & 100000              & 3                   & Bachelors           & Management          & No                  & 3                   & 1-2 Miles           & North America       & 38                  & No                 \\\\\n",
       "\t 1000                & 12121               & Single              & Male                &  60000              & 3                   & High School         & Professional        & Yes                 & 2                   & 10+ Miles           & North America       & 53                  & Yes                \\\\\n",
       "\\end{tabular}\n"
      ],
      "text/markdown": [
       "\n",
       "| X | ID | Marital.Status | Gender | Income | Children | Education | Occupation | Home.Owner | Cars | Commute.Distance | Region | Age | Purchased.Bike |\n",
       "|---|---|---|---|---|---|---|---|---|---|---|---|---|---|\n",
       "|  1                  | 12496               | Married             | Female              |  40000              | 1                   | Bachelors           | Skilled Manual      | Yes                 | 0.000000            | 0-1 Miles           | Europe              | 42                  | No                  |\n",
       "|  2                  | 24107               | Married             | Male                |  30000              | 3                   | Partial College     | Clerical            | Yes                 | 1.000000            | 0-1 Miles           | Europe              | 43                  | No                  |\n",
       "|  3                  | 14177               | Married             | Male                |  80000              | 5                   | Partial College     | Professional        | No                  | 2.000000            | 2-5 Miles           | Europe              | 60                  | No                  |\n",
       "|  4                  | 24381               | Single              | Male                |  70000              | 0                   | Bachelors           | Professional        | Yes                 | 1.000000            | 5-10 Miles          | Pacific             | 41                  | Yes                 |\n",
       "|  5                  | 25597               | Single              | Male                |  30000              | 0                   | Bachelors           | Clerical            | No                  | 0.000000            | 0-1 Miles           | Europe              | 36                  | Yes                 |\n",
       "|  6                  | 13507               | Married             | Female              |  10000              | 2                   | Partial College     | Manual              | Yes                 | 0.000000            | 1-2 Miles           | Europe              | 50                  | No                  |\n",
       "|  7                  | 27974               | Single              | Male                | 160000              | 2                   | High School         | Management          | Yes                 | 4.000000            | 0-1 Miles           | Pacific             | 33                  | Yes                 |\n",
       "|  8                  | 19364               | Married             | Male                |  40000              | 1                   | Bachelors           | Skilled Manual      | Yes                 | 0.000000            | 0-1 Miles           | Europe              | 43                  | Yes                 |\n",
       "|  9                  | 22155               | Married             | Male                |  20000              | 2                   | Partial High School | Clerical            | Yes                 | 2.000000            | 5-10 Miles          | Pacific             | 58                  | No                  |\n",
       "| 10                  | 19280               | Married             | Male                |  60000              | 2                   | Partial College     | Manual              | Yes                 | 1.000000            | 0-1 Miles           | Europe              | 43                  | Yes                 |\n",
       "| 11                  | 22173               | Married             | Female              |  30000              | 3                   | High School         | Skilled Manual      | No                  | 2.000000            | 1-2 Miles           | Pacific             | 54                  | Yes                 |\n",
       "| 12                  | 12697               | Single              | Female              |  90000              | 0                   | Bachelors           | Professional        | No                  | 4.000000            | 10+ Miles           | Pacific             | 36                  | No                  |\n",
       "| 13                  | 11434               | Married             | Male                | 170000              | 5                   | Partial College     | Professional        | Yes                 | 1.455096            | 0-1 Miles           | Europe              | 55                  | No                  |\n",
       "| 14                  | 25323               | Married             | Male                |  40000              | 2                   | Partial College     | Clerical            | Yes                 | 1.000000            | 1-2 Miles           | Europe              | 35                  | Yes                 |\n",
       "| 15                  | 23542               | Single              | Male                |  60000              | 1                   | Partial College     | Skilled Manual      | No                  | 1.000000            | 0-1 Miles           | Pacific             | 45                  | Yes                 |\n",
       "| 16                  | 20870               | Single              | Female              |  10000              | 2                   | High School         | Manual              | Yes                 | 1.000000            | 0-1 Miles           | Europe              | 38                  | Yes                 |\n",
       "| 17                  | 23316               | Single              | Male                |  30000              | 3                   | Partial College     | Clerical            | No                  | 2.000000            | 1-2 Miles           | Pacific             | 59                  | Yes                 |\n",
       "| 18                  | 12610               | Married             | Female              |  30000              | 1                   | Bachelors           | Clerical            | Yes                 | 0.000000            | 0-1 Miles           | Europe              | 47                  | No                  |\n",
       "| 19                  | 27183               | Single              | Male                |  40000              | 2                   | Partial College     | Clerical            | Yes                 | 1.000000            | 1-2 Miles           | Europe              | 35                  | Yes                 |\n",
       "| 20                  | 25940               | Single              | Male                |  20000              | 2                   | Partial High School | Clerical            | Yes                 | 2.000000            | 5-10 Miles          | Pacific             | 55                  | Yes                 |\n",
       "| 21                  | 25598               | Married             | Female              |  40000              | 0                   | Graduate Degree     | Clerical            | Yes                 | 0.000000            | 0-1 Miles           | Europe              | 36                  | Yes                 |\n",
       "| 22                  | 21564               | Single              | Female              |  80000              | 0                   | Bachelors           | Professional        | Yes                 | 4.000000            | 10+ Miles           | Pacific             | 35                  | No                  |\n",
       "| 23                  | 19193               | Single              | Male                |  40000              | 2                   | Partial College     | Clerical            | Yes                 | 0.000000            | 1-2 Miles           | Europe              | 35                  | Yes                 |\n",
       "| 24                  | 26412               | Married             | Female              |  80000              | 5                   | High School         | Management          | No                  | 3.000000            | 5-10 Miles          | Europe              | 56                  | No                  |\n",
       "| 25                  | 27184               | Single              | Male                |  40000              | 2                   | Partial College     | Clerical            | No                  | 1.000000            | 0-1 Miles           | Europe              | 34                  | No                  |\n",
       "| 26                  | 12590               | Single              | Male                |  30000              | 1                   | Bachelors           | Clerical            | Yes                 | 0.000000            | 0-1 Miles           | Europe              | 63                  | No                  |\n",
       "| 27                  | 17841               | Single              | Male                |  30000              | 0                   | Partial College     | Clerical            | No                  | 1.000000            | 0-1 Miles           | Europe              | 29                  | Yes                 |\n",
       "| 28                  | 18283               | Married             | Female              | 100000              | 0                   | Bachelors           | Professional        | No                  | 1.000000            | 5-10 Miles          | Pacific             | 40                  | No                  |\n",
       "| 29                  | 18299               | Married             | Male                |  70000              | 5                   | Partial College     | Skilled Manual      | Yes                 | 2.000000            | 5-10 Miles          | Pacific             | 44                  | No                  |\n",
       "| 30                  | 16466               | Single              | Female              |  20000              | 0                   | Partial High School | Manual              | No                  | 2.000000            | 0-1 Miles           | Europe              | 32                  | Yes                 |\n",
       "| ... | ... | ... | ... | ... | ... | ... | ... | ... | ... | ... | ... | ... | ... |\n",
       "|  971                | 26576               | Married             | Female              |  60000              | 0                   | Partial College     | Skilled Manual      | Yes                 | 2                   | 5-10 Miles          | North America       | 31                  | No                  |\n",
       "|  972                | 12192               | Single              | Female              |  60000              | 2                   | Partial High School | Skilled Manual      | No                  | 2                   | 1-2 Miles           | North America       | 51                  | No                  |\n",
       "|  973                | 14887               | Married             | Female              |  30000              | 1                   | High School         | Clerical            | Yes                 | 1                   | 5-10 Miles          | North America       | 52                  | No                  |\n",
       "|  974                | 11734               | Married             | Male                |  60000              | 1                   | Partial College     | Skilled Manual      | No                  | 1                   | 0-1 Miles           | North America       | 47                  | No                  |\n",
       "|  975                | 17462               | Married             | Male                |  70000              | 3                   | Graduate Degree     | Management          | Yes                 | 2                   | 5-10 Miles          | North America       | 53                  | Yes                 |\n",
       "|  976                | 20659               | Married             | Male                |  70000              | 3                   | Graduate Degree     | Professional        | Yes                 | 0                   | 0-1 Miles           | North America       | 35                  | Yes                 |\n",
       "|  977                | 28004               | Married             | Female              |  60000              | 3                   | Bachelors           | Management          | Yes                 | 2                   | 10+ Miles           | North America       | 66                  | No                  |\n",
       "|  978                | 19741               | Single              | Female              |  80000              | 4                   | Graduate Degree     | Management          | Yes                 | 2                   | 5-10 Miles          | North America       | 65                  | No                  |\n",
       "|  979                | 17450               | Married             | Male                |  80000              | 5                   | Partial College     | Professional        | Yes                 | 3                   | 5-10 Miles          | North America       | 45                  | No                  |\n",
       "|  980                | 17337               | Single              | Male                |  40000              | 0                   | High School         | Skilled Manual      | Yes                 | 1                   | 5-10 Miles          | North America       | 31                  | No                  |\n",
       "|  981                | 18594               | Single              | Female              |  80000              | 3                   | Bachelors           | Skilled Manual      | Yes                 | 3                   | 10+ Miles           | North America       | 40                  | Yes                 |\n",
       "|  982                | 15982               | Married             | Male                | 110000              | 5                   | Partial College     | Professional        | Yes                 | 4                   | 2-5 Miles           | North America       | 46                  | No                  |\n",
       "|  983                | 28625               | Single              | Male                |  40000              | 2                   | Partial College     | Clerical            | No                  | 1                   | 1-2 Miles           | North America       | 47                  | Yes                 |\n",
       "|  984                | 11269               | Married             | Male                | 130000              | 2                   | Graduate Degree     | Management          | Yes                 | 2                   | 0-1 Miles           | North America       | 41                  | No                  |\n",
       "|  985                | 25148               | Married             | Male                |  60000              | 2                   | High School         | Professional        | No                  | 2                   | 1-2 Miles           | North America       | 48                  | Yes                 |\n",
       "|  986                | 13920               | Single              | Female              |  50000              | 4                   | Bachelors           | Skilled Manual      | Yes                 | 2                   | 0-1 Miles           | North America       | 42                  | No                  |\n",
       "|  987                | 23704               | Single              | Male                |  40000              | 5                   | High School         | Professional        | Yes                 | 4                   | 10+ Miles           | North America       | 43                  | Yes                 |\n",
       "|  988                | 28972               | Single              | Female              |  60000              | 3                   | Graduate Degree     | Management          | Yes                 | 2                   | 10+ Miles           | North America       | 66                  | No                  |\n",
       "|  989                | 22730               | Married             | Male                |  70000              | 5                   | Bachelors           | Management          | Yes                 | 2                   | 10+ Miles           | North America       | 63                  | No                  |\n",
       "|  990                | 29134               | Married             | Male                |  60000              | 4                   | Bachelors           | Skilled Manual      | No                  | 3                   | 10+ Miles           | North America       | 42                  | No                  |\n",
       "|  991                | 14332               | Single              | Female              |  30000              | 0                   | High School         | Skilled Manual      | No                  | 2                   | 5-10 Miles          | North America       | 26                  | No                  |\n",
       "|  992                | 19117               | Single              | Female              |  60000              | 1                   | Graduate Degree     | Professional        | Yes                 | 0                   | 2-5 Miles           | North America       | 36                  | Yes                 |\n",
       "|  993                | 22864               | Married             | Male                |  90000              | 2                   | Partial College     | Professional        | No                  | 0                   | 5-10 Miles          | North America       | 49                  | Yes                 |\n",
       "|  994                | 11292               | Single              | Male                | 150000              | 1                   | Partial College     | Professional        | No                  | 3                   | 0-1 Miles           | North America       | 44                  | Yes                 |\n",
       "|  995                | 13466               | Married             | Male                |  80000              | 5                   | Partial College     | Professional        | Yes                 | 3                   | 1-2 Miles           | North America       | 46                  | No                  |\n",
       "|  996                | 23731               | Married             | Male                |  60000              | 2                   | High School         | Professional        | Yes                 | 2                   | 2-5 Miles           | North America       | 54                  | Yes                 |\n",
       "|  997                | 28672               | Single              | Male                |  70000              | 4                   | Graduate Degree     | Professional        | Yes                 | 0                   | 2-5 Miles           | North America       | 35                  | Yes                 |\n",
       "|  998                | 11809               | Married             | Male                |  60000              | 2                   | Bachelors           | Skilled Manual      | Yes                 | 0                   | 0-1 Miles           | North America       | 38                  | Yes                 |\n",
       "|  999                | 19664               | Single              | Male                | 100000              | 3                   | Bachelors           | Management          | No                  | 3                   | 1-2 Miles           | North America       | 38                  | No                  |\n",
       "| 1000                | 12121               | Single              | Male                |  60000              | 3                   | High School         | Professional        | Yes                 | 2                   | 10+ Miles           | North America       | 53                  | Yes                 |\n",
       "\n"
      ],
      "text/plain": [
       "     X    ID    Marital.Status Gender Income Children Education          \n",
       "1     1   12496 Married        Female  40000 1        Bachelors          \n",
       "2     2   24107 Married        Male    30000 3        Partial College    \n",
       "3     3   14177 Married        Male    80000 5        Partial College    \n",
       "4     4   24381 Single         Male    70000 0        Bachelors          \n",
       "5     5   25597 Single         Male    30000 0        Bachelors          \n",
       "6     6   13507 Married        Female  10000 2        Partial College    \n",
       "7     7   27974 Single         Male   160000 2        High School        \n",
       "8     8   19364 Married        Male    40000 1        Bachelors          \n",
       "9     9   22155 Married        Male    20000 2        Partial High School\n",
       "10   10   19280 Married        Male    60000 2        Partial College    \n",
       "11   11   22173 Married        Female  30000 3        High School        \n",
       "12   12   12697 Single         Female  90000 0        Bachelors          \n",
       "13   13   11434 Married        Male   170000 5        Partial College    \n",
       "14   14   25323 Married        Male    40000 2        Partial College    \n",
       "15   15   23542 Single         Male    60000 1        Partial College    \n",
       "16   16   20870 Single         Female  10000 2        High School        \n",
       "17   17   23316 Single         Male    30000 3        Partial College    \n",
       "18   18   12610 Married        Female  30000 1        Bachelors          \n",
       "19   19   27183 Single         Male    40000 2        Partial College    \n",
       "20   20   25940 Single         Male    20000 2        Partial High School\n",
       "21   21   25598 Married        Female  40000 0        Graduate Degree    \n",
       "22   22   21564 Single         Female  80000 0        Bachelors          \n",
       "23   23   19193 Single         Male    40000 2        Partial College    \n",
       "24   24   26412 Married        Female  80000 5        High School        \n",
       "25   25   27184 Single         Male    40000 2        Partial College    \n",
       "26   26   12590 Single         Male    30000 1        Bachelors          \n",
       "27   27   17841 Single         Male    30000 0        Partial College    \n",
       "28   28   18283 Married        Female 100000 0        Bachelors          \n",
       "29   29   18299 Married        Male    70000 5        Partial College    \n",
       "30   30   16466 Single         Female  20000 0        Partial High School\n",
       "...  ...  ...   ...            ...    ...    ...      ...                \n",
       "971   971 26576 Married        Female  60000 0        Partial College    \n",
       "972   972 12192 Single         Female  60000 2        Partial High School\n",
       "973   973 14887 Married        Female  30000 1        High School        \n",
       "974   974 11734 Married        Male    60000 1        Partial College    \n",
       "975   975 17462 Married        Male    70000 3        Graduate Degree    \n",
       "976   976 20659 Married        Male    70000 3        Graduate Degree    \n",
       "977   977 28004 Married        Female  60000 3        Bachelors          \n",
       "978   978 19741 Single         Female  80000 4        Graduate Degree    \n",
       "979   979 17450 Married        Male    80000 5        Partial College    \n",
       "980   980 17337 Single         Male    40000 0        High School        \n",
       "981   981 18594 Single         Female  80000 3        Bachelors          \n",
       "982   982 15982 Married        Male   110000 5        Partial College    \n",
       "983   983 28625 Single         Male    40000 2        Partial College    \n",
       "984   984 11269 Married        Male   130000 2        Graduate Degree    \n",
       "985   985 25148 Married        Male    60000 2        High School        \n",
       "986   986 13920 Single         Female  50000 4        Bachelors          \n",
       "987   987 23704 Single         Male    40000 5        High School        \n",
       "988   988 28972 Single         Female  60000 3        Graduate Degree    \n",
       "989   989 22730 Married        Male    70000 5        Bachelors          \n",
       "990   990 29134 Married        Male    60000 4        Bachelors          \n",
       "991   991 14332 Single         Female  30000 0        High School        \n",
       "992   992 19117 Single         Female  60000 1        Graduate Degree    \n",
       "993   993 22864 Married        Male    90000 2        Partial College    \n",
       "994   994 11292 Single         Male   150000 1        Partial College    \n",
       "995   995 13466 Married        Male    80000 5        Partial College    \n",
       "996   996 23731 Married        Male    60000 2        High School        \n",
       "997   997 28672 Single         Male    70000 4        Graduate Degree    \n",
       "998   998 11809 Married        Male    60000 2        Bachelors          \n",
       "999   999 19664 Single         Male   100000 3        Bachelors          \n",
       "1000 1000 12121 Single         Male    60000 3        High School        \n",
       "     Occupation     Home.Owner Cars     Commute.Distance Region        Age\n",
       "1    Skilled Manual Yes        0.000000 0-1 Miles        Europe        42 \n",
       "2    Clerical       Yes        1.000000 0-1 Miles        Europe        43 \n",
       "3    Professional   No         2.000000 2-5 Miles        Europe        60 \n",
       "4    Professional   Yes        1.000000 5-10 Miles       Pacific       41 \n",
       "5    Clerical       No         0.000000 0-1 Miles        Europe        36 \n",
       "6    Manual         Yes        0.000000 1-2 Miles        Europe        50 \n",
       "7    Management     Yes        4.000000 0-1 Miles        Pacific       33 \n",
       "8    Skilled Manual Yes        0.000000 0-1 Miles        Europe        43 \n",
       "9    Clerical       Yes        2.000000 5-10 Miles       Pacific       58 \n",
       "10   Manual         Yes        1.000000 0-1 Miles        Europe        43 \n",
       "11   Skilled Manual No         2.000000 1-2 Miles        Pacific       54 \n",
       "12   Professional   No         4.000000 10+ Miles        Pacific       36 \n",
       "13   Professional   Yes        1.455096 0-1 Miles        Europe        55 \n",
       "14   Clerical       Yes        1.000000 1-2 Miles        Europe        35 \n",
       "15   Skilled Manual No         1.000000 0-1 Miles        Pacific       45 \n",
       "16   Manual         Yes        1.000000 0-1 Miles        Europe        38 \n",
       "17   Clerical       No         2.000000 1-2 Miles        Pacific       59 \n",
       "18   Clerical       Yes        0.000000 0-1 Miles        Europe        47 \n",
       "19   Clerical       Yes        1.000000 1-2 Miles        Europe        35 \n",
       "20   Clerical       Yes        2.000000 5-10 Miles       Pacific       55 \n",
       "21   Clerical       Yes        0.000000 0-1 Miles        Europe        36 \n",
       "22   Professional   Yes        4.000000 10+ Miles        Pacific       35 \n",
       "23   Clerical       Yes        0.000000 1-2 Miles        Europe        35 \n",
       "24   Management     No         3.000000 5-10 Miles       Europe        56 \n",
       "25   Clerical       No         1.000000 0-1 Miles        Europe        34 \n",
       "26   Clerical       Yes        0.000000 0-1 Miles        Europe        63 \n",
       "27   Clerical       No         1.000000 0-1 Miles        Europe        29 \n",
       "28   Professional   No         1.000000 5-10 Miles       Pacific       40 \n",
       "29   Skilled Manual Yes        2.000000 5-10 Miles       Pacific       44 \n",
       "30   Manual         No         2.000000 0-1 Miles        Europe        32 \n",
       "...  ...            ...        ...      ...              ...           ...\n",
       "971  Skilled Manual Yes        2        5-10 Miles       North America 31 \n",
       "972  Skilled Manual No         2        1-2 Miles        North America 51 \n",
       "973  Clerical       Yes        1        5-10 Miles       North America 52 \n",
       "974  Skilled Manual No         1        0-1 Miles        North America 47 \n",
       "975  Management     Yes        2        5-10 Miles       North America 53 \n",
       "976  Professional   Yes        0        0-1 Miles        North America 35 \n",
       "977  Management     Yes        2        10+ Miles        North America 66 \n",
       "978  Management     Yes        2        5-10 Miles       North America 65 \n",
       "979  Professional   Yes        3        5-10 Miles       North America 45 \n",
       "980  Skilled Manual Yes        1        5-10 Miles       North America 31 \n",
       "981  Skilled Manual Yes        3        10+ Miles        North America 40 \n",
       "982  Professional   Yes        4        2-5 Miles        North America 46 \n",
       "983  Clerical       No         1        1-2 Miles        North America 47 \n",
       "984  Management     Yes        2        0-1 Miles        North America 41 \n",
       "985  Professional   No         2        1-2 Miles        North America 48 \n",
       "986  Skilled Manual Yes        2        0-1 Miles        North America 42 \n",
       "987  Professional   Yes        4        10+ Miles        North America 43 \n",
       "988  Management     Yes        2        10+ Miles        North America 66 \n",
       "989  Management     Yes        2        10+ Miles        North America 63 \n",
       "990  Skilled Manual No         3        10+ Miles        North America 42 \n",
       "991  Skilled Manual No         2        5-10 Miles       North America 26 \n",
       "992  Professional   Yes        0        2-5 Miles        North America 36 \n",
       "993  Professional   No         0        5-10 Miles       North America 49 \n",
       "994  Professional   No         3        0-1 Miles        North America 44 \n",
       "995  Professional   Yes        3        1-2 Miles        North America 46 \n",
       "996  Professional   Yes        2        2-5 Miles        North America 54 \n",
       "997  Professional   Yes        0        2-5 Miles        North America 35 \n",
       "998  Skilled Manual Yes        0        0-1 Miles        North America 38 \n",
       "999  Management     No         3        1-2 Miles        North America 38 \n",
       "1000 Professional   Yes        2        10+ Miles        North America 53 \n",
       "     Purchased.Bike\n",
       "1    No            \n",
       "2    No            \n",
       "3    No            \n",
       "4    Yes           \n",
       "5    Yes           \n",
       "6    No            \n",
       "7    Yes           \n",
       "8    Yes           \n",
       "9    No            \n",
       "10   Yes           \n",
       "11   Yes           \n",
       "12   No            \n",
       "13   No            \n",
       "14   Yes           \n",
       "15   Yes           \n",
       "16   Yes           \n",
       "17   Yes           \n",
       "18   No            \n",
       "19   Yes           \n",
       "20   Yes           \n",
       "21   Yes           \n",
       "22   No            \n",
       "23   Yes           \n",
       "24   No            \n",
       "25   No            \n",
       "26   No            \n",
       "27   Yes           \n",
       "28   No            \n",
       "29   No            \n",
       "30   Yes           \n",
       "...  ...           \n",
       "971  No            \n",
       "972  No            \n",
       "973  No            \n",
       "974  No            \n",
       "975  Yes           \n",
       "976  Yes           \n",
       "977  No            \n",
       "978  No            \n",
       "979  No            \n",
       "980  No            \n",
       "981  Yes           \n",
       "982  No            \n",
       "983  Yes           \n",
       "984  No            \n",
       "985  Yes           \n",
       "986  No            \n",
       "987  Yes           \n",
       "988  No            \n",
       "989  No            \n",
       "990  No            \n",
       "991  No            \n",
       "992  Yes           \n",
       "993  Yes           \n",
       "994  Yes           \n",
       "995  No            \n",
       "996  Yes           \n",
       "997  Yes           \n",
       "998  Yes           \n",
       "999  No            \n",
       "1000 Yes           "
      ]
     },
     "metadata": {},
     "output_type": "display_data"
    }
   ],
   "source": [
    "d=read.csv('bike_buyers_clean.csv')\n",
    "d"
   ]
  },
  {
   "cell_type": "markdown",
   "id": "b1e91551",
   "metadata": {},
   "source": [
    "#### Exploring the data\n",
    "* Head and Tail \n",
    "* Structure\n",
    "* Dimension\n",
    "* Summary\n",
    "* column names"
   ]
  },
  {
   "cell_type": "code",
   "execution_count": 5,
   "id": "37b4fa9b",
   "metadata": {},
   "outputs": [
    {
     "data": {
      "text/html": [
       "<table>\n",
       "<thead><tr><th scope=col>X</th><th scope=col>ID</th><th scope=col>Marital.Status</th><th scope=col>Gender</th><th scope=col>Income</th><th scope=col>Children</th><th scope=col>Education</th><th scope=col>Occupation</th><th scope=col>Home.Owner</th><th scope=col>Cars</th><th scope=col>Commute.Distance</th><th scope=col>Region</th><th scope=col>Age</th><th scope=col>Purchased.Bike</th></tr></thead>\n",
       "<tbody>\n",
       "\t<tr><td>1              </td><td>12496          </td><td>Married        </td><td>Female         </td><td>40000          </td><td>1              </td><td>Bachelors      </td><td>Skilled Manual </td><td>Yes            </td><td>0              </td><td>0-1 Miles      </td><td>Europe         </td><td>42             </td><td>No             </td></tr>\n",
       "\t<tr><td>2              </td><td>24107          </td><td>Married        </td><td>Male           </td><td>30000          </td><td>3              </td><td>Partial College</td><td>Clerical       </td><td>Yes            </td><td>1              </td><td>0-1 Miles      </td><td>Europe         </td><td>43             </td><td>No             </td></tr>\n",
       "\t<tr><td>3              </td><td>14177          </td><td>Married        </td><td>Male           </td><td>80000          </td><td>5              </td><td>Partial College</td><td>Professional   </td><td>No             </td><td>2              </td><td>2-5 Miles      </td><td>Europe         </td><td>60             </td><td>No             </td></tr>\n",
       "\t<tr><td>4              </td><td>24381          </td><td>Single         </td><td>Male           </td><td>70000          </td><td>0              </td><td>Bachelors      </td><td>Professional   </td><td>Yes            </td><td>1              </td><td>5-10 Miles     </td><td>Pacific        </td><td>41             </td><td>Yes            </td></tr>\n",
       "\t<tr><td>5              </td><td>25597          </td><td>Single         </td><td>Male           </td><td>30000          </td><td>0              </td><td>Bachelors      </td><td>Clerical       </td><td>No             </td><td>0              </td><td>0-1 Miles      </td><td>Europe         </td><td>36             </td><td>Yes            </td></tr>\n",
       "\t<tr><td>6              </td><td>13507          </td><td>Married        </td><td>Female         </td><td>10000          </td><td>2              </td><td>Partial College</td><td>Manual         </td><td>Yes            </td><td>0              </td><td>1-2 Miles      </td><td>Europe         </td><td>50             </td><td>No             </td></tr>\n",
       "</tbody>\n",
       "</table>\n"
      ],
      "text/latex": [
       "\\begin{tabular}{r|llllllllllllll}\n",
       " X & ID & Marital.Status & Gender & Income & Children & Education & Occupation & Home.Owner & Cars & Commute.Distance & Region & Age & Purchased.Bike\\\\\n",
       "\\hline\n",
       "\t 1               & 12496           & Married         & Female          & 40000           & 1               & Bachelors       & Skilled Manual  & Yes             & 0               & 0-1 Miles       & Europe          & 42              & No             \\\\\n",
       "\t 2               & 24107           & Married         & Male            & 30000           & 3               & Partial College & Clerical        & Yes             & 1               & 0-1 Miles       & Europe          & 43              & No             \\\\\n",
       "\t 3               & 14177           & Married         & Male            & 80000           & 5               & Partial College & Professional    & No              & 2               & 2-5 Miles       & Europe          & 60              & No             \\\\\n",
       "\t 4               & 24381           & Single          & Male            & 70000           & 0               & Bachelors       & Professional    & Yes             & 1               & 5-10 Miles      & Pacific         & 41              & Yes            \\\\\n",
       "\t 5               & 25597           & Single          & Male            & 30000           & 0               & Bachelors       & Clerical        & No              & 0               & 0-1 Miles       & Europe          & 36              & Yes            \\\\\n",
       "\t 6               & 13507           & Married         & Female          & 10000           & 2               & Partial College & Manual          & Yes             & 0               & 1-2 Miles       & Europe          & 50              & No             \\\\\n",
       "\\end{tabular}\n"
      ],
      "text/markdown": [
       "\n",
       "| X | ID | Marital.Status | Gender | Income | Children | Education | Occupation | Home.Owner | Cars | Commute.Distance | Region | Age | Purchased.Bike |\n",
       "|---|---|---|---|---|---|---|---|---|---|---|---|---|---|\n",
       "| 1               | 12496           | Married         | Female          | 40000           | 1               | Bachelors       | Skilled Manual  | Yes             | 0               | 0-1 Miles       | Europe          | 42              | No              |\n",
       "| 2               | 24107           | Married         | Male            | 30000           | 3               | Partial College | Clerical        | Yes             | 1               | 0-1 Miles       | Europe          | 43              | No              |\n",
       "| 3               | 14177           | Married         | Male            | 80000           | 5               | Partial College | Professional    | No              | 2               | 2-5 Miles       | Europe          | 60              | No              |\n",
       "| 4               | 24381           | Single          | Male            | 70000           | 0               | Bachelors       | Professional    | Yes             | 1               | 5-10 Miles      | Pacific         | 41              | Yes             |\n",
       "| 5               | 25597           | Single          | Male            | 30000           | 0               | Bachelors       | Clerical        | No              | 0               | 0-1 Miles       | Europe          | 36              | Yes             |\n",
       "| 6               | 13507           | Married         | Female          | 10000           | 2               | Partial College | Manual          | Yes             | 0               | 1-2 Miles       | Europe          | 50              | No              |\n",
       "\n"
      ],
      "text/plain": [
       "  X ID    Marital.Status Gender Income Children Education       Occupation    \n",
       "1 1 12496 Married        Female 40000  1        Bachelors       Skilled Manual\n",
       "2 2 24107 Married        Male   30000  3        Partial College Clerical      \n",
       "3 3 14177 Married        Male   80000  5        Partial College Professional  \n",
       "4 4 24381 Single         Male   70000  0        Bachelors       Professional  \n",
       "5 5 25597 Single         Male   30000  0        Bachelors       Clerical      \n",
       "6 6 13507 Married        Female 10000  2        Partial College Manual        \n",
       "  Home.Owner Cars Commute.Distance Region  Age Purchased.Bike\n",
       "1 Yes        0    0-1 Miles        Europe  42  No            \n",
       "2 Yes        1    0-1 Miles        Europe  43  No            \n",
       "3 No         2    2-5 Miles        Europe  60  No            \n",
       "4 Yes        1    5-10 Miles       Pacific 41  Yes           \n",
       "5 No         0    0-1 Miles        Europe  36  Yes           \n",
       "6 Yes        0    1-2 Miles        Europe  50  No            "
      ]
     },
     "metadata": {},
     "output_type": "display_data"
    }
   ],
   "source": [
    "head(d)"
   ]
  },
  {
   "cell_type": "code",
   "execution_count": 6,
   "id": "74aa2bdd",
   "metadata": {},
   "outputs": [
    {
     "data": {
      "text/html": [
       "<table>\n",
       "<thead><tr><th></th><th scope=col>X</th><th scope=col>ID</th><th scope=col>Marital.Status</th><th scope=col>Gender</th><th scope=col>Income</th><th scope=col>Children</th><th scope=col>Education</th><th scope=col>Occupation</th><th scope=col>Home.Owner</th><th scope=col>Cars</th><th scope=col>Commute.Distance</th><th scope=col>Region</th><th scope=col>Age</th><th scope=col>Purchased.Bike</th></tr></thead>\n",
       "<tbody>\n",
       "\t<tr><th scope=row>995</th><td> 995           </td><td>13466          </td><td>Married        </td><td>Male           </td><td>8e+04          </td><td>5              </td><td>Partial College</td><td>Professional   </td><td>Yes            </td><td>3              </td><td>1-2 Miles      </td><td>North America  </td><td>46             </td><td>No             </td></tr>\n",
       "\t<tr><th scope=row>996</th><td> 996           </td><td>23731          </td><td>Married        </td><td>Male           </td><td>6e+04          </td><td>2              </td><td>High School    </td><td>Professional   </td><td>Yes            </td><td>2              </td><td>2-5 Miles      </td><td>North America  </td><td>54             </td><td>Yes            </td></tr>\n",
       "\t<tr><th scope=row>997</th><td> 997           </td><td>28672          </td><td>Single         </td><td>Male           </td><td>7e+04          </td><td>4              </td><td>Graduate Degree</td><td>Professional   </td><td>Yes            </td><td>0              </td><td>2-5 Miles      </td><td>North America  </td><td>35             </td><td>Yes            </td></tr>\n",
       "\t<tr><th scope=row>998</th><td> 998           </td><td>11809          </td><td>Married        </td><td>Male           </td><td>6e+04          </td><td>2              </td><td>Bachelors      </td><td>Skilled Manual </td><td>Yes            </td><td>0              </td><td>0-1 Miles      </td><td>North America  </td><td>38             </td><td>Yes            </td></tr>\n",
       "\t<tr><th scope=row>999</th><td> 999           </td><td>19664          </td><td>Single         </td><td>Male           </td><td>1e+05          </td><td>3              </td><td>Bachelors      </td><td>Management     </td><td>No             </td><td>3              </td><td>1-2 Miles      </td><td>North America  </td><td>38             </td><td>No             </td></tr>\n",
       "\t<tr><th scope=row>1000</th><td>1000           </td><td>12121          </td><td>Single         </td><td>Male           </td><td>6e+04          </td><td>3              </td><td>High School    </td><td>Professional   </td><td>Yes            </td><td>2              </td><td>10+ Miles      </td><td>North America  </td><td>53             </td><td>Yes            </td></tr>\n",
       "</tbody>\n",
       "</table>\n"
      ],
      "text/latex": [
       "\\begin{tabular}{r|llllllllllllll}\n",
       "  & X & ID & Marital.Status & Gender & Income & Children & Education & Occupation & Home.Owner & Cars & Commute.Distance & Region & Age & Purchased.Bike\\\\\n",
       "\\hline\n",
       "\t995 &  995            & 13466           & Married         & Male            & 8e+04           & 5               & Partial College & Professional    & Yes             & 3               & 1-2 Miles       & North America   & 46              & No             \\\\\n",
       "\t996 &  996            & 23731           & Married         & Male            & 6e+04           & 2               & High School     & Professional    & Yes             & 2               & 2-5 Miles       & North America   & 54              & Yes            \\\\\n",
       "\t997 &  997            & 28672           & Single          & Male            & 7e+04           & 4               & Graduate Degree & Professional    & Yes             & 0               & 2-5 Miles       & North America   & 35              & Yes            \\\\\n",
       "\t998 &  998            & 11809           & Married         & Male            & 6e+04           & 2               & Bachelors       & Skilled Manual  & Yes             & 0               & 0-1 Miles       & North America   & 38              & Yes            \\\\\n",
       "\t999 &  999            & 19664           & Single          & Male            & 1e+05           & 3               & Bachelors       & Management      & No              & 3               & 1-2 Miles       & North America   & 38              & No             \\\\\n",
       "\t1000 & 1000            & 12121           & Single          & Male            & 6e+04           & 3               & High School     & Professional    & Yes             & 2               & 10+ Miles       & North America   & 53              & Yes            \\\\\n",
       "\\end{tabular}\n"
      ],
      "text/markdown": [
       "\n",
       "| <!--/--> | X | ID | Marital.Status | Gender | Income | Children | Education | Occupation | Home.Owner | Cars | Commute.Distance | Region | Age | Purchased.Bike |\n",
       "|---|---|---|---|---|---|---|---|---|---|---|---|---|---|---|\n",
       "| 995 |  995            | 13466           | Married         | Male            | 8e+04           | 5               | Partial College | Professional    | Yes             | 3               | 1-2 Miles       | North America   | 46              | No              |\n",
       "| 996 |  996            | 23731           | Married         | Male            | 6e+04           | 2               | High School     | Professional    | Yes             | 2               | 2-5 Miles       | North America   | 54              | Yes             |\n",
       "| 997 |  997            | 28672           | Single          | Male            | 7e+04           | 4               | Graduate Degree | Professional    | Yes             | 0               | 2-5 Miles       | North America   | 35              | Yes             |\n",
       "| 998 |  998            | 11809           | Married         | Male            | 6e+04           | 2               | Bachelors       | Skilled Manual  | Yes             | 0               | 0-1 Miles       | North America   | 38              | Yes             |\n",
       "| 999 |  999            | 19664           | Single          | Male            | 1e+05           | 3               | Bachelors       | Management      | No              | 3               | 1-2 Miles       | North America   | 38              | No              |\n",
       "| 1000 | 1000            | 12121           | Single          | Male            | 6e+04           | 3               | High School     | Professional    | Yes             | 2               | 10+ Miles       | North America   | 53              | Yes             |\n",
       "\n"
      ],
      "text/plain": [
       "     X    ID    Marital.Status Gender Income Children Education      \n",
       "995   995 13466 Married        Male   8e+04  5        Partial College\n",
       "996   996 23731 Married        Male   6e+04  2        High School    \n",
       "997   997 28672 Single         Male   7e+04  4        Graduate Degree\n",
       "998   998 11809 Married        Male   6e+04  2        Bachelors      \n",
       "999   999 19664 Single         Male   1e+05  3        Bachelors      \n",
       "1000 1000 12121 Single         Male   6e+04  3        High School    \n",
       "     Occupation     Home.Owner Cars Commute.Distance Region        Age\n",
       "995  Professional   Yes        3    1-2 Miles        North America 46 \n",
       "996  Professional   Yes        2    2-5 Miles        North America 54 \n",
       "997  Professional   Yes        0    2-5 Miles        North America 35 \n",
       "998  Skilled Manual Yes        0    0-1 Miles        North America 38 \n",
       "999  Management     No         3    1-2 Miles        North America 38 \n",
       "1000 Professional   Yes        2    10+ Miles        North America 53 \n",
       "     Purchased.Bike\n",
       "995  No            \n",
       "996  Yes           \n",
       "997  Yes           \n",
       "998  Yes           \n",
       "999  No            \n",
       "1000 Yes           "
      ]
     },
     "metadata": {},
     "output_type": "display_data"
    }
   ],
   "source": [
    "tail(d)"
   ]
  },
  {
   "cell_type": "code",
   "execution_count": 7,
   "id": "b208ce79",
   "metadata": {},
   "outputs": [
    {
     "data": {
      "text/html": [
       "'data.frame'"
      ],
      "text/latex": [
       "'data.frame'"
      ],
      "text/markdown": [
       "'data.frame'"
      ],
      "text/plain": [
       "[1] \"data.frame\""
      ]
     },
     "metadata": {},
     "output_type": "display_data"
    }
   ],
   "source": [
    "class(d)"
   ]
  },
  {
   "cell_type": "code",
   "execution_count": 8,
   "id": "13319a39",
   "metadata": {},
   "outputs": [
    {
     "name": "stdout",
     "output_type": "stream",
     "text": [
      "'data.frame':\t1000 obs. of  14 variables:\n",
      " $ X               : int  1 2 3 4 5 6 7 8 9 10 ...\n",
      " $ ID              : int  12496 24107 14177 24381 25597 13507 27974 19364 22155 19280 ...\n",
      " $ Marital.Status  : Factor w/ 2 levels \"Married\",\"Single\": 1 1 1 2 2 1 2 1 1 1 ...\n",
      " $ Gender          : Factor w/ 2 levels \"Female\",\"Male\": 1 2 2 2 2 1 2 2 2 2 ...\n",
      " $ Income          : num  40000 30000 80000 70000 30000 10000 160000 40000 20000 60000 ...\n",
      " $ Children        : int  1 3 5 0 0 2 2 1 2 2 ...\n",
      " $ Education       : Factor w/ 5 levels \"Bachelors\",\"Graduate Degree\",..: 1 4 4 1 1 4 3 1 5 4 ...\n",
      " $ Occupation      : Factor w/ 5 levels \"Clerical\",\"Management\",..: 5 1 4 4 1 3 2 5 1 3 ...\n",
      " $ Home.Owner      : Factor w/ 2 levels \"No\",\"Yes\": 2 2 1 2 1 2 2 2 2 2 ...\n",
      " $ Cars            : num  0 1 2 1 0 0 4 0 2 1 ...\n",
      " $ Commute.Distance: Factor w/ 5 levels \"0-1 Miles\",\"1-2 Miles\",..: 1 1 4 5 1 2 1 1 5 1 ...\n",
      " $ Region          : Factor w/ 3 levels \"Europe\",\"North America\",..: 1 1 1 3 1 1 3 1 3 1 ...\n",
      " $ Age             : int  42 43 60 41 36 50 33 43 58 43 ...\n",
      " $ Purchased.Bike  : Factor w/ 2 levels \"No\",\"Yes\": 1 1 1 2 2 1 2 2 1 2 ...\n"
     ]
    }
   ],
   "source": [
    "str(d)"
   ]
  },
  {
   "cell_type": "code",
   "execution_count": 9,
   "id": "218fc067",
   "metadata": {},
   "outputs": [
    {
     "data": {
      "text/html": [
       "<ol class=list-inline>\n",
       "\t<li>'X'</li>\n",
       "\t<li>'ID'</li>\n",
       "\t<li>'Marital.Status'</li>\n",
       "\t<li>'Gender'</li>\n",
       "\t<li>'Income'</li>\n",
       "\t<li>'Children'</li>\n",
       "\t<li>'Education'</li>\n",
       "\t<li>'Occupation'</li>\n",
       "\t<li>'Home.Owner'</li>\n",
       "\t<li>'Cars'</li>\n",
       "\t<li>'Commute.Distance'</li>\n",
       "\t<li>'Region'</li>\n",
       "\t<li>'Age'</li>\n",
       "\t<li>'Purchased.Bike'</li>\n",
       "</ol>\n"
      ],
      "text/latex": [
       "\\begin{enumerate*}\n",
       "\\item 'X'\n",
       "\\item 'ID'\n",
       "\\item 'Marital.Status'\n",
       "\\item 'Gender'\n",
       "\\item 'Income'\n",
       "\\item 'Children'\n",
       "\\item 'Education'\n",
       "\\item 'Occupation'\n",
       "\\item 'Home.Owner'\n",
       "\\item 'Cars'\n",
       "\\item 'Commute.Distance'\n",
       "\\item 'Region'\n",
       "\\item 'Age'\n",
       "\\item 'Purchased.Bike'\n",
       "\\end{enumerate*}\n"
      ],
      "text/markdown": [
       "1. 'X'\n",
       "2. 'ID'\n",
       "3. 'Marital.Status'\n",
       "4. 'Gender'\n",
       "5. 'Income'\n",
       "6. 'Children'\n",
       "7. 'Education'\n",
       "8. 'Occupation'\n",
       "9. 'Home.Owner'\n",
       "10. 'Cars'\n",
       "11. 'Commute.Distance'\n",
       "12. 'Region'\n",
       "13. 'Age'\n",
       "14. 'Purchased.Bike'\n",
       "\n",
       "\n"
      ],
      "text/plain": [
       " [1] \"X\"                \"ID\"               \"Marital.Status\"   \"Gender\"          \n",
       " [5] \"Income\"           \"Children\"         \"Education\"        \"Occupation\"      \n",
       " [9] \"Home.Owner\"       \"Cars\"             \"Commute.Distance\" \"Region\"          \n",
       "[13] \"Age\"              \"Purchased.Bike\"  "
      ]
     },
     "metadata": {},
     "output_type": "display_data"
    }
   ],
   "source": [
    "colnames(d)"
   ]
  },
  {
   "cell_type": "code",
   "execution_count": 10,
   "id": "28075b9e",
   "metadata": {},
   "outputs": [
    {
     "data": {
      "text/html": [
       "<ol class=list-inline>\n",
       "\t<li>1000</li>\n",
       "\t<li>14</li>\n",
       "</ol>\n"
      ],
      "text/latex": [
       "\\begin{enumerate*}\n",
       "\\item 1000\n",
       "\\item 14\n",
       "\\end{enumerate*}\n"
      ],
      "text/markdown": [
       "1. 1000\n",
       "2. 14\n",
       "\n",
       "\n"
      ],
      "text/plain": [
       "[1] 1000   14"
      ]
     },
     "metadata": {},
     "output_type": "display_data"
    }
   ],
   "source": [
    "dim(d)"
   ]
  },
  {
   "cell_type": "code",
   "execution_count": 11,
   "id": "a9047aaa",
   "metadata": {
    "scrolled": true
   },
   "outputs": [
    {
     "data": {
      "text/plain": [
       "       X                ID        Marital.Status    Gender        Income      \n",
       " Min.   :   1.0   Min.   :11000   Married:542    Female:489   Min.   : 10000  \n",
       " 1st Qu.: 250.8   1st Qu.:15291   Single :458    Male  :511   1st Qu.: 30000  \n",
       " Median : 500.5   Median :19744                               Median : 60000  \n",
       " Mean   : 500.5   Mean   :19966                               Mean   : 56290  \n",
       " 3rd Qu.: 750.2   3rd Qu.:24471                               3rd Qu.: 70000  \n",
       " Max.   :1000.0   Max.   :29447                               Max.   :170000  \n",
       "    Children                   Education            Occupation  Home.Owner\n",
       " Min.   :0.000   Bachelors          :306   Clerical      :177   No :314   \n",
       " 1st Qu.:0.000   Graduate Degree    :174   Management    :173   Yes:686   \n",
       " Median :2.000   High School        :179   Manual        :119             \n",
       " Mean   :1.895   Partial College    :265   Professional  :276             \n",
       " 3rd Qu.:3.000   Partial High School: 76   Skilled Manual:255             \n",
       " Max.   :5.000                                                            \n",
       "      Cars         Commute.Distance           Region         Age       \n",
       " Min.   :0.000   0-1 Miles :366     Europe       :300   Min.   :25.00  \n",
       " 1st Qu.:1.000   1-2 Miles :169     North America:508   1st Qu.:35.00  \n",
       " Median :1.000   10+ Miles :111     Pacific      :192   Median :43.00  \n",
       " Mean   :1.455   2-5 Miles :162                         Mean   :44.17  \n",
       " 3rd Qu.:2.000   5-10 Miles:192                         3rd Qu.:52.00  \n",
       " Max.   :4.000                                          Max.   :89.00  \n",
       " Purchased.Bike\n",
       " No :519       \n",
       " Yes:481       \n",
       "               \n",
       "               \n",
       "               \n",
       "               "
      ]
     },
     "metadata": {},
     "output_type": "display_data"
    }
   ],
   "source": [
    "summary(d)"
   ]
  },
  {
   "cell_type": "code",
   "execution_count": 12,
   "id": "086f273d",
   "metadata": {},
   "outputs": [
    {
     "data": {
      "text/html": [
       "<ol class=list-inline>\n",
       "\t<li>'Married'</li>\n",
       "\t<li>'Single'</li>\n",
       "</ol>\n"
      ],
      "text/latex": [
       "\\begin{enumerate*}\n",
       "\\item 'Married'\n",
       "\\item 'Single'\n",
       "\\end{enumerate*}\n"
      ],
      "text/markdown": [
       "1. 'Married'\n",
       "2. 'Single'\n",
       "\n",
       "\n"
      ],
      "text/plain": [
       "[1] \"Married\" \"Single\" "
      ]
     },
     "metadata": {},
     "output_type": "display_data"
    }
   ],
   "source": [
    "levels(d$Marital.Status)"
   ]
  },
  {
   "cell_type": "code",
   "execution_count": 13,
   "id": "436313e1",
   "metadata": {},
   "outputs": [
    {
     "data": {
      "text/html": [
       "<ol class=list-inline>\n",
       "\t<li>'Female'</li>\n",
       "\t<li>'Male'</li>\n",
       "</ol>\n"
      ],
      "text/latex": [
       "\\begin{enumerate*}\n",
       "\\item 'Female'\n",
       "\\item 'Male'\n",
       "\\end{enumerate*}\n"
      ],
      "text/markdown": [
       "1. 'Female'\n",
       "2. 'Male'\n",
       "\n",
       "\n"
      ],
      "text/plain": [
       "[1] \"Female\" \"Male\"  "
      ]
     },
     "metadata": {},
     "output_type": "display_data"
    }
   ],
   "source": [
    "levels(d$Gender)"
   ]
  },
  {
   "cell_type": "code",
   "execution_count": 14,
   "id": "09d28994",
   "metadata": {
    "scrolled": true
   },
   "outputs": [
    {
     "data": {
      "text/html": [
       "<table>\n",
       "<thead><tr><th></th><th scope=col>Children</th></tr></thead>\n",
       "<tbody>\n",
       "\t<tr><th scope=row>1</th><td>1</td></tr>\n",
       "\t<tr><th scope=row>2</th><td>3</td></tr>\n",
       "\t<tr><th scope=row>3</th><td>5</td></tr>\n",
       "\t<tr><th scope=row>4</th><td>0</td></tr>\n",
       "\t<tr><th scope=row>6</th><td>2</td></tr>\n",
       "\t<tr><th scope=row>40</th><td>4</td></tr>\n",
       "</tbody>\n",
       "</table>\n"
      ],
      "text/latex": [
       "\\begin{tabular}{r|l}\n",
       "  & Children\\\\\n",
       "\\hline\n",
       "\t1 & 1\\\\\n",
       "\t2 & 3\\\\\n",
       "\t3 & 5\\\\\n",
       "\t4 & 0\\\\\n",
       "\t6 & 2\\\\\n",
       "\t40 & 4\\\\\n",
       "\\end{tabular}\n"
      ],
      "text/markdown": [
       "\n",
       "| <!--/--> | Children |\n",
       "|---|---|\n",
       "| 1 | 1 |\n",
       "| 2 | 3 |\n",
       "| 3 | 5 |\n",
       "| 4 | 0 |\n",
       "| 6 | 2 |\n",
       "| 40 | 4 |\n",
       "\n"
      ],
      "text/plain": [
       "   Children\n",
       "1  1       \n",
       "2  3       \n",
       "3  5       \n",
       "4  0       \n",
       "6  2       \n",
       "40 4       "
      ]
     },
     "metadata": {},
     "output_type": "display_data"
    }
   ],
   "source": [
    "unique(d[c('Children')])"
   ]
  },
  {
   "cell_type": "markdown",
   "id": "4c47d17c",
   "metadata": {},
   "source": [
    "### <u> Extracting Data<u>"
   ]
  },
  {
   "cell_type": "code",
   "execution_count": 15,
   "id": "836275f6",
   "metadata": {},
   "outputs": [
    {
     "data": {
      "text/html": [
       "<ol class=list-inline>\n",
       "\t<li>'Bachelors'</li>\n",
       "\t<li>'Graduate Degree'</li>\n",
       "\t<li>'High School'</li>\n",
       "\t<li>'Partial College'</li>\n",
       "\t<li>'Partial High School'</li>\n",
       "</ol>\n"
      ],
      "text/latex": [
       "\\begin{enumerate*}\n",
       "\\item 'Bachelors'\n",
       "\\item 'Graduate Degree'\n",
       "\\item 'High School'\n",
       "\\item 'Partial College'\n",
       "\\item 'Partial High School'\n",
       "\\end{enumerate*}\n"
      ],
      "text/markdown": [
       "1. 'Bachelors'\n",
       "2. 'Graduate Degree'\n",
       "3. 'High School'\n",
       "4. 'Partial College'\n",
       "5. 'Partial High School'\n",
       "\n",
       "\n"
      ],
      "text/plain": [
       "[1] \"Bachelors\"           \"Graduate Degree\"     \"High School\"        \n",
       "[4] \"Partial College\"     \"Partial High School\""
      ]
     },
     "metadata": {},
     "output_type": "display_data"
    }
   ],
   "source": [
    "levels(d$Education)"
   ]
  },
  {
   "cell_type": "code",
   "execution_count": 16,
   "id": "06d2762e",
   "metadata": {},
   "outputs": [
    {
     "data": {
      "text/html": [
       "<ol class=list-inline>\n",
       "\t<li>'Clerical'</li>\n",
       "\t<li>'Management'</li>\n",
       "\t<li>'Manual'</li>\n",
       "\t<li>'Professional'</li>\n",
       "\t<li>'Skilled Manual'</li>\n",
       "</ol>\n"
      ],
      "text/latex": [
       "\\begin{enumerate*}\n",
       "\\item 'Clerical'\n",
       "\\item 'Management'\n",
       "\\item 'Manual'\n",
       "\\item 'Professional'\n",
       "\\item 'Skilled Manual'\n",
       "\\end{enumerate*}\n"
      ],
      "text/markdown": [
       "1. 'Clerical'\n",
       "2. 'Management'\n",
       "3. 'Manual'\n",
       "4. 'Professional'\n",
       "5. 'Skilled Manual'\n",
       "\n",
       "\n"
      ],
      "text/plain": [
       "[1] \"Clerical\"       \"Management\"     \"Manual\"         \"Professional\"  \n",
       "[5] \"Skilled Manual\""
      ]
     },
     "metadata": {},
     "output_type": "display_data"
    }
   ],
   "source": [
    "levels(d$Occupation)"
   ]
  },
  {
   "cell_type": "code",
   "execution_count": 17,
   "id": "67f315cb",
   "metadata": {},
   "outputs": [
    {
     "data": {
      "text/html": [
       "<ol class=list-inline>\n",
       "\t<li>'Europe'</li>\n",
       "\t<li>'North America'</li>\n",
       "\t<li>'Pacific'</li>\n",
       "</ol>\n"
      ],
      "text/latex": [
       "\\begin{enumerate*}\n",
       "\\item 'Europe'\n",
       "\\item 'North America'\n",
       "\\item 'Pacific'\n",
       "\\end{enumerate*}\n"
      ],
      "text/markdown": [
       "1. 'Europe'\n",
       "2. 'North America'\n",
       "3. 'Pacific'\n",
       "\n",
       "\n"
      ],
      "text/plain": [
       "[1] \"Europe\"        \"North America\" \"Pacific\"      "
      ]
     },
     "metadata": {},
     "output_type": "display_data"
    }
   ],
   "source": [
    "levels(d$Region)"
   ]
  },
  {
   "cell_type": "markdown",
   "id": "6062d707",
   "metadata": {},
   "source": [
    "#### <u>Cleaning the data<u> "
   ]
  },
  {
   "cell_type": "code",
   "execution_count": 18,
   "id": "e045dc73",
   "metadata": {},
   "outputs": [
    {
     "data": {
      "text/html": [
       "FALSE"
      ],
      "text/latex": [
       "FALSE"
      ],
      "text/markdown": [
       "FALSE"
      ],
      "text/plain": [
       "[1] FALSE"
      ]
     },
     "metadata": {},
     "output_type": "display_data"
    }
   ],
   "source": [
    "is.null(d)"
   ]
  },
  {
   "cell_type": "code",
   "execution_count": 19,
   "id": "d0fe9ac5",
   "metadata": {},
   "outputs": [
    {
     "data": {
      "text/html": [
       "0"
      ],
      "text/latex": [
       "0"
      ],
      "text/markdown": [
       "0"
      ],
      "text/plain": [
       "[1] 0"
      ]
     },
     "metadata": {},
     "output_type": "display_data"
    }
   ],
   "source": [
    "length(which(is.na(d)))"
   ]
  },
  {
   "cell_type": "code",
   "execution_count": 20,
   "id": "67ac8d32",
   "metadata": {},
   "outputs": [
    {
     "data": {
      "text/html": [
       "<dl class=dl-horizontal>\n",
       "\t<dt>X</dt>\n",
       "\t\t<dd>0</dd>\n",
       "\t<dt>ID</dt>\n",
       "\t\t<dd>0</dd>\n",
       "\t<dt>Marital.Status</dt>\n",
       "\t\t<dd>0</dd>\n",
       "\t<dt>Gender</dt>\n",
       "\t\t<dd>0</dd>\n",
       "\t<dt>Income</dt>\n",
       "\t\t<dd>0</dd>\n",
       "\t<dt>Children</dt>\n",
       "\t\t<dd>0</dd>\n",
       "\t<dt>Education</dt>\n",
       "\t\t<dd>0</dd>\n",
       "\t<dt>Occupation</dt>\n",
       "\t\t<dd>0</dd>\n",
       "\t<dt>Home.Owner</dt>\n",
       "\t\t<dd>0</dd>\n",
       "\t<dt>Cars</dt>\n",
       "\t\t<dd>0</dd>\n",
       "\t<dt>Commute.Distance</dt>\n",
       "\t\t<dd>0</dd>\n",
       "\t<dt>Region</dt>\n",
       "\t\t<dd>0</dd>\n",
       "\t<dt>Age</dt>\n",
       "\t\t<dd>0</dd>\n",
       "\t<dt>Purchased.Bike</dt>\n",
       "\t\t<dd>0</dd>\n",
       "</dl>\n"
      ],
      "text/latex": [
       "\\begin{description*}\n",
       "\\item[X] 0\n",
       "\\item[ID] 0\n",
       "\\item[Marital.Status] 0\n",
       "\\item[Gender] 0\n",
       "\\item[Income] 0\n",
       "\\item[Children] 0\n",
       "\\item[Education] 0\n",
       "\\item[Occupation] 0\n",
       "\\item[Home.Owner] 0\n",
       "\\item[Cars] 0\n",
       "\\item[Commute.Distance] 0\n",
       "\\item[Region] 0\n",
       "\\item[Age] 0\n",
       "\\item[Purchased.Bike] 0\n",
       "\\end{description*}\n"
      ],
      "text/markdown": [
       "X\n",
       ":   0ID\n",
       ":   0Marital.Status\n",
       ":   0Gender\n",
       ":   0Income\n",
       ":   0Children\n",
       ":   0Education\n",
       ":   0Occupation\n",
       ":   0Home.Owner\n",
       ":   0Cars\n",
       ":   0Commute.Distance\n",
       ":   0Region\n",
       ":   0Age\n",
       ":   0Purchased.Bike\n",
       ":   0\n",
       "\n"
      ],
      "text/plain": [
       "               X               ID   Marital.Status           Gender \n",
       "               0                0                0                0 \n",
       "          Income         Children        Education       Occupation \n",
       "               0                0                0                0 \n",
       "      Home.Owner             Cars Commute.Distance           Region \n",
       "               0                0                0                0 \n",
       "             Age   Purchased.Bike \n",
       "               0                0 "
      ]
     },
     "metadata": {},
     "output_type": "display_data"
    }
   ],
   "source": [
    "colSums(is.na(d))"
   ]
  },
  {
   "cell_type": "code",
   "execution_count": 21,
   "id": "cc446e6d",
   "metadata": {},
   "outputs": [
    {
     "data": {
      "text/html": [
       "<table>\n",
       "<thead><tr><th scope=col>X</th><th scope=col>ID</th><th scope=col>Marital.Status</th><th scope=col>Gender</th><th scope=col>Income</th><th scope=col>Children</th><th scope=col>Education</th><th scope=col>Occupation</th><th scope=col>Home.Owner</th><th scope=col>Cars</th><th scope=col>Commute.Distance</th><th scope=col>Region</th><th scope=col>Age</th><th scope=col>Purchased.Bike</th></tr></thead>\n",
       "<tbody>\n",
       "</tbody>\n",
       "</table>\n"
      ],
      "text/latex": [
       "\\begin{tabular}{r|llllllllllllll}\n",
       " X & ID & Marital.Status & Gender & Income & Children & Education & Occupation & Home.Owner & Cars & Commute.Distance & Region & Age & Purchased.Bike\\\\\n",
       "\\hline\n",
       "\\end{tabular}\n"
      ],
      "text/markdown": [
       "\n",
       "| X | ID | Marital.Status | Gender | Income | Children | Education | Occupation | Home.Owner | Cars | Commute.Distance | Region | Age | Purchased.Bike |\n",
       "|---|---|---|---|---|---|---|---|---|---|---|---|---|---|\n",
       "\n"
      ],
      "text/plain": [
       "     X ID Marital.Status Gender Income Children Education Occupation Home.Owner\n",
       "     Cars Commute.Distance Region Age Purchased.Bike"
      ]
     },
     "metadata": {},
     "output_type": "display_data"
    }
   ],
   "source": [
    "dupe=d[duplicated(d),]\n",
    "dupe"
   ]
  },
  {
   "cell_type": "code",
   "execution_count": 22,
   "id": "0f6e9757",
   "metadata": {},
   "outputs": [
    {
     "data": {
      "text/html": [
       "14"
      ],
      "text/latex": [
       "14"
      ],
      "text/markdown": [
       "14"
      ],
      "text/plain": [
       "[1] 14"
      ]
     },
     "metadata": {},
     "output_type": "display_data"
    }
   ],
   "source": [
    "length(dupe)"
   ]
  },
  {
   "cell_type": "code",
   "execution_count": 23,
   "id": "26ce6e65",
   "metadata": {
    "scrolled": true
   },
   "outputs": [
    {
     "data": {
      "text/html": [
       "<dl class=dl-horizontal>\n",
       "\t<dt>X</dt>\n",
       "\t\t<dd>0</dd>\n",
       "\t<dt>ID</dt>\n",
       "\t\t<dd>0</dd>\n",
       "\t<dt>Marital.Status</dt>\n",
       "\t\t<dd>0</dd>\n",
       "\t<dt>Gender</dt>\n",
       "\t\t<dd>0</dd>\n",
       "\t<dt>Income</dt>\n",
       "\t\t<dd>0</dd>\n",
       "\t<dt>Children</dt>\n",
       "\t\t<dd>0</dd>\n",
       "\t<dt>Education</dt>\n",
       "\t\t<dd>0</dd>\n",
       "\t<dt>Occupation</dt>\n",
       "\t\t<dd>0</dd>\n",
       "\t<dt>Home.Owner</dt>\n",
       "\t\t<dd>0</dd>\n",
       "\t<dt>Cars</dt>\n",
       "\t\t<dd>0</dd>\n",
       "\t<dt>Commute.Distance</dt>\n",
       "\t\t<dd>0</dd>\n",
       "\t<dt>Region</dt>\n",
       "\t\t<dd>0</dd>\n",
       "\t<dt>Age</dt>\n",
       "\t\t<dd>0</dd>\n",
       "\t<dt>Purchased.Bike</dt>\n",
       "\t\t<dd>0</dd>\n",
       "</dl>\n"
      ],
      "text/latex": [
       "\\begin{description*}\n",
       "\\item[X] 0\n",
       "\\item[ID] 0\n",
       "\\item[Marital.Status] 0\n",
       "\\item[Gender] 0\n",
       "\\item[Income] 0\n",
       "\\item[Children] 0\n",
       "\\item[Education] 0\n",
       "\\item[Occupation] 0\n",
       "\\item[Home.Owner] 0\n",
       "\\item[Cars] 0\n",
       "\\item[Commute.Distance] 0\n",
       "\\item[Region] 0\n",
       "\\item[Age] 0\n",
       "\\item[Purchased.Bike] 0\n",
       "\\end{description*}\n"
      ],
      "text/markdown": [
       "X\n",
       ":   0ID\n",
       ":   0Marital.Status\n",
       ":   0Gender\n",
       ":   0Income\n",
       ":   0Children\n",
       ":   0Education\n",
       ":   0Occupation\n",
       ":   0Home.Owner\n",
       ":   0Cars\n",
       ":   0Commute.Distance\n",
       ":   0Region\n",
       ":   0Age\n",
       ":   0Purchased.Bike\n",
       ":   0\n",
       "\n"
      ],
      "text/plain": [
       "               X               ID   Marital.Status           Gender \n",
       "               0                0                0                0 \n",
       "          Income         Children        Education       Occupation \n",
       "               0                0                0                0 \n",
       "      Home.Owner             Cars Commute.Distance           Region \n",
       "               0                0                0                0 \n",
       "             Age   Purchased.Bike \n",
       "               0                0 "
      ]
     },
     "metadata": {},
     "output_type": "display_data"
    }
   ],
   "source": [
    "colSums(dupe)"
   ]
  },
  {
   "cell_type": "markdown",
   "id": "936ad146",
   "metadata": {},
   "source": [
    "#### Droping the column \"x\" which is not required"
   ]
  },
  {
   "cell_type": "code",
   "execution_count": 24,
   "id": "fdca82d9",
   "metadata": {},
   "outputs": [
    {
     "data": {
      "text/html": [
       "<table>\n",
       "<thead><tr><th scope=col>ID</th><th scope=col>Marital.Status</th><th scope=col>Gender</th><th scope=col>Income</th><th scope=col>Children</th><th scope=col>Education</th><th scope=col>Occupation</th><th scope=col>Home.Owner</th><th scope=col>Cars</th><th scope=col>Commute.Distance</th><th scope=col>Region</th><th scope=col>Age</th><th scope=col>Purchased.Bike</th></tr></thead>\n",
       "<tbody>\n",
       "\t<tr><td>12496              </td><td>Married            </td><td>Female             </td><td> 40000             </td><td>1                  </td><td>Bachelors          </td><td>Skilled Manual     </td><td>Yes                </td><td>0.000000           </td><td>0-1 Miles          </td><td>Europe             </td><td>42                 </td><td>No                 </td></tr>\n",
       "\t<tr><td>24107              </td><td>Married            </td><td>Male               </td><td> 30000             </td><td>3                  </td><td>Partial College    </td><td>Clerical           </td><td>Yes                </td><td>1.000000           </td><td>0-1 Miles          </td><td>Europe             </td><td>43                 </td><td>No                 </td></tr>\n",
       "\t<tr><td>14177              </td><td>Married            </td><td>Male               </td><td> 80000             </td><td>5                  </td><td>Partial College    </td><td>Professional       </td><td>No                 </td><td>2.000000           </td><td>2-5 Miles          </td><td>Europe             </td><td>60                 </td><td>No                 </td></tr>\n",
       "\t<tr><td>24381              </td><td>Single             </td><td>Male               </td><td> 70000             </td><td>0                  </td><td>Bachelors          </td><td>Professional       </td><td>Yes                </td><td>1.000000           </td><td>5-10 Miles         </td><td>Pacific            </td><td>41                 </td><td>Yes                </td></tr>\n",
       "\t<tr><td>25597              </td><td>Single             </td><td>Male               </td><td> 30000             </td><td>0                  </td><td>Bachelors          </td><td>Clerical           </td><td>No                 </td><td>0.000000           </td><td>0-1 Miles          </td><td>Europe             </td><td>36                 </td><td>Yes                </td></tr>\n",
       "\t<tr><td>13507              </td><td>Married            </td><td>Female             </td><td> 10000             </td><td>2                  </td><td>Partial College    </td><td>Manual             </td><td>Yes                </td><td>0.000000           </td><td>1-2 Miles          </td><td>Europe             </td><td>50                 </td><td>No                 </td></tr>\n",
       "\t<tr><td>27974              </td><td>Single             </td><td>Male               </td><td>160000             </td><td>2                  </td><td>High School        </td><td>Management         </td><td>Yes                </td><td>4.000000           </td><td>0-1 Miles          </td><td>Pacific            </td><td>33                 </td><td>Yes                </td></tr>\n",
       "\t<tr><td>19364              </td><td>Married            </td><td>Male               </td><td> 40000             </td><td>1                  </td><td>Bachelors          </td><td>Skilled Manual     </td><td>Yes                </td><td>0.000000           </td><td>0-1 Miles          </td><td>Europe             </td><td>43                 </td><td>Yes                </td></tr>\n",
       "\t<tr><td>22155              </td><td>Married            </td><td>Male               </td><td> 20000             </td><td>2                  </td><td>Partial High School</td><td>Clerical           </td><td>Yes                </td><td>2.000000           </td><td>5-10 Miles         </td><td>Pacific            </td><td>58                 </td><td>No                 </td></tr>\n",
       "\t<tr><td>19280              </td><td>Married            </td><td>Male               </td><td> 60000             </td><td>2                  </td><td>Partial College    </td><td>Manual             </td><td>Yes                </td><td>1.000000           </td><td>0-1 Miles          </td><td>Europe             </td><td>43                 </td><td>Yes                </td></tr>\n",
       "\t<tr><td>22173              </td><td>Married            </td><td>Female             </td><td> 30000             </td><td>3                  </td><td>High School        </td><td>Skilled Manual     </td><td>No                 </td><td>2.000000           </td><td>1-2 Miles          </td><td>Pacific            </td><td>54                 </td><td>Yes                </td></tr>\n",
       "\t<tr><td>12697              </td><td>Single             </td><td>Female             </td><td> 90000             </td><td>0                  </td><td>Bachelors          </td><td>Professional       </td><td>No                 </td><td>4.000000           </td><td>10+ Miles          </td><td>Pacific            </td><td>36                 </td><td>No                 </td></tr>\n",
       "\t<tr><td>11434              </td><td>Married            </td><td>Male               </td><td>170000             </td><td>5                  </td><td>Partial College    </td><td>Professional       </td><td>Yes                </td><td>1.455096           </td><td>0-1 Miles          </td><td>Europe             </td><td>55                 </td><td>No                 </td></tr>\n",
       "\t<tr><td>25323              </td><td>Married            </td><td>Male               </td><td> 40000             </td><td>2                  </td><td>Partial College    </td><td>Clerical           </td><td>Yes                </td><td>1.000000           </td><td>1-2 Miles          </td><td>Europe             </td><td>35                 </td><td>Yes                </td></tr>\n",
       "\t<tr><td>23542              </td><td>Single             </td><td>Male               </td><td> 60000             </td><td>1                  </td><td>Partial College    </td><td>Skilled Manual     </td><td>No                 </td><td>1.000000           </td><td>0-1 Miles          </td><td>Pacific            </td><td>45                 </td><td>Yes                </td></tr>\n",
       "\t<tr><td>20870              </td><td>Single             </td><td>Female             </td><td> 10000             </td><td>2                  </td><td>High School        </td><td>Manual             </td><td>Yes                </td><td>1.000000           </td><td>0-1 Miles          </td><td>Europe             </td><td>38                 </td><td>Yes                </td></tr>\n",
       "\t<tr><td>23316              </td><td>Single             </td><td>Male               </td><td> 30000             </td><td>3                  </td><td>Partial College    </td><td>Clerical           </td><td>No                 </td><td>2.000000           </td><td>1-2 Miles          </td><td>Pacific            </td><td>59                 </td><td>Yes                </td></tr>\n",
       "\t<tr><td>12610              </td><td>Married            </td><td>Female             </td><td> 30000             </td><td>1                  </td><td>Bachelors          </td><td>Clerical           </td><td>Yes                </td><td>0.000000           </td><td>0-1 Miles          </td><td>Europe             </td><td>47                 </td><td>No                 </td></tr>\n",
       "\t<tr><td>27183              </td><td>Single             </td><td>Male               </td><td> 40000             </td><td>2                  </td><td>Partial College    </td><td>Clerical           </td><td>Yes                </td><td>1.000000           </td><td>1-2 Miles          </td><td>Europe             </td><td>35                 </td><td>Yes                </td></tr>\n",
       "\t<tr><td>25940              </td><td>Single             </td><td>Male               </td><td> 20000             </td><td>2                  </td><td>Partial High School</td><td>Clerical           </td><td>Yes                </td><td>2.000000           </td><td>5-10 Miles         </td><td>Pacific            </td><td>55                 </td><td>Yes                </td></tr>\n",
       "\t<tr><td>25598              </td><td>Married            </td><td>Female             </td><td> 40000             </td><td>0                  </td><td>Graduate Degree    </td><td>Clerical           </td><td>Yes                </td><td>0.000000           </td><td>0-1 Miles          </td><td>Europe             </td><td>36                 </td><td>Yes                </td></tr>\n",
       "\t<tr><td>21564              </td><td>Single             </td><td>Female             </td><td> 80000             </td><td>0                  </td><td>Bachelors          </td><td>Professional       </td><td>Yes                </td><td>4.000000           </td><td>10+ Miles          </td><td>Pacific            </td><td>35                 </td><td>No                 </td></tr>\n",
       "\t<tr><td>19193              </td><td>Single             </td><td>Male               </td><td> 40000             </td><td>2                  </td><td>Partial College    </td><td>Clerical           </td><td>Yes                </td><td>0.000000           </td><td>1-2 Miles          </td><td>Europe             </td><td>35                 </td><td>Yes                </td></tr>\n",
       "\t<tr><td>26412              </td><td>Married            </td><td>Female             </td><td> 80000             </td><td>5                  </td><td>High School        </td><td>Management         </td><td>No                 </td><td>3.000000           </td><td>5-10 Miles         </td><td>Europe             </td><td>56                 </td><td>No                 </td></tr>\n",
       "\t<tr><td>27184              </td><td>Single             </td><td>Male               </td><td> 40000             </td><td>2                  </td><td>Partial College    </td><td>Clerical           </td><td>No                 </td><td>1.000000           </td><td>0-1 Miles          </td><td>Europe             </td><td>34                 </td><td>No                 </td></tr>\n",
       "\t<tr><td>12590              </td><td>Single             </td><td>Male               </td><td> 30000             </td><td>1                  </td><td>Bachelors          </td><td>Clerical           </td><td>Yes                </td><td>0.000000           </td><td>0-1 Miles          </td><td>Europe             </td><td>63                 </td><td>No                 </td></tr>\n",
       "\t<tr><td>17841              </td><td>Single             </td><td>Male               </td><td> 30000             </td><td>0                  </td><td>Partial College    </td><td>Clerical           </td><td>No                 </td><td>1.000000           </td><td>0-1 Miles          </td><td>Europe             </td><td>29                 </td><td>Yes                </td></tr>\n",
       "\t<tr><td>18283              </td><td>Married            </td><td>Female             </td><td>100000             </td><td>0                  </td><td>Bachelors          </td><td>Professional       </td><td>No                 </td><td>1.000000           </td><td>5-10 Miles         </td><td>Pacific            </td><td>40                 </td><td>No                 </td></tr>\n",
       "\t<tr><td>18299              </td><td>Married            </td><td>Male               </td><td> 70000             </td><td>5                  </td><td>Partial College    </td><td>Skilled Manual     </td><td>Yes                </td><td>2.000000           </td><td>5-10 Miles         </td><td>Pacific            </td><td>44                 </td><td>No                 </td></tr>\n",
       "\t<tr><td>16466              </td><td>Single             </td><td>Female             </td><td> 20000             </td><td>0                  </td><td>Partial High School</td><td>Manual             </td><td>No                 </td><td>2.000000           </td><td>0-1 Miles          </td><td>Europe             </td><td>32                 </td><td>Yes                </td></tr>\n",
       "\t<tr><td>...</td><td>...</td><td>...</td><td>...</td><td>...</td><td>...</td><td>...</td><td>...</td><td>...</td><td>...</td><td>...</td><td>...</td><td>...</td></tr>\n",
       "\t<tr><td>26576              </td><td>Married            </td><td>Female             </td><td> 60000             </td><td>0                  </td><td>Partial College    </td><td>Skilled Manual     </td><td>Yes                </td><td>2                  </td><td>5-10 Miles         </td><td>North America      </td><td>31                 </td><td>No                 </td></tr>\n",
       "\t<tr><td>12192              </td><td>Single             </td><td>Female             </td><td> 60000             </td><td>2                  </td><td>Partial High School</td><td>Skilled Manual     </td><td>No                 </td><td>2                  </td><td>1-2 Miles          </td><td>North America      </td><td>51                 </td><td>No                 </td></tr>\n",
       "\t<tr><td>14887              </td><td>Married            </td><td>Female             </td><td> 30000             </td><td>1                  </td><td>High School        </td><td>Clerical           </td><td>Yes                </td><td>1                  </td><td>5-10 Miles         </td><td>North America      </td><td>52                 </td><td>No                 </td></tr>\n",
       "\t<tr><td>11734              </td><td>Married            </td><td>Male               </td><td> 60000             </td><td>1                  </td><td>Partial College    </td><td>Skilled Manual     </td><td>No                 </td><td>1                  </td><td>0-1 Miles          </td><td>North America      </td><td>47                 </td><td>No                 </td></tr>\n",
       "\t<tr><td>17462              </td><td>Married            </td><td>Male               </td><td> 70000             </td><td>3                  </td><td>Graduate Degree    </td><td>Management         </td><td>Yes                </td><td>2                  </td><td>5-10 Miles         </td><td>North America      </td><td>53                 </td><td>Yes                </td></tr>\n",
       "\t<tr><td>20659              </td><td>Married            </td><td>Male               </td><td> 70000             </td><td>3                  </td><td>Graduate Degree    </td><td>Professional       </td><td>Yes                </td><td>0                  </td><td>0-1 Miles          </td><td>North America      </td><td>35                 </td><td>Yes                </td></tr>\n",
       "\t<tr><td>28004              </td><td>Married            </td><td>Female             </td><td> 60000             </td><td>3                  </td><td>Bachelors          </td><td>Management         </td><td>Yes                </td><td>2                  </td><td>10+ Miles          </td><td>North America      </td><td>66                 </td><td>No                 </td></tr>\n",
       "\t<tr><td>19741              </td><td>Single             </td><td>Female             </td><td> 80000             </td><td>4                  </td><td>Graduate Degree    </td><td>Management         </td><td>Yes                </td><td>2                  </td><td>5-10 Miles         </td><td>North America      </td><td>65                 </td><td>No                 </td></tr>\n",
       "\t<tr><td>17450              </td><td>Married            </td><td>Male               </td><td> 80000             </td><td>5                  </td><td>Partial College    </td><td>Professional       </td><td>Yes                </td><td>3                  </td><td>5-10 Miles         </td><td>North America      </td><td>45                 </td><td>No                 </td></tr>\n",
       "\t<tr><td>17337              </td><td>Single             </td><td>Male               </td><td> 40000             </td><td>0                  </td><td>High School        </td><td>Skilled Manual     </td><td>Yes                </td><td>1                  </td><td>5-10 Miles         </td><td>North America      </td><td>31                 </td><td>No                 </td></tr>\n",
       "\t<tr><td>18594              </td><td>Single             </td><td>Female             </td><td> 80000             </td><td>3                  </td><td>Bachelors          </td><td>Skilled Manual     </td><td>Yes                </td><td>3                  </td><td>10+ Miles          </td><td>North America      </td><td>40                 </td><td>Yes                </td></tr>\n",
       "\t<tr><td>15982              </td><td>Married            </td><td>Male               </td><td>110000             </td><td>5                  </td><td>Partial College    </td><td>Professional       </td><td>Yes                </td><td>4                  </td><td>2-5 Miles          </td><td>North America      </td><td>46                 </td><td>No                 </td></tr>\n",
       "\t<tr><td>28625              </td><td>Single             </td><td>Male               </td><td> 40000             </td><td>2                  </td><td>Partial College    </td><td>Clerical           </td><td>No                 </td><td>1                  </td><td>1-2 Miles          </td><td>North America      </td><td>47                 </td><td>Yes                </td></tr>\n",
       "\t<tr><td>11269              </td><td>Married            </td><td>Male               </td><td>130000             </td><td>2                  </td><td>Graduate Degree    </td><td>Management         </td><td>Yes                </td><td>2                  </td><td>0-1 Miles          </td><td>North America      </td><td>41                 </td><td>No                 </td></tr>\n",
       "\t<tr><td>25148              </td><td>Married            </td><td>Male               </td><td> 60000             </td><td>2                  </td><td>High School        </td><td>Professional       </td><td>No                 </td><td>2                  </td><td>1-2 Miles          </td><td>North America      </td><td>48                 </td><td>Yes                </td></tr>\n",
       "\t<tr><td>13920              </td><td>Single             </td><td>Female             </td><td> 50000             </td><td>4                  </td><td>Bachelors          </td><td>Skilled Manual     </td><td>Yes                </td><td>2                  </td><td>0-1 Miles          </td><td>North America      </td><td>42                 </td><td>No                 </td></tr>\n",
       "\t<tr><td>23704              </td><td>Single             </td><td>Male               </td><td> 40000             </td><td>5                  </td><td>High School        </td><td>Professional       </td><td>Yes                </td><td>4                  </td><td>10+ Miles          </td><td>North America      </td><td>43                 </td><td>Yes                </td></tr>\n",
       "\t<tr><td>28972              </td><td>Single             </td><td>Female             </td><td> 60000             </td><td>3                  </td><td>Graduate Degree    </td><td>Management         </td><td>Yes                </td><td>2                  </td><td>10+ Miles          </td><td>North America      </td><td>66                 </td><td>No                 </td></tr>\n",
       "\t<tr><td>22730              </td><td>Married            </td><td>Male               </td><td> 70000             </td><td>5                  </td><td>Bachelors          </td><td>Management         </td><td>Yes                </td><td>2                  </td><td>10+ Miles          </td><td>North America      </td><td>63                 </td><td>No                 </td></tr>\n",
       "\t<tr><td>29134              </td><td>Married            </td><td>Male               </td><td> 60000             </td><td>4                  </td><td>Bachelors          </td><td>Skilled Manual     </td><td>No                 </td><td>3                  </td><td>10+ Miles          </td><td>North America      </td><td>42                 </td><td>No                 </td></tr>\n",
       "\t<tr><td>14332              </td><td>Single             </td><td>Female             </td><td> 30000             </td><td>0                  </td><td>High School        </td><td>Skilled Manual     </td><td>No                 </td><td>2                  </td><td>5-10 Miles         </td><td>North America      </td><td>26                 </td><td>No                 </td></tr>\n",
       "\t<tr><td>19117              </td><td>Single             </td><td>Female             </td><td> 60000             </td><td>1                  </td><td>Graduate Degree    </td><td>Professional       </td><td>Yes                </td><td>0                  </td><td>2-5 Miles          </td><td>North America      </td><td>36                 </td><td>Yes                </td></tr>\n",
       "\t<tr><td>22864              </td><td>Married            </td><td>Male               </td><td> 90000             </td><td>2                  </td><td>Partial College    </td><td>Professional       </td><td>No                 </td><td>0                  </td><td>5-10 Miles         </td><td>North America      </td><td>49                 </td><td>Yes                </td></tr>\n",
       "\t<tr><td>11292              </td><td>Single             </td><td>Male               </td><td>150000             </td><td>1                  </td><td>Partial College    </td><td>Professional       </td><td>No                 </td><td>3                  </td><td>0-1 Miles          </td><td>North America      </td><td>44                 </td><td>Yes                </td></tr>\n",
       "\t<tr><td>13466              </td><td>Married            </td><td>Male               </td><td> 80000             </td><td>5                  </td><td>Partial College    </td><td>Professional       </td><td>Yes                </td><td>3                  </td><td>1-2 Miles          </td><td>North America      </td><td>46                 </td><td>No                 </td></tr>\n",
       "\t<tr><td>23731              </td><td>Married            </td><td>Male               </td><td> 60000             </td><td>2                  </td><td>High School        </td><td>Professional       </td><td>Yes                </td><td>2                  </td><td>2-5 Miles          </td><td>North America      </td><td>54                 </td><td>Yes                </td></tr>\n",
       "\t<tr><td>28672              </td><td>Single             </td><td>Male               </td><td> 70000             </td><td>4                  </td><td>Graduate Degree    </td><td>Professional       </td><td>Yes                </td><td>0                  </td><td>2-5 Miles          </td><td>North America      </td><td>35                 </td><td>Yes                </td></tr>\n",
       "\t<tr><td>11809              </td><td>Married            </td><td>Male               </td><td> 60000             </td><td>2                  </td><td>Bachelors          </td><td>Skilled Manual     </td><td>Yes                </td><td>0                  </td><td>0-1 Miles          </td><td>North America      </td><td>38                 </td><td>Yes                </td></tr>\n",
       "\t<tr><td>19664              </td><td>Single             </td><td>Male               </td><td>100000             </td><td>3                  </td><td>Bachelors          </td><td>Management         </td><td>No                 </td><td>3                  </td><td>1-2 Miles          </td><td>North America      </td><td>38                 </td><td>No                 </td></tr>\n",
       "\t<tr><td>12121              </td><td>Single             </td><td>Male               </td><td> 60000             </td><td>3                  </td><td>High School        </td><td>Professional       </td><td>Yes                </td><td>2                  </td><td>10+ Miles          </td><td>North America      </td><td>53                 </td><td>Yes                </td></tr>\n",
       "</tbody>\n",
       "</table>\n"
      ],
      "text/latex": [
       "\\begin{tabular}{r|lllllllllllll}\n",
       " ID & Marital.Status & Gender & Income & Children & Education & Occupation & Home.Owner & Cars & Commute.Distance & Region & Age & Purchased.Bike\\\\\n",
       "\\hline\n",
       "\t 12496               & Married             & Female              &  40000              & 1                   & Bachelors           & Skilled Manual      & Yes                 & 0.000000            & 0-1 Miles           & Europe              & 42                  & No                 \\\\\n",
       "\t 24107               & Married             & Male                &  30000              & 3                   & Partial College     & Clerical            & Yes                 & 1.000000            & 0-1 Miles           & Europe              & 43                  & No                 \\\\\n",
       "\t 14177               & Married             & Male                &  80000              & 5                   & Partial College     & Professional        & No                  & 2.000000            & 2-5 Miles           & Europe              & 60                  & No                 \\\\\n",
       "\t 24381               & Single              & Male                &  70000              & 0                   & Bachelors           & Professional        & Yes                 & 1.000000            & 5-10 Miles          & Pacific             & 41                  & Yes                \\\\\n",
       "\t 25597               & Single              & Male                &  30000              & 0                   & Bachelors           & Clerical            & No                  & 0.000000            & 0-1 Miles           & Europe              & 36                  & Yes                \\\\\n",
       "\t 13507               & Married             & Female              &  10000              & 2                   & Partial College     & Manual              & Yes                 & 0.000000            & 1-2 Miles           & Europe              & 50                  & No                 \\\\\n",
       "\t 27974               & Single              & Male                & 160000              & 2                   & High School         & Management          & Yes                 & 4.000000            & 0-1 Miles           & Pacific             & 33                  & Yes                \\\\\n",
       "\t 19364               & Married             & Male                &  40000              & 1                   & Bachelors           & Skilled Manual      & Yes                 & 0.000000            & 0-1 Miles           & Europe              & 43                  & Yes                \\\\\n",
       "\t 22155               & Married             & Male                &  20000              & 2                   & Partial High School & Clerical            & Yes                 & 2.000000            & 5-10 Miles          & Pacific             & 58                  & No                 \\\\\n",
       "\t 19280               & Married             & Male                &  60000              & 2                   & Partial College     & Manual              & Yes                 & 1.000000            & 0-1 Miles           & Europe              & 43                  & Yes                \\\\\n",
       "\t 22173               & Married             & Female              &  30000              & 3                   & High School         & Skilled Manual      & No                  & 2.000000            & 1-2 Miles           & Pacific             & 54                  & Yes                \\\\\n",
       "\t 12697               & Single              & Female              &  90000              & 0                   & Bachelors           & Professional        & No                  & 4.000000            & 10+ Miles           & Pacific             & 36                  & No                 \\\\\n",
       "\t 11434               & Married             & Male                & 170000              & 5                   & Partial College     & Professional        & Yes                 & 1.455096            & 0-1 Miles           & Europe              & 55                  & No                 \\\\\n",
       "\t 25323               & Married             & Male                &  40000              & 2                   & Partial College     & Clerical            & Yes                 & 1.000000            & 1-2 Miles           & Europe              & 35                  & Yes                \\\\\n",
       "\t 23542               & Single              & Male                &  60000              & 1                   & Partial College     & Skilled Manual      & No                  & 1.000000            & 0-1 Miles           & Pacific             & 45                  & Yes                \\\\\n",
       "\t 20870               & Single              & Female              &  10000              & 2                   & High School         & Manual              & Yes                 & 1.000000            & 0-1 Miles           & Europe              & 38                  & Yes                \\\\\n",
       "\t 23316               & Single              & Male                &  30000              & 3                   & Partial College     & Clerical            & No                  & 2.000000            & 1-2 Miles           & Pacific             & 59                  & Yes                \\\\\n",
       "\t 12610               & Married             & Female              &  30000              & 1                   & Bachelors           & Clerical            & Yes                 & 0.000000            & 0-1 Miles           & Europe              & 47                  & No                 \\\\\n",
       "\t 27183               & Single              & Male                &  40000              & 2                   & Partial College     & Clerical            & Yes                 & 1.000000            & 1-2 Miles           & Europe              & 35                  & Yes                \\\\\n",
       "\t 25940               & Single              & Male                &  20000              & 2                   & Partial High School & Clerical            & Yes                 & 2.000000            & 5-10 Miles          & Pacific             & 55                  & Yes                \\\\\n",
       "\t 25598               & Married             & Female              &  40000              & 0                   & Graduate Degree     & Clerical            & Yes                 & 0.000000            & 0-1 Miles           & Europe              & 36                  & Yes                \\\\\n",
       "\t 21564               & Single              & Female              &  80000              & 0                   & Bachelors           & Professional        & Yes                 & 4.000000            & 10+ Miles           & Pacific             & 35                  & No                 \\\\\n",
       "\t 19193               & Single              & Male                &  40000              & 2                   & Partial College     & Clerical            & Yes                 & 0.000000            & 1-2 Miles           & Europe              & 35                  & Yes                \\\\\n",
       "\t 26412               & Married             & Female              &  80000              & 5                   & High School         & Management          & No                  & 3.000000            & 5-10 Miles          & Europe              & 56                  & No                 \\\\\n",
       "\t 27184               & Single              & Male                &  40000              & 2                   & Partial College     & Clerical            & No                  & 1.000000            & 0-1 Miles           & Europe              & 34                  & No                 \\\\\n",
       "\t 12590               & Single              & Male                &  30000              & 1                   & Bachelors           & Clerical            & Yes                 & 0.000000            & 0-1 Miles           & Europe              & 63                  & No                 \\\\\n",
       "\t 17841               & Single              & Male                &  30000              & 0                   & Partial College     & Clerical            & No                  & 1.000000            & 0-1 Miles           & Europe              & 29                  & Yes                \\\\\n",
       "\t 18283               & Married             & Female              & 100000              & 0                   & Bachelors           & Professional        & No                  & 1.000000            & 5-10 Miles          & Pacific             & 40                  & No                 \\\\\n",
       "\t 18299               & Married             & Male                &  70000              & 5                   & Partial College     & Skilled Manual      & Yes                 & 2.000000            & 5-10 Miles          & Pacific             & 44                  & No                 \\\\\n",
       "\t 16466               & Single              & Female              &  20000              & 0                   & Partial High School & Manual              & No                  & 2.000000            & 0-1 Miles           & Europe              & 32                  & Yes                \\\\\n",
       "\t ... & ... & ... & ... & ... & ... & ... & ... & ... & ... & ... & ... & ...\\\\\n",
       "\t 26576               & Married             & Female              &  60000              & 0                   & Partial College     & Skilled Manual      & Yes                 & 2                   & 5-10 Miles          & North America       & 31                  & No                 \\\\\n",
       "\t 12192               & Single              & Female              &  60000              & 2                   & Partial High School & Skilled Manual      & No                  & 2                   & 1-2 Miles           & North America       & 51                  & No                 \\\\\n",
       "\t 14887               & Married             & Female              &  30000              & 1                   & High School         & Clerical            & Yes                 & 1                   & 5-10 Miles          & North America       & 52                  & No                 \\\\\n",
       "\t 11734               & Married             & Male                &  60000              & 1                   & Partial College     & Skilled Manual      & No                  & 1                   & 0-1 Miles           & North America       & 47                  & No                 \\\\\n",
       "\t 17462               & Married             & Male                &  70000              & 3                   & Graduate Degree     & Management          & Yes                 & 2                   & 5-10 Miles          & North America       & 53                  & Yes                \\\\\n",
       "\t 20659               & Married             & Male                &  70000              & 3                   & Graduate Degree     & Professional        & Yes                 & 0                   & 0-1 Miles           & North America       & 35                  & Yes                \\\\\n",
       "\t 28004               & Married             & Female              &  60000              & 3                   & Bachelors           & Management          & Yes                 & 2                   & 10+ Miles           & North America       & 66                  & No                 \\\\\n",
       "\t 19741               & Single              & Female              &  80000              & 4                   & Graduate Degree     & Management          & Yes                 & 2                   & 5-10 Miles          & North America       & 65                  & No                 \\\\\n",
       "\t 17450               & Married             & Male                &  80000              & 5                   & Partial College     & Professional        & Yes                 & 3                   & 5-10 Miles          & North America       & 45                  & No                 \\\\\n",
       "\t 17337               & Single              & Male                &  40000              & 0                   & High School         & Skilled Manual      & Yes                 & 1                   & 5-10 Miles          & North America       & 31                  & No                 \\\\\n",
       "\t 18594               & Single              & Female              &  80000              & 3                   & Bachelors           & Skilled Manual      & Yes                 & 3                   & 10+ Miles           & North America       & 40                  & Yes                \\\\\n",
       "\t 15982               & Married             & Male                & 110000              & 5                   & Partial College     & Professional        & Yes                 & 4                   & 2-5 Miles           & North America       & 46                  & No                 \\\\\n",
       "\t 28625               & Single              & Male                &  40000              & 2                   & Partial College     & Clerical            & No                  & 1                   & 1-2 Miles           & North America       & 47                  & Yes                \\\\\n",
       "\t 11269               & Married             & Male                & 130000              & 2                   & Graduate Degree     & Management          & Yes                 & 2                   & 0-1 Miles           & North America       & 41                  & No                 \\\\\n",
       "\t 25148               & Married             & Male                &  60000              & 2                   & High School         & Professional        & No                  & 2                   & 1-2 Miles           & North America       & 48                  & Yes                \\\\\n",
       "\t 13920               & Single              & Female              &  50000              & 4                   & Bachelors           & Skilled Manual      & Yes                 & 2                   & 0-1 Miles           & North America       & 42                  & No                 \\\\\n",
       "\t 23704               & Single              & Male                &  40000              & 5                   & High School         & Professional        & Yes                 & 4                   & 10+ Miles           & North America       & 43                  & Yes                \\\\\n",
       "\t 28972               & Single              & Female              &  60000              & 3                   & Graduate Degree     & Management          & Yes                 & 2                   & 10+ Miles           & North America       & 66                  & No                 \\\\\n",
       "\t 22730               & Married             & Male                &  70000              & 5                   & Bachelors           & Management          & Yes                 & 2                   & 10+ Miles           & North America       & 63                  & No                 \\\\\n",
       "\t 29134               & Married             & Male                &  60000              & 4                   & Bachelors           & Skilled Manual      & No                  & 3                   & 10+ Miles           & North America       & 42                  & No                 \\\\\n",
       "\t 14332               & Single              & Female              &  30000              & 0                   & High School         & Skilled Manual      & No                  & 2                   & 5-10 Miles          & North America       & 26                  & No                 \\\\\n",
       "\t 19117               & Single              & Female              &  60000              & 1                   & Graduate Degree     & Professional        & Yes                 & 0                   & 2-5 Miles           & North America       & 36                  & Yes                \\\\\n",
       "\t 22864               & Married             & Male                &  90000              & 2                   & Partial College     & Professional        & No                  & 0                   & 5-10 Miles          & North America       & 49                  & Yes                \\\\\n",
       "\t 11292               & Single              & Male                & 150000              & 1                   & Partial College     & Professional        & No                  & 3                   & 0-1 Miles           & North America       & 44                  & Yes                \\\\\n",
       "\t 13466               & Married             & Male                &  80000              & 5                   & Partial College     & Professional        & Yes                 & 3                   & 1-2 Miles           & North America       & 46                  & No                 \\\\\n",
       "\t 23731               & Married             & Male                &  60000              & 2                   & High School         & Professional        & Yes                 & 2                   & 2-5 Miles           & North America       & 54                  & Yes                \\\\\n",
       "\t 28672               & Single              & Male                &  70000              & 4                   & Graduate Degree     & Professional        & Yes                 & 0                   & 2-5 Miles           & North America       & 35                  & Yes                \\\\\n",
       "\t 11809               & Married             & Male                &  60000              & 2                   & Bachelors           & Skilled Manual      & Yes                 & 0                   & 0-1 Miles           & North America       & 38                  & Yes                \\\\\n",
       "\t 19664               & Single              & Male                & 100000              & 3                   & Bachelors           & Management          & No                  & 3                   & 1-2 Miles           & North America       & 38                  & No                 \\\\\n",
       "\t 12121               & Single              & Male                &  60000              & 3                   & High School         & Professional        & Yes                 & 2                   & 10+ Miles           & North America       & 53                  & Yes                \\\\\n",
       "\\end{tabular}\n"
      ],
      "text/markdown": [
       "\n",
       "| ID | Marital.Status | Gender | Income | Children | Education | Occupation | Home.Owner | Cars | Commute.Distance | Region | Age | Purchased.Bike |\n",
       "|---|---|---|---|---|---|---|---|---|---|---|---|---|\n",
       "| 12496               | Married             | Female              |  40000              | 1                   | Bachelors           | Skilled Manual      | Yes                 | 0.000000            | 0-1 Miles           | Europe              | 42                  | No                  |\n",
       "| 24107               | Married             | Male                |  30000              | 3                   | Partial College     | Clerical            | Yes                 | 1.000000            | 0-1 Miles           | Europe              | 43                  | No                  |\n",
       "| 14177               | Married             | Male                |  80000              | 5                   | Partial College     | Professional        | No                  | 2.000000            | 2-5 Miles           | Europe              | 60                  | No                  |\n",
       "| 24381               | Single              | Male                |  70000              | 0                   | Bachelors           | Professional        | Yes                 | 1.000000            | 5-10 Miles          | Pacific             | 41                  | Yes                 |\n",
       "| 25597               | Single              | Male                |  30000              | 0                   | Bachelors           | Clerical            | No                  | 0.000000            | 0-1 Miles           | Europe              | 36                  | Yes                 |\n",
       "| 13507               | Married             | Female              |  10000              | 2                   | Partial College     | Manual              | Yes                 | 0.000000            | 1-2 Miles           | Europe              | 50                  | No                  |\n",
       "| 27974               | Single              | Male                | 160000              | 2                   | High School         | Management          | Yes                 | 4.000000            | 0-1 Miles           | Pacific             | 33                  | Yes                 |\n",
       "| 19364               | Married             | Male                |  40000              | 1                   | Bachelors           | Skilled Manual      | Yes                 | 0.000000            | 0-1 Miles           | Europe              | 43                  | Yes                 |\n",
       "| 22155               | Married             | Male                |  20000              | 2                   | Partial High School | Clerical            | Yes                 | 2.000000            | 5-10 Miles          | Pacific             | 58                  | No                  |\n",
       "| 19280               | Married             | Male                |  60000              | 2                   | Partial College     | Manual              | Yes                 | 1.000000            | 0-1 Miles           | Europe              | 43                  | Yes                 |\n",
       "| 22173               | Married             | Female              |  30000              | 3                   | High School         | Skilled Manual      | No                  | 2.000000            | 1-2 Miles           | Pacific             | 54                  | Yes                 |\n",
       "| 12697               | Single              | Female              |  90000              | 0                   | Bachelors           | Professional        | No                  | 4.000000            | 10+ Miles           | Pacific             | 36                  | No                  |\n",
       "| 11434               | Married             | Male                | 170000              | 5                   | Partial College     | Professional        | Yes                 | 1.455096            | 0-1 Miles           | Europe              | 55                  | No                  |\n",
       "| 25323               | Married             | Male                |  40000              | 2                   | Partial College     | Clerical            | Yes                 | 1.000000            | 1-2 Miles           | Europe              | 35                  | Yes                 |\n",
       "| 23542               | Single              | Male                |  60000              | 1                   | Partial College     | Skilled Manual      | No                  | 1.000000            | 0-1 Miles           | Pacific             | 45                  | Yes                 |\n",
       "| 20870               | Single              | Female              |  10000              | 2                   | High School         | Manual              | Yes                 | 1.000000            | 0-1 Miles           | Europe              | 38                  | Yes                 |\n",
       "| 23316               | Single              | Male                |  30000              | 3                   | Partial College     | Clerical            | No                  | 2.000000            | 1-2 Miles           | Pacific             | 59                  | Yes                 |\n",
       "| 12610               | Married             | Female              |  30000              | 1                   | Bachelors           | Clerical            | Yes                 | 0.000000            | 0-1 Miles           | Europe              | 47                  | No                  |\n",
       "| 27183               | Single              | Male                |  40000              | 2                   | Partial College     | Clerical            | Yes                 | 1.000000            | 1-2 Miles           | Europe              | 35                  | Yes                 |\n",
       "| 25940               | Single              | Male                |  20000              | 2                   | Partial High School | Clerical            | Yes                 | 2.000000            | 5-10 Miles          | Pacific             | 55                  | Yes                 |\n",
       "| 25598               | Married             | Female              |  40000              | 0                   | Graduate Degree     | Clerical            | Yes                 | 0.000000            | 0-1 Miles           | Europe              | 36                  | Yes                 |\n",
       "| 21564               | Single              | Female              |  80000              | 0                   | Bachelors           | Professional        | Yes                 | 4.000000            | 10+ Miles           | Pacific             | 35                  | No                  |\n",
       "| 19193               | Single              | Male                |  40000              | 2                   | Partial College     | Clerical            | Yes                 | 0.000000            | 1-2 Miles           | Europe              | 35                  | Yes                 |\n",
       "| 26412               | Married             | Female              |  80000              | 5                   | High School         | Management          | No                  | 3.000000            | 5-10 Miles          | Europe              | 56                  | No                  |\n",
       "| 27184               | Single              | Male                |  40000              | 2                   | Partial College     | Clerical            | No                  | 1.000000            | 0-1 Miles           | Europe              | 34                  | No                  |\n",
       "| 12590               | Single              | Male                |  30000              | 1                   | Bachelors           | Clerical            | Yes                 | 0.000000            | 0-1 Miles           | Europe              | 63                  | No                  |\n",
       "| 17841               | Single              | Male                |  30000              | 0                   | Partial College     | Clerical            | No                  | 1.000000            | 0-1 Miles           | Europe              | 29                  | Yes                 |\n",
       "| 18283               | Married             | Female              | 100000              | 0                   | Bachelors           | Professional        | No                  | 1.000000            | 5-10 Miles          | Pacific             | 40                  | No                  |\n",
       "| 18299               | Married             | Male                |  70000              | 5                   | Partial College     | Skilled Manual      | Yes                 | 2.000000            | 5-10 Miles          | Pacific             | 44                  | No                  |\n",
       "| 16466               | Single              | Female              |  20000              | 0                   | Partial High School | Manual              | No                  | 2.000000            | 0-1 Miles           | Europe              | 32                  | Yes                 |\n",
       "| ... | ... | ... | ... | ... | ... | ... | ... | ... | ... | ... | ... | ... |\n",
       "| 26576               | Married             | Female              |  60000              | 0                   | Partial College     | Skilled Manual      | Yes                 | 2                   | 5-10 Miles          | North America       | 31                  | No                  |\n",
       "| 12192               | Single              | Female              |  60000              | 2                   | Partial High School | Skilled Manual      | No                  | 2                   | 1-2 Miles           | North America       | 51                  | No                  |\n",
       "| 14887               | Married             | Female              |  30000              | 1                   | High School         | Clerical            | Yes                 | 1                   | 5-10 Miles          | North America       | 52                  | No                  |\n",
       "| 11734               | Married             | Male                |  60000              | 1                   | Partial College     | Skilled Manual      | No                  | 1                   | 0-1 Miles           | North America       | 47                  | No                  |\n",
       "| 17462               | Married             | Male                |  70000              | 3                   | Graduate Degree     | Management          | Yes                 | 2                   | 5-10 Miles          | North America       | 53                  | Yes                 |\n",
       "| 20659               | Married             | Male                |  70000              | 3                   | Graduate Degree     | Professional        | Yes                 | 0                   | 0-1 Miles           | North America       | 35                  | Yes                 |\n",
       "| 28004               | Married             | Female              |  60000              | 3                   | Bachelors           | Management          | Yes                 | 2                   | 10+ Miles           | North America       | 66                  | No                  |\n",
       "| 19741               | Single              | Female              |  80000              | 4                   | Graduate Degree     | Management          | Yes                 | 2                   | 5-10 Miles          | North America       | 65                  | No                  |\n",
       "| 17450               | Married             | Male                |  80000              | 5                   | Partial College     | Professional        | Yes                 | 3                   | 5-10 Miles          | North America       | 45                  | No                  |\n",
       "| 17337               | Single              | Male                |  40000              | 0                   | High School         | Skilled Manual      | Yes                 | 1                   | 5-10 Miles          | North America       | 31                  | No                  |\n",
       "| 18594               | Single              | Female              |  80000              | 3                   | Bachelors           | Skilled Manual      | Yes                 | 3                   | 10+ Miles           | North America       | 40                  | Yes                 |\n",
       "| 15982               | Married             | Male                | 110000              | 5                   | Partial College     | Professional        | Yes                 | 4                   | 2-5 Miles           | North America       | 46                  | No                  |\n",
       "| 28625               | Single              | Male                |  40000              | 2                   | Partial College     | Clerical            | No                  | 1                   | 1-2 Miles           | North America       | 47                  | Yes                 |\n",
       "| 11269               | Married             | Male                | 130000              | 2                   | Graduate Degree     | Management          | Yes                 | 2                   | 0-1 Miles           | North America       | 41                  | No                  |\n",
       "| 25148               | Married             | Male                |  60000              | 2                   | High School         | Professional        | No                  | 2                   | 1-2 Miles           | North America       | 48                  | Yes                 |\n",
       "| 13920               | Single              | Female              |  50000              | 4                   | Bachelors           | Skilled Manual      | Yes                 | 2                   | 0-1 Miles           | North America       | 42                  | No                  |\n",
       "| 23704               | Single              | Male                |  40000              | 5                   | High School         | Professional        | Yes                 | 4                   | 10+ Miles           | North America       | 43                  | Yes                 |\n",
       "| 28972               | Single              | Female              |  60000              | 3                   | Graduate Degree     | Management          | Yes                 | 2                   | 10+ Miles           | North America       | 66                  | No                  |\n",
       "| 22730               | Married             | Male                |  70000              | 5                   | Bachelors           | Management          | Yes                 | 2                   | 10+ Miles           | North America       | 63                  | No                  |\n",
       "| 29134               | Married             | Male                |  60000              | 4                   | Bachelors           | Skilled Manual      | No                  | 3                   | 10+ Miles           | North America       | 42                  | No                  |\n",
       "| 14332               | Single              | Female              |  30000              | 0                   | High School         | Skilled Manual      | No                  | 2                   | 5-10 Miles          | North America       | 26                  | No                  |\n",
       "| 19117               | Single              | Female              |  60000              | 1                   | Graduate Degree     | Professional        | Yes                 | 0                   | 2-5 Miles           | North America       | 36                  | Yes                 |\n",
       "| 22864               | Married             | Male                |  90000              | 2                   | Partial College     | Professional        | No                  | 0                   | 5-10 Miles          | North America       | 49                  | Yes                 |\n",
       "| 11292               | Single              | Male                | 150000              | 1                   | Partial College     | Professional        | No                  | 3                   | 0-1 Miles           | North America       | 44                  | Yes                 |\n",
       "| 13466               | Married             | Male                |  80000              | 5                   | Partial College     | Professional        | Yes                 | 3                   | 1-2 Miles           | North America       | 46                  | No                  |\n",
       "| 23731               | Married             | Male                |  60000              | 2                   | High School         | Professional        | Yes                 | 2                   | 2-5 Miles           | North America       | 54                  | Yes                 |\n",
       "| 28672               | Single              | Male                |  70000              | 4                   | Graduate Degree     | Professional        | Yes                 | 0                   | 2-5 Miles           | North America       | 35                  | Yes                 |\n",
       "| 11809               | Married             | Male                |  60000              | 2                   | Bachelors           | Skilled Manual      | Yes                 | 0                   | 0-1 Miles           | North America       | 38                  | Yes                 |\n",
       "| 19664               | Single              | Male                | 100000              | 3                   | Bachelors           | Management          | No                  | 3                   | 1-2 Miles           | North America       | 38                  | No                  |\n",
       "| 12121               | Single              | Male                |  60000              | 3                   | High School         | Professional        | Yes                 | 2                   | 10+ Miles           | North America       | 53                  | Yes                 |\n",
       "\n"
      ],
      "text/plain": [
       "     ID    Marital.Status Gender Income Children Education          \n",
       "1    12496 Married        Female  40000 1        Bachelors          \n",
       "2    24107 Married        Male    30000 3        Partial College    \n",
       "3    14177 Married        Male    80000 5        Partial College    \n",
       "4    24381 Single         Male    70000 0        Bachelors          \n",
       "5    25597 Single         Male    30000 0        Bachelors          \n",
       "6    13507 Married        Female  10000 2        Partial College    \n",
       "7    27974 Single         Male   160000 2        High School        \n",
       "8    19364 Married        Male    40000 1        Bachelors          \n",
       "9    22155 Married        Male    20000 2        Partial High School\n",
       "10   19280 Married        Male    60000 2        Partial College    \n",
       "11   22173 Married        Female  30000 3        High School        \n",
       "12   12697 Single         Female  90000 0        Bachelors          \n",
       "13   11434 Married        Male   170000 5        Partial College    \n",
       "14   25323 Married        Male    40000 2        Partial College    \n",
       "15   23542 Single         Male    60000 1        Partial College    \n",
       "16   20870 Single         Female  10000 2        High School        \n",
       "17   23316 Single         Male    30000 3        Partial College    \n",
       "18   12610 Married        Female  30000 1        Bachelors          \n",
       "19   27183 Single         Male    40000 2        Partial College    \n",
       "20   25940 Single         Male    20000 2        Partial High School\n",
       "21   25598 Married        Female  40000 0        Graduate Degree    \n",
       "22   21564 Single         Female  80000 0        Bachelors          \n",
       "23   19193 Single         Male    40000 2        Partial College    \n",
       "24   26412 Married        Female  80000 5        High School        \n",
       "25   27184 Single         Male    40000 2        Partial College    \n",
       "26   12590 Single         Male    30000 1        Bachelors          \n",
       "27   17841 Single         Male    30000 0        Partial College    \n",
       "28   18283 Married        Female 100000 0        Bachelors          \n",
       "29   18299 Married        Male    70000 5        Partial College    \n",
       "30   16466 Single         Female  20000 0        Partial High School\n",
       "...  ...   ...            ...    ...    ...      ...                \n",
       "971  26576 Married        Female  60000 0        Partial College    \n",
       "972  12192 Single         Female  60000 2        Partial High School\n",
       "973  14887 Married        Female  30000 1        High School        \n",
       "974  11734 Married        Male    60000 1        Partial College    \n",
       "975  17462 Married        Male    70000 3        Graduate Degree    \n",
       "976  20659 Married        Male    70000 3        Graduate Degree    \n",
       "977  28004 Married        Female  60000 3        Bachelors          \n",
       "978  19741 Single         Female  80000 4        Graduate Degree    \n",
       "979  17450 Married        Male    80000 5        Partial College    \n",
       "980  17337 Single         Male    40000 0        High School        \n",
       "981  18594 Single         Female  80000 3        Bachelors          \n",
       "982  15982 Married        Male   110000 5        Partial College    \n",
       "983  28625 Single         Male    40000 2        Partial College    \n",
       "984  11269 Married        Male   130000 2        Graduate Degree    \n",
       "985  25148 Married        Male    60000 2        High School        \n",
       "986  13920 Single         Female  50000 4        Bachelors          \n",
       "987  23704 Single         Male    40000 5        High School        \n",
       "988  28972 Single         Female  60000 3        Graduate Degree    \n",
       "989  22730 Married        Male    70000 5        Bachelors          \n",
       "990  29134 Married        Male    60000 4        Bachelors          \n",
       "991  14332 Single         Female  30000 0        High School        \n",
       "992  19117 Single         Female  60000 1        Graduate Degree    \n",
       "993  22864 Married        Male    90000 2        Partial College    \n",
       "994  11292 Single         Male   150000 1        Partial College    \n",
       "995  13466 Married        Male    80000 5        Partial College    \n",
       "996  23731 Married        Male    60000 2        High School        \n",
       "997  28672 Single         Male    70000 4        Graduate Degree    \n",
       "998  11809 Married        Male    60000 2        Bachelors          \n",
       "999  19664 Single         Male   100000 3        Bachelors          \n",
       "1000 12121 Single         Male    60000 3        High School        \n",
       "     Occupation     Home.Owner Cars     Commute.Distance Region        Age\n",
       "1    Skilled Manual Yes        0.000000 0-1 Miles        Europe        42 \n",
       "2    Clerical       Yes        1.000000 0-1 Miles        Europe        43 \n",
       "3    Professional   No         2.000000 2-5 Miles        Europe        60 \n",
       "4    Professional   Yes        1.000000 5-10 Miles       Pacific       41 \n",
       "5    Clerical       No         0.000000 0-1 Miles        Europe        36 \n",
       "6    Manual         Yes        0.000000 1-2 Miles        Europe        50 \n",
       "7    Management     Yes        4.000000 0-1 Miles        Pacific       33 \n",
       "8    Skilled Manual Yes        0.000000 0-1 Miles        Europe        43 \n",
       "9    Clerical       Yes        2.000000 5-10 Miles       Pacific       58 \n",
       "10   Manual         Yes        1.000000 0-1 Miles        Europe        43 \n",
       "11   Skilled Manual No         2.000000 1-2 Miles        Pacific       54 \n",
       "12   Professional   No         4.000000 10+ Miles        Pacific       36 \n",
       "13   Professional   Yes        1.455096 0-1 Miles        Europe        55 \n",
       "14   Clerical       Yes        1.000000 1-2 Miles        Europe        35 \n",
       "15   Skilled Manual No         1.000000 0-1 Miles        Pacific       45 \n",
       "16   Manual         Yes        1.000000 0-1 Miles        Europe        38 \n",
       "17   Clerical       No         2.000000 1-2 Miles        Pacific       59 \n",
       "18   Clerical       Yes        0.000000 0-1 Miles        Europe        47 \n",
       "19   Clerical       Yes        1.000000 1-2 Miles        Europe        35 \n",
       "20   Clerical       Yes        2.000000 5-10 Miles       Pacific       55 \n",
       "21   Clerical       Yes        0.000000 0-1 Miles        Europe        36 \n",
       "22   Professional   Yes        4.000000 10+ Miles        Pacific       35 \n",
       "23   Clerical       Yes        0.000000 1-2 Miles        Europe        35 \n",
       "24   Management     No         3.000000 5-10 Miles       Europe        56 \n",
       "25   Clerical       No         1.000000 0-1 Miles        Europe        34 \n",
       "26   Clerical       Yes        0.000000 0-1 Miles        Europe        63 \n",
       "27   Clerical       No         1.000000 0-1 Miles        Europe        29 \n",
       "28   Professional   No         1.000000 5-10 Miles       Pacific       40 \n",
       "29   Skilled Manual Yes        2.000000 5-10 Miles       Pacific       44 \n",
       "30   Manual         No         2.000000 0-1 Miles        Europe        32 \n",
       "...  ...            ...        ...      ...              ...           ...\n",
       "971  Skilled Manual Yes        2        5-10 Miles       North America 31 \n",
       "972  Skilled Manual No         2        1-2 Miles        North America 51 \n",
       "973  Clerical       Yes        1        5-10 Miles       North America 52 \n",
       "974  Skilled Manual No         1        0-1 Miles        North America 47 \n",
       "975  Management     Yes        2        5-10 Miles       North America 53 \n",
       "976  Professional   Yes        0        0-1 Miles        North America 35 \n",
       "977  Management     Yes        2        10+ Miles        North America 66 \n",
       "978  Management     Yes        2        5-10 Miles       North America 65 \n",
       "979  Professional   Yes        3        5-10 Miles       North America 45 \n",
       "980  Skilled Manual Yes        1        5-10 Miles       North America 31 \n",
       "981  Skilled Manual Yes        3        10+ Miles        North America 40 \n",
       "982  Professional   Yes        4        2-5 Miles        North America 46 \n",
       "983  Clerical       No         1        1-2 Miles        North America 47 \n",
       "984  Management     Yes        2        0-1 Miles        North America 41 \n",
       "985  Professional   No         2        1-2 Miles        North America 48 \n",
       "986  Skilled Manual Yes        2        0-1 Miles        North America 42 \n",
       "987  Professional   Yes        4        10+ Miles        North America 43 \n",
       "988  Management     Yes        2        10+ Miles        North America 66 \n",
       "989  Management     Yes        2        10+ Miles        North America 63 \n",
       "990  Skilled Manual No         3        10+ Miles        North America 42 \n",
       "991  Skilled Manual No         2        5-10 Miles       North America 26 \n",
       "992  Professional   Yes        0        2-5 Miles        North America 36 \n",
       "993  Professional   No         0        5-10 Miles       North America 49 \n",
       "994  Professional   No         3        0-1 Miles        North America 44 \n",
       "995  Professional   Yes        3        1-2 Miles        North America 46 \n",
       "996  Professional   Yes        2        2-5 Miles        North America 54 \n",
       "997  Professional   Yes        0        2-5 Miles        North America 35 \n",
       "998  Skilled Manual Yes        0        0-1 Miles        North America 38 \n",
       "999  Management     No         3        1-2 Miles        North America 38 \n",
       "1000 Professional   Yes        2        10+ Miles        North America 53 \n",
       "     Purchased.Bike\n",
       "1    No            \n",
       "2    No            \n",
       "3    No            \n",
       "4    Yes           \n",
       "5    Yes           \n",
       "6    No            \n",
       "7    Yes           \n",
       "8    Yes           \n",
       "9    No            \n",
       "10   Yes           \n",
       "11   Yes           \n",
       "12   No            \n",
       "13   No            \n",
       "14   Yes           \n",
       "15   Yes           \n",
       "16   Yes           \n",
       "17   Yes           \n",
       "18   No            \n",
       "19   Yes           \n",
       "20   Yes           \n",
       "21   Yes           \n",
       "22   No            \n",
       "23   Yes           \n",
       "24   No            \n",
       "25   No            \n",
       "26   No            \n",
       "27   Yes           \n",
       "28   No            \n",
       "29   No            \n",
       "30   Yes           \n",
       "...  ...           \n",
       "971  No            \n",
       "972  No            \n",
       "973  No            \n",
       "974  No            \n",
       "975  Yes           \n",
       "976  Yes           \n",
       "977  No            \n",
       "978  No            \n",
       "979  No            \n",
       "980  No            \n",
       "981  Yes           \n",
       "982  No            \n",
       "983  Yes           \n",
       "984  No            \n",
       "985  Yes           \n",
       "986  No            \n",
       "987  Yes           \n",
       "988  No            \n",
       "989  No            \n",
       "990  No            \n",
       "991  No            \n",
       "992  Yes           \n",
       "993  Yes           \n",
       "994  Yes           \n",
       "995  No            \n",
       "996  Yes           \n",
       "997  Yes           \n",
       "998  Yes           \n",
       "999  No            \n",
       "1000 Yes           "
      ]
     },
     "metadata": {},
     "output_type": "display_data"
    }
   ],
   "source": [
    "d=subset(d,select=-c(X))\n",
    "d"
   ]
  },
  {
   "cell_type": "markdown",
   "id": "cb7e76e1",
   "metadata": {},
   "source": [
    "### <u>Visualization of data<u>"
   ]
  },
  {
   "cell_type": "markdown",
   "id": "1f9aa448",
   "metadata": {},
   "source": [
    "##### Filtering the data according to Females and males to know about their income "
   ]
  },
  {
   "cell_type": "code",
   "execution_count": 25,
   "id": "ab273380",
   "metadata": {},
   "outputs": [
    {
     "data": {
      "text/html": [
       "<table>\n",
       "<thead><tr><th></th><th scope=col>ID</th><th scope=col>Marital.Status</th><th scope=col>Gender</th><th scope=col>Income</th><th scope=col>Children</th><th scope=col>Education</th><th scope=col>Occupation</th><th scope=col>Home.Owner</th><th scope=col>Cars</th><th scope=col>Commute.Distance</th><th scope=col>Region</th><th scope=col>Age</th><th scope=col>Purchased.Bike</th></tr></thead>\n",
       "<tbody>\n",
       "\t<tr><th scope=row>1</th><td>12496              </td><td>Married            </td><td>Female             </td><td> 40000             </td><td>1                  </td><td>Bachelors          </td><td>Skilled Manual     </td><td>Yes                </td><td>0                  </td><td>0-1 Miles          </td><td>Europe             </td><td>42                 </td><td>No                 </td></tr>\n",
       "\t<tr><th scope=row>6</th><td>13507              </td><td>Married            </td><td>Female             </td><td> 10000             </td><td>2                  </td><td>Partial College    </td><td>Manual             </td><td>Yes                </td><td>0                  </td><td>1-2 Miles          </td><td>Europe             </td><td>50                 </td><td>No                 </td></tr>\n",
       "\t<tr><th scope=row>11</th><td>22173              </td><td>Married            </td><td>Female             </td><td> 30000             </td><td>3                  </td><td>High School        </td><td>Skilled Manual     </td><td>No                 </td><td>2                  </td><td>1-2 Miles          </td><td>Pacific            </td><td>54                 </td><td>Yes                </td></tr>\n",
       "\t<tr><th scope=row>12</th><td>12697              </td><td>Single             </td><td>Female             </td><td> 90000             </td><td>0                  </td><td>Bachelors          </td><td>Professional       </td><td>No                 </td><td>4                  </td><td>10+ Miles          </td><td>Pacific            </td><td>36                 </td><td>No                 </td></tr>\n",
       "\t<tr><th scope=row>16</th><td>20870              </td><td>Single             </td><td>Female             </td><td> 10000             </td><td>2                  </td><td>High School        </td><td>Manual             </td><td>Yes                </td><td>1                  </td><td>0-1 Miles          </td><td>Europe             </td><td>38                 </td><td>Yes                </td></tr>\n",
       "\t<tr><th scope=row>18</th><td>12610              </td><td>Married            </td><td>Female             </td><td> 30000             </td><td>1                  </td><td>Bachelors          </td><td>Clerical           </td><td>Yes                </td><td>0                  </td><td>0-1 Miles          </td><td>Europe             </td><td>47                 </td><td>No                 </td></tr>\n",
       "\t<tr><th scope=row>21</th><td>25598              </td><td>Married            </td><td>Female             </td><td> 40000             </td><td>0                  </td><td>Graduate Degree    </td><td>Clerical           </td><td>Yes                </td><td>0                  </td><td>0-1 Miles          </td><td>Europe             </td><td>36                 </td><td>Yes                </td></tr>\n",
       "\t<tr><th scope=row>22</th><td>21564              </td><td>Single             </td><td>Female             </td><td> 80000             </td><td>0                  </td><td>Bachelors          </td><td>Professional       </td><td>Yes                </td><td>4                  </td><td>10+ Miles          </td><td>Pacific            </td><td>35                 </td><td>No                 </td></tr>\n",
       "\t<tr><th scope=row>24</th><td>26412              </td><td>Married            </td><td>Female             </td><td> 80000             </td><td>5                  </td><td>High School        </td><td>Management         </td><td>No                 </td><td>3                  </td><td>5-10 Miles         </td><td>Europe             </td><td>56                 </td><td>No                 </td></tr>\n",
       "\t<tr><th scope=row>28</th><td>18283              </td><td>Married            </td><td>Female             </td><td>100000             </td><td>0                  </td><td>Bachelors          </td><td>Professional       </td><td>No                 </td><td>1                  </td><td>5-10 Miles         </td><td>Pacific            </td><td>40                 </td><td>No                 </td></tr>\n",
       "\t<tr><th scope=row>30</th><td>16466              </td><td>Single             </td><td>Female             </td><td> 20000             </td><td>0                  </td><td>Partial High School</td><td>Manual             </td><td>No                 </td><td>2                  </td><td>0-1 Miles          </td><td>Europe             </td><td>32                 </td><td>Yes                </td></tr>\n",
       "\t<tr><th scope=row>31</th><td>19273              </td><td>Married            </td><td>Female             </td><td> 20000             </td><td>2                  </td><td>Partial College    </td><td>Manual             </td><td>Yes                </td><td>0                  </td><td>0-1 Miles          </td><td>Europe             </td><td>63                 </td><td>No                 </td></tr>\n",
       "\t<tr><th scope=row>33</th><td>20942              </td><td>Single             </td><td>Female             </td><td> 20000             </td><td>0                  </td><td>High School        </td><td>Manual             </td><td>No                 </td><td>1                  </td><td>5-10 Miles         </td><td>Europe             </td><td>31                 </td><td>No                 </td></tr>\n",
       "\t<tr><th scope=row>36</th><td>28380              </td><td>Single             </td><td>Female             </td><td> 10000             </td><td>5                  </td><td>Partial High School</td><td>Manual             </td><td>No                 </td><td>2                  </td><td>0-1 Miles          </td><td>Europe             </td><td>41                 </td><td>No                 </td></tr>\n",
       "\t<tr><th scope=row>37</th><td>17891              </td><td>Married            </td><td>Female             </td><td> 10000             </td><td>2                  </td><td>Partial College    </td><td>Manual             </td><td>Yes                </td><td>1                  </td><td>0-1 Miles          </td><td>Europe             </td><td>50                 </td><td>Yes                </td></tr>\n",
       "\t<tr><th scope=row>38</th><td>27832              </td><td>Single             </td><td>Female             </td><td> 30000             </td><td>0                  </td><td>Partial College    </td><td>Clerical           </td><td>No                 </td><td>1                  </td><td>2-5 Miles          </td><td>Europe             </td><td>30                 </td><td>No                 </td></tr>\n",
       "\t<tr><th scope=row>40</th><td>16259              </td><td>Single             </td><td>Female             </td><td> 10000             </td><td>4                  </td><td>Partial High School</td><td>Manual             </td><td>Yes                </td><td>2                  </td><td>0-1 Miles          </td><td>Europe             </td><td>40                 </td><td>Yes                </td></tr>\n",
       "\t<tr><th scope=row>41</th><td>27803              </td><td>Single             </td><td>Female             </td><td> 30000             </td><td>2                  </td><td>Partial College    </td><td>Clerical           </td><td>No                 </td><td>0                  </td><td>0-1 Miles          </td><td>Europe             </td><td>43                 </td><td>No                 </td></tr>\n",
       "\t<tr><th scope=row>42</th><td>14347              </td><td>Single             </td><td>Female             </td><td> 40000             </td><td>2                  </td><td>Bachelors          </td><td>Management         </td><td>Yes                </td><td>2                  </td><td>5-10 Miles         </td><td>Pacific            </td><td>65                 </td><td>Yes                </td></tr>\n",
       "\t<tr><th scope=row>43</th><td>17703              </td><td>Married            </td><td>Female             </td><td> 10000             </td><td>1                  </td><td>Graduate Degree    </td><td>Manual             </td><td>Yes                </td><td>0                  </td><td>0-1 Miles          </td><td>Europe             </td><td>40                 </td><td>No                 </td></tr>\n",
       "\t<tr><th scope=row>44</th><td>17185              </td><td>Married            </td><td>Female             </td><td>170000             </td><td>4                  </td><td>Partial College    </td><td>Professional       </td><td>No                 </td><td>3                  </td><td>5-10 Miles         </td><td>Europe             </td><td>48                 </td><td>Yes                </td></tr>\n",
       "\t<tr><th scope=row>45</th><td>29380              </td><td>Married            </td><td>Female             </td><td> 20000             </td><td>3                  </td><td>High School        </td><td>Manual             </td><td>Yes                </td><td>0                  </td><td>0-1 Miles          </td><td>Europe             </td><td>41                 </td><td>Yes                </td></tr>\n",
       "\t<tr><th scope=row>46</th><td>23986              </td><td>Married            </td><td>Female             </td><td> 20000             </td><td>1                  </td><td>Bachelors          </td><td>Clerical           </td><td>Yes                </td><td>0                  </td><td>0-1 Miles          </td><td>Europe             </td><td>66                 </td><td>Yes                </td></tr>\n",
       "\t<tr><th scope=row>47</th><td>24466              </td><td>Married            </td><td>Female             </td><td> 60000             </td><td>1                  </td><td>Partial College    </td><td>Skilled Manual     </td><td>Yes                </td><td>1                  </td><td>5-10 Miles         </td><td>Pacific            </td><td>46                 </td><td>Yes                </td></tr>\n",
       "\t<tr><th scope=row>48</th><td>29097              </td><td>Single             </td><td>Female             </td><td> 40000             </td><td>2                  </td><td>Partial College    </td><td>Skilled Manual     </td><td>Yes                </td><td>2                  </td><td>5-10 Miles         </td><td>Pacific            </td><td>52                 </td><td>Yes                </td></tr>\n",
       "\t<tr><th scope=row>51</th><td>13826              </td><td>Single             </td><td>Female             </td><td> 30000             </td><td>0                  </td><td>Partial College    </td><td>Clerical           </td><td>No                 </td><td>1                  </td><td>0-1 Miles          </td><td>Europe             </td><td>28                 </td><td>No                 </td></tr>\n",
       "\t<tr><th scope=row>53</th><td>12558              </td><td>Married            </td><td>Female             </td><td> 20000             </td><td>1                  </td><td>Bachelors          </td><td>Clerical           </td><td>Yes                </td><td>0                  </td><td>0-1 Miles          </td><td>Europe             </td><td>65                 </td><td>No                 </td></tr>\n",
       "\t<tr><th scope=row>54</th><td>24871              </td><td>Single             </td><td>Female             </td><td> 90000             </td><td>4                  </td><td>High School        </td><td>Management         </td><td>No                 </td><td>3                  </td><td>5-10 Miles         </td><td>Europe             </td><td>56                 </td><td>No                 </td></tr>\n",
       "\t<tr><th scope=row>55</th><td>17319              </td><td>Single             </td><td>Female             </td><td> 70000             </td><td>0                  </td><td>Bachelors          </td><td>Professional       </td><td>No                 </td><td>1                  </td><td>5-10 Miles         </td><td>Pacific            </td><td>42                 </td><td>No                 </td></tr>\n",
       "\t<tr><th scope=row>59</th><td>25502              </td><td>Married            </td><td>Female             </td><td> 40000             </td><td>1                  </td><td>Bachelors          </td><td>Skilled Manual     </td><td>Yes                </td><td>0                  </td><td>0-1 Miles          </td><td>Europe             </td><td>43                 </td><td>Yes                </td></tr>\n",
       "\t<tr><th scope=row>...</th><td>...</td><td>...</td><td>...</td><td>...</td><td>...</td><td>...</td><td>...</td><td>...</td><td>...</td><td>...</td><td>...</td><td>...</td><td>...</td></tr>\n",
       "\t<tr><th scope=row>937</th><td>19856              </td><td>Married            </td><td>Female             </td><td> 60000             </td><td>4                  </td><td>Bachelors          </td><td>Management         </td><td>Yes                </td><td>2                  </td><td>2-5 Miles          </td><td>North America      </td><td>60                 </td><td>No                 </td></tr>\n",
       "\t<tr><th scope=row>939</th><td>27740              </td><td>Married            </td><td>Female             </td><td> 40000             </td><td>0                  </td><td>High School        </td><td>Skilled Manual     </td><td>Yes                </td><td>2                  </td><td>5-10 Miles         </td><td>North America      </td><td>27                 </td><td>No                 </td></tr>\n",
       "\t<tr><th scope=row>941</th><td>15292              </td><td>Single             </td><td>Female             </td><td> 60000             </td><td>1                  </td><td>Graduate Degree    </td><td>Skilled Manual     </td><td>Yes                </td><td>0                  </td><td>1-2 Miles          </td><td>North America      </td><td>35                 </td><td>No                 </td></tr>\n",
       "\t<tr><th scope=row>942</th><td>21587              </td><td>Married            </td><td>Female             </td><td> 60000             </td><td>1                  </td><td>Graduate Degree    </td><td>Skilled Manual     </td><td>Yes                </td><td>0                  </td><td>2-5 Miles          </td><td>North America      </td><td>34                 </td><td>Yes                </td></tr>\n",
       "\t<tr><th scope=row>943</th><td>23513              </td><td>Married            </td><td>Female             </td><td> 40000             </td><td>3                  </td><td>Partial College    </td><td>Professional       </td><td>Yes                </td><td>2                  </td><td>5-10 Miles         </td><td>North America      </td><td>54                 </td><td>No                 </td></tr>\n",
       "\t<tr><th scope=row>944</th><td>24322              </td><td>Married            </td><td>Female             </td><td> 60000             </td><td>4                  </td><td>Bachelors          </td><td>Skilled Manual     </td><td>Yes                </td><td>2                  </td><td>0-1 Miles          </td><td>North America      </td><td>42                 </td><td>No                 </td></tr>\n",
       "\t<tr><th scope=row>945</th><td>26298              </td><td>Married            </td><td>Female             </td><td> 50000             </td><td>1                  </td><td>Bachelors          </td><td>Skilled Manual     </td><td>Yes                </td><td>0                  </td><td>2-5 Miles          </td><td>North America      </td><td>34                 </td><td>Yes                </td></tr>\n",
       "\t<tr><th scope=row>947</th><td>13343              </td><td>Married            </td><td>Female             </td><td> 90000             </td><td>5                  </td><td>Bachelors          </td><td>Management         </td><td>Yes                </td><td>2                  </td><td>1-2 Miles          </td><td>North America      </td><td>63                 </td><td>Yes                </td></tr>\n",
       "\t<tr><th scope=row>948</th><td>11303              </td><td>Single             </td><td>Female             </td><td> 90000             </td><td>4                  </td><td>High School        </td><td>Professional       </td><td>No                 </td><td>3                  </td><td>1-2 Miles          </td><td>North America      </td><td>45                 </td><td>Yes                </td></tr>\n",
       "\t<tr><th scope=row>949</th><td>21693              </td><td>Single             </td><td>Female             </td><td> 60000             </td><td>0                  </td><td>Graduate Degree    </td><td>Skilled Manual     </td><td>No                 </td><td>0                  </td><td>0-1 Miles          </td><td>North America      </td><td>40                 </td><td>No                 </td></tr>\n",
       "\t<tr><th scope=row>951</th><td>11788              </td><td>Single             </td><td>Female             </td><td> 70000             </td><td>1                  </td><td>Graduate Degree    </td><td>Professional       </td><td>Yes                </td><td>0                  </td><td>2-5 Miles          </td><td>North America      </td><td>34                 </td><td>No                 </td></tr>\n",
       "\t<tr><th scope=row>953</th><td>15319              </td><td>Married            </td><td>Female             </td><td> 70000             </td><td>4                  </td><td>Bachelors          </td><td>Management         </td><td>No                 </td><td>1                  </td><td>1-2 Miles          </td><td>North America      </td><td>59                 </td><td>No                 </td></tr>\n",
       "\t<tr><th scope=row>954</th><td>17654              </td><td>Single             </td><td>Female             </td><td> 40000             </td><td>3                  </td><td>Partial College    </td><td>Clerical           </td><td>Yes                </td><td>1                  </td><td>1-2 Miles          </td><td>North America      </td><td>30                 </td><td>Yes                </td></tr>\n",
       "\t<tr><th scope=row>956</th><td>17541              </td><td>Married            </td><td>Female             </td><td> 40000             </td><td>4                  </td><td>High School        </td><td>Skilled Manual     </td><td>Yes                </td><td>2                  </td><td>2-5 Miles          </td><td>North America      </td><td>43                 </td><td>No                 </td></tr>\n",
       "\t<tr><th scope=row>957</th><td>13886              </td><td>Married            </td><td>Female             </td><td> 70000             </td><td>4                  </td><td>Graduate Degree    </td><td>Professional       </td><td>Yes                </td><td>0                  </td><td>2-5 Miles          </td><td>North America      </td><td>35                 </td><td>Yes                </td></tr>\n",
       "\t<tr><th scope=row>958</th><td>13073              </td><td>Married            </td><td>Female             </td><td> 60000             </td><td>0                  </td><td>Partial College    </td><td>Professional       </td><td>Yes                </td><td>2                  </td><td>5-10 Miles         </td><td>North America      </td><td>30                 </td><td>No                 </td></tr>\n",
       "\t<tr><th scope=row>962</th><td>16651              </td><td>Married            </td><td>Female             </td><td>120000             </td><td>2                  </td><td>Bachelors          </td><td>Management         </td><td>Yes                </td><td>3                  </td><td>5-10 Miles         </td><td>North America      </td><td>62                 </td><td>No                 </td></tr>\n",
       "\t<tr><th scope=row>964</th><td>16007              </td><td>Married            </td><td>Female             </td><td> 90000             </td><td>5                  </td><td>Bachelors          </td><td>Management         </td><td>Yes                </td><td>2                  </td><td>1-2 Miles          </td><td>North America      </td><td>66                 </td><td>Yes                </td></tr>\n",
       "\t<tr><th scope=row>966</th><td>27756              </td><td>Single             </td><td>Female             </td><td> 50000             </td><td>3                  </td><td>Bachelors          </td><td>Skilled Manual     </td><td>No                 </td><td>1                  </td><td>0-1 Miles          </td><td>North America      </td><td>40                 </td><td>No                 </td></tr>\n",
       "\t<tr><th scope=row>967</th><td>23818              </td><td>Married            </td><td>Female             </td><td> 50000             </td><td>0                  </td><td>Graduate Degree    </td><td>Skilled Manual     </td><td>Yes                </td><td>0                  </td><td>1-2 Miles          </td><td>North America      </td><td>33                 </td><td>Yes                </td></tr>\n",
       "\t<tr><th scope=row>971</th><td>26576              </td><td>Married            </td><td>Female             </td><td> 60000             </td><td>0                  </td><td>Partial College    </td><td>Skilled Manual     </td><td>Yes                </td><td>2                  </td><td>5-10 Miles         </td><td>North America      </td><td>31                 </td><td>No                 </td></tr>\n",
       "\t<tr><th scope=row>972</th><td>12192              </td><td>Single             </td><td>Female             </td><td> 60000             </td><td>2                  </td><td>Partial High School</td><td>Skilled Manual     </td><td>No                 </td><td>2                  </td><td>1-2 Miles          </td><td>North America      </td><td>51                 </td><td>No                 </td></tr>\n",
       "\t<tr><th scope=row>973</th><td>14887              </td><td>Married            </td><td>Female             </td><td> 30000             </td><td>1                  </td><td>High School        </td><td>Clerical           </td><td>Yes                </td><td>1                  </td><td>5-10 Miles         </td><td>North America      </td><td>52                 </td><td>No                 </td></tr>\n",
       "\t<tr><th scope=row>977</th><td>28004              </td><td>Married            </td><td>Female             </td><td> 60000             </td><td>3                  </td><td>Bachelors          </td><td>Management         </td><td>Yes                </td><td>2                  </td><td>10+ Miles          </td><td>North America      </td><td>66                 </td><td>No                 </td></tr>\n",
       "\t<tr><th scope=row>978</th><td>19741              </td><td>Single             </td><td>Female             </td><td> 80000             </td><td>4                  </td><td>Graduate Degree    </td><td>Management         </td><td>Yes                </td><td>2                  </td><td>5-10 Miles         </td><td>North America      </td><td>65                 </td><td>No                 </td></tr>\n",
       "\t<tr><th scope=row>981</th><td>18594              </td><td>Single             </td><td>Female             </td><td> 80000             </td><td>3                  </td><td>Bachelors          </td><td>Skilled Manual     </td><td>Yes                </td><td>3                  </td><td>10+ Miles          </td><td>North America      </td><td>40                 </td><td>Yes                </td></tr>\n",
       "\t<tr><th scope=row>986</th><td>13920              </td><td>Single             </td><td>Female             </td><td> 50000             </td><td>4                  </td><td>Bachelors          </td><td>Skilled Manual     </td><td>Yes                </td><td>2                  </td><td>0-1 Miles          </td><td>North America      </td><td>42                 </td><td>No                 </td></tr>\n",
       "\t<tr><th scope=row>988</th><td>28972              </td><td>Single             </td><td>Female             </td><td> 60000             </td><td>3                  </td><td>Graduate Degree    </td><td>Management         </td><td>Yes                </td><td>2                  </td><td>10+ Miles          </td><td>North America      </td><td>66                 </td><td>No                 </td></tr>\n",
       "\t<tr><th scope=row>991</th><td>14332              </td><td>Single             </td><td>Female             </td><td> 30000             </td><td>0                  </td><td>High School        </td><td>Skilled Manual     </td><td>No                 </td><td>2                  </td><td>5-10 Miles         </td><td>North America      </td><td>26                 </td><td>No                 </td></tr>\n",
       "\t<tr><th scope=row>992</th><td>19117              </td><td>Single             </td><td>Female             </td><td> 60000             </td><td>1                  </td><td>Graduate Degree    </td><td>Professional       </td><td>Yes                </td><td>0                  </td><td>2-5 Miles          </td><td>North America      </td><td>36                 </td><td>Yes                </td></tr>\n",
       "</tbody>\n",
       "</table>\n"
      ],
      "text/latex": [
       "\\begin{tabular}{r|lllllllllllll}\n",
       "  & ID & Marital.Status & Gender & Income & Children & Education & Occupation & Home.Owner & Cars & Commute.Distance & Region & Age & Purchased.Bike\\\\\n",
       "\\hline\n",
       "\t1 & 12496               & Married             & Female              &  40000              & 1                   & Bachelors           & Skilled Manual      & Yes                 & 0                   & 0-1 Miles           & Europe              & 42                  & No                 \\\\\n",
       "\t6 & 13507               & Married             & Female              &  10000              & 2                   & Partial College     & Manual              & Yes                 & 0                   & 1-2 Miles           & Europe              & 50                  & No                 \\\\\n",
       "\t11 & 22173               & Married             & Female              &  30000              & 3                   & High School         & Skilled Manual      & No                  & 2                   & 1-2 Miles           & Pacific             & 54                  & Yes                \\\\\n",
       "\t12 & 12697               & Single              & Female              &  90000              & 0                   & Bachelors           & Professional        & No                  & 4                   & 10+ Miles           & Pacific             & 36                  & No                 \\\\\n",
       "\t16 & 20870               & Single              & Female              &  10000              & 2                   & High School         & Manual              & Yes                 & 1                   & 0-1 Miles           & Europe              & 38                  & Yes                \\\\\n",
       "\t18 & 12610               & Married             & Female              &  30000              & 1                   & Bachelors           & Clerical            & Yes                 & 0                   & 0-1 Miles           & Europe              & 47                  & No                 \\\\\n",
       "\t21 & 25598               & Married             & Female              &  40000              & 0                   & Graduate Degree     & Clerical            & Yes                 & 0                   & 0-1 Miles           & Europe              & 36                  & Yes                \\\\\n",
       "\t22 & 21564               & Single              & Female              &  80000              & 0                   & Bachelors           & Professional        & Yes                 & 4                   & 10+ Miles           & Pacific             & 35                  & No                 \\\\\n",
       "\t24 & 26412               & Married             & Female              &  80000              & 5                   & High School         & Management          & No                  & 3                   & 5-10 Miles          & Europe              & 56                  & No                 \\\\\n",
       "\t28 & 18283               & Married             & Female              & 100000              & 0                   & Bachelors           & Professional        & No                  & 1                   & 5-10 Miles          & Pacific             & 40                  & No                 \\\\\n",
       "\t30 & 16466               & Single              & Female              &  20000              & 0                   & Partial High School & Manual              & No                  & 2                   & 0-1 Miles           & Europe              & 32                  & Yes                \\\\\n",
       "\t31 & 19273               & Married             & Female              &  20000              & 2                   & Partial College     & Manual              & Yes                 & 0                   & 0-1 Miles           & Europe              & 63                  & No                 \\\\\n",
       "\t33 & 20942               & Single              & Female              &  20000              & 0                   & High School         & Manual              & No                  & 1                   & 5-10 Miles          & Europe              & 31                  & No                 \\\\\n",
       "\t36 & 28380               & Single              & Female              &  10000              & 5                   & Partial High School & Manual              & No                  & 2                   & 0-1 Miles           & Europe              & 41                  & No                 \\\\\n",
       "\t37 & 17891               & Married             & Female              &  10000              & 2                   & Partial College     & Manual              & Yes                 & 1                   & 0-1 Miles           & Europe              & 50                  & Yes                \\\\\n",
       "\t38 & 27832               & Single              & Female              &  30000              & 0                   & Partial College     & Clerical            & No                  & 1                   & 2-5 Miles           & Europe              & 30                  & No                 \\\\\n",
       "\t40 & 16259               & Single              & Female              &  10000              & 4                   & Partial High School & Manual              & Yes                 & 2                   & 0-1 Miles           & Europe              & 40                  & Yes                \\\\\n",
       "\t41 & 27803               & Single              & Female              &  30000              & 2                   & Partial College     & Clerical            & No                  & 0                   & 0-1 Miles           & Europe              & 43                  & No                 \\\\\n",
       "\t42 & 14347               & Single              & Female              &  40000              & 2                   & Bachelors           & Management          & Yes                 & 2                   & 5-10 Miles          & Pacific             & 65                  & Yes                \\\\\n",
       "\t43 & 17703               & Married             & Female              &  10000              & 1                   & Graduate Degree     & Manual              & Yes                 & 0                   & 0-1 Miles           & Europe              & 40                  & No                 \\\\\n",
       "\t44 & 17185               & Married             & Female              & 170000              & 4                   & Partial College     & Professional        & No                  & 3                   & 5-10 Miles          & Europe              & 48                  & Yes                \\\\\n",
       "\t45 & 29380               & Married             & Female              &  20000              & 3                   & High School         & Manual              & Yes                 & 0                   & 0-1 Miles           & Europe              & 41                  & Yes                \\\\\n",
       "\t46 & 23986               & Married             & Female              &  20000              & 1                   & Bachelors           & Clerical            & Yes                 & 0                   & 0-1 Miles           & Europe              & 66                  & Yes                \\\\\n",
       "\t47 & 24466               & Married             & Female              &  60000              & 1                   & Partial College     & Skilled Manual      & Yes                 & 1                   & 5-10 Miles          & Pacific             & 46                  & Yes                \\\\\n",
       "\t48 & 29097               & Single              & Female              &  40000              & 2                   & Partial College     & Skilled Manual      & Yes                 & 2                   & 5-10 Miles          & Pacific             & 52                  & Yes                \\\\\n",
       "\t51 & 13826               & Single              & Female              &  30000              & 0                   & Partial College     & Clerical            & No                  & 1                   & 0-1 Miles           & Europe              & 28                  & No                 \\\\\n",
       "\t53 & 12558               & Married             & Female              &  20000              & 1                   & Bachelors           & Clerical            & Yes                 & 0                   & 0-1 Miles           & Europe              & 65                  & No                 \\\\\n",
       "\t54 & 24871               & Single              & Female              &  90000              & 4                   & High School         & Management          & No                  & 3                   & 5-10 Miles          & Europe              & 56                  & No                 \\\\\n",
       "\t55 & 17319               & Single              & Female              &  70000              & 0                   & Bachelors           & Professional        & No                  & 1                   & 5-10 Miles          & Pacific             & 42                  & No                 \\\\\n",
       "\t59 & 25502               & Married             & Female              &  40000              & 1                   & Bachelors           & Skilled Manual      & Yes                 & 0                   & 0-1 Miles           & Europe              & 43                  & Yes                \\\\\n",
       "\t... & ... & ... & ... & ... & ... & ... & ... & ... & ... & ... & ... & ... & ...\\\\\n",
       "\t937 & 19856               & Married             & Female              &  60000              & 4                   & Bachelors           & Management          & Yes                 & 2                   & 2-5 Miles           & North America       & 60                  & No                 \\\\\n",
       "\t939 & 27740               & Married             & Female              &  40000              & 0                   & High School         & Skilled Manual      & Yes                 & 2                   & 5-10 Miles          & North America       & 27                  & No                 \\\\\n",
       "\t941 & 15292               & Single              & Female              &  60000              & 1                   & Graduate Degree     & Skilled Manual      & Yes                 & 0                   & 1-2 Miles           & North America       & 35                  & No                 \\\\\n",
       "\t942 & 21587               & Married             & Female              &  60000              & 1                   & Graduate Degree     & Skilled Manual      & Yes                 & 0                   & 2-5 Miles           & North America       & 34                  & Yes                \\\\\n",
       "\t943 & 23513               & Married             & Female              &  40000              & 3                   & Partial College     & Professional        & Yes                 & 2                   & 5-10 Miles          & North America       & 54                  & No                 \\\\\n",
       "\t944 & 24322               & Married             & Female              &  60000              & 4                   & Bachelors           & Skilled Manual      & Yes                 & 2                   & 0-1 Miles           & North America       & 42                  & No                 \\\\\n",
       "\t945 & 26298               & Married             & Female              &  50000              & 1                   & Bachelors           & Skilled Manual      & Yes                 & 0                   & 2-5 Miles           & North America       & 34                  & Yes                \\\\\n",
       "\t947 & 13343               & Married             & Female              &  90000              & 5                   & Bachelors           & Management          & Yes                 & 2                   & 1-2 Miles           & North America       & 63                  & Yes                \\\\\n",
       "\t948 & 11303               & Single              & Female              &  90000              & 4                   & High School         & Professional        & No                  & 3                   & 1-2 Miles           & North America       & 45                  & Yes                \\\\\n",
       "\t949 & 21693               & Single              & Female              &  60000              & 0                   & Graduate Degree     & Skilled Manual      & No                  & 0                   & 0-1 Miles           & North America       & 40                  & No                 \\\\\n",
       "\t951 & 11788               & Single              & Female              &  70000              & 1                   & Graduate Degree     & Professional        & Yes                 & 0                   & 2-5 Miles           & North America       & 34                  & No                 \\\\\n",
       "\t953 & 15319               & Married             & Female              &  70000              & 4                   & Bachelors           & Management          & No                  & 1                   & 1-2 Miles           & North America       & 59                  & No                 \\\\\n",
       "\t954 & 17654               & Single              & Female              &  40000              & 3                   & Partial College     & Clerical            & Yes                 & 1                   & 1-2 Miles           & North America       & 30                  & Yes                \\\\\n",
       "\t956 & 17541               & Married             & Female              &  40000              & 4                   & High School         & Skilled Manual      & Yes                 & 2                   & 2-5 Miles           & North America       & 43                  & No                 \\\\\n",
       "\t957 & 13886               & Married             & Female              &  70000              & 4                   & Graduate Degree     & Professional        & Yes                 & 0                   & 2-5 Miles           & North America       & 35                  & Yes                \\\\\n",
       "\t958 & 13073               & Married             & Female              &  60000              & 0                   & Partial College     & Professional        & Yes                 & 2                   & 5-10 Miles          & North America       & 30                  & No                 \\\\\n",
       "\t962 & 16651               & Married             & Female              & 120000              & 2                   & Bachelors           & Management          & Yes                 & 3                   & 5-10 Miles          & North America       & 62                  & No                 \\\\\n",
       "\t964 & 16007               & Married             & Female              &  90000              & 5                   & Bachelors           & Management          & Yes                 & 2                   & 1-2 Miles           & North America       & 66                  & Yes                \\\\\n",
       "\t966 & 27756               & Single              & Female              &  50000              & 3                   & Bachelors           & Skilled Manual      & No                  & 1                   & 0-1 Miles           & North America       & 40                  & No                 \\\\\n",
       "\t967 & 23818               & Married             & Female              &  50000              & 0                   & Graduate Degree     & Skilled Manual      & Yes                 & 0                   & 1-2 Miles           & North America       & 33                  & Yes                \\\\\n",
       "\t971 & 26576               & Married             & Female              &  60000              & 0                   & Partial College     & Skilled Manual      & Yes                 & 2                   & 5-10 Miles          & North America       & 31                  & No                 \\\\\n",
       "\t972 & 12192               & Single              & Female              &  60000              & 2                   & Partial High School & Skilled Manual      & No                  & 2                   & 1-2 Miles           & North America       & 51                  & No                 \\\\\n",
       "\t973 & 14887               & Married             & Female              &  30000              & 1                   & High School         & Clerical            & Yes                 & 1                   & 5-10 Miles          & North America       & 52                  & No                 \\\\\n",
       "\t977 & 28004               & Married             & Female              &  60000              & 3                   & Bachelors           & Management          & Yes                 & 2                   & 10+ Miles           & North America       & 66                  & No                 \\\\\n",
       "\t978 & 19741               & Single              & Female              &  80000              & 4                   & Graduate Degree     & Management          & Yes                 & 2                   & 5-10 Miles          & North America       & 65                  & No                 \\\\\n",
       "\t981 & 18594               & Single              & Female              &  80000              & 3                   & Bachelors           & Skilled Manual      & Yes                 & 3                   & 10+ Miles           & North America       & 40                  & Yes                \\\\\n",
       "\t986 & 13920               & Single              & Female              &  50000              & 4                   & Bachelors           & Skilled Manual      & Yes                 & 2                   & 0-1 Miles           & North America       & 42                  & No                 \\\\\n",
       "\t988 & 28972               & Single              & Female              &  60000              & 3                   & Graduate Degree     & Management          & Yes                 & 2                   & 10+ Miles           & North America       & 66                  & No                 \\\\\n",
       "\t991 & 14332               & Single              & Female              &  30000              & 0                   & High School         & Skilled Manual      & No                  & 2                   & 5-10 Miles          & North America       & 26                  & No                 \\\\\n",
       "\t992 & 19117               & Single              & Female              &  60000              & 1                   & Graduate Degree     & Professional        & Yes                 & 0                   & 2-5 Miles           & North America       & 36                  & Yes                \\\\\n",
       "\\end{tabular}\n"
      ],
      "text/markdown": [
       "\n",
       "| <!--/--> | ID | Marital.Status | Gender | Income | Children | Education | Occupation | Home.Owner | Cars | Commute.Distance | Region | Age | Purchased.Bike |\n",
       "|---|---|---|---|---|---|---|---|---|---|---|---|---|---|\n",
       "| 1 | 12496               | Married             | Female              |  40000              | 1                   | Bachelors           | Skilled Manual      | Yes                 | 0                   | 0-1 Miles           | Europe              | 42                  | No                  |\n",
       "| 6 | 13507               | Married             | Female              |  10000              | 2                   | Partial College     | Manual              | Yes                 | 0                   | 1-2 Miles           | Europe              | 50                  | No                  |\n",
       "| 11 | 22173               | Married             | Female              |  30000              | 3                   | High School         | Skilled Manual      | No                  | 2                   | 1-2 Miles           | Pacific             | 54                  | Yes                 |\n",
       "| 12 | 12697               | Single              | Female              |  90000              | 0                   | Bachelors           | Professional        | No                  | 4                   | 10+ Miles           | Pacific             | 36                  | No                  |\n",
       "| 16 | 20870               | Single              | Female              |  10000              | 2                   | High School         | Manual              | Yes                 | 1                   | 0-1 Miles           | Europe              | 38                  | Yes                 |\n",
       "| 18 | 12610               | Married             | Female              |  30000              | 1                   | Bachelors           | Clerical            | Yes                 | 0                   | 0-1 Miles           | Europe              | 47                  | No                  |\n",
       "| 21 | 25598               | Married             | Female              |  40000              | 0                   | Graduate Degree     | Clerical            | Yes                 | 0                   | 0-1 Miles           | Europe              | 36                  | Yes                 |\n",
       "| 22 | 21564               | Single              | Female              |  80000              | 0                   | Bachelors           | Professional        | Yes                 | 4                   | 10+ Miles           | Pacific             | 35                  | No                  |\n",
       "| 24 | 26412               | Married             | Female              |  80000              | 5                   | High School         | Management          | No                  | 3                   | 5-10 Miles          | Europe              | 56                  | No                  |\n",
       "| 28 | 18283               | Married             | Female              | 100000              | 0                   | Bachelors           | Professional        | No                  | 1                   | 5-10 Miles          | Pacific             | 40                  | No                  |\n",
       "| 30 | 16466               | Single              | Female              |  20000              | 0                   | Partial High School | Manual              | No                  | 2                   | 0-1 Miles           | Europe              | 32                  | Yes                 |\n",
       "| 31 | 19273               | Married             | Female              |  20000              | 2                   | Partial College     | Manual              | Yes                 | 0                   | 0-1 Miles           | Europe              | 63                  | No                  |\n",
       "| 33 | 20942               | Single              | Female              |  20000              | 0                   | High School         | Manual              | No                  | 1                   | 5-10 Miles          | Europe              | 31                  | No                  |\n",
       "| 36 | 28380               | Single              | Female              |  10000              | 5                   | Partial High School | Manual              | No                  | 2                   | 0-1 Miles           | Europe              | 41                  | No                  |\n",
       "| 37 | 17891               | Married             | Female              |  10000              | 2                   | Partial College     | Manual              | Yes                 | 1                   | 0-1 Miles           | Europe              | 50                  | Yes                 |\n",
       "| 38 | 27832               | Single              | Female              |  30000              | 0                   | Partial College     | Clerical            | No                  | 1                   | 2-5 Miles           | Europe              | 30                  | No                  |\n",
       "| 40 | 16259               | Single              | Female              |  10000              | 4                   | Partial High School | Manual              | Yes                 | 2                   | 0-1 Miles           | Europe              | 40                  | Yes                 |\n",
       "| 41 | 27803               | Single              | Female              |  30000              | 2                   | Partial College     | Clerical            | No                  | 0                   | 0-1 Miles           | Europe              | 43                  | No                  |\n",
       "| 42 | 14347               | Single              | Female              |  40000              | 2                   | Bachelors           | Management          | Yes                 | 2                   | 5-10 Miles          | Pacific             | 65                  | Yes                 |\n",
       "| 43 | 17703               | Married             | Female              |  10000              | 1                   | Graduate Degree     | Manual              | Yes                 | 0                   | 0-1 Miles           | Europe              | 40                  | No                  |\n",
       "| 44 | 17185               | Married             | Female              | 170000              | 4                   | Partial College     | Professional        | No                  | 3                   | 5-10 Miles          | Europe              | 48                  | Yes                 |\n",
       "| 45 | 29380               | Married             | Female              |  20000              | 3                   | High School         | Manual              | Yes                 | 0                   | 0-1 Miles           | Europe              | 41                  | Yes                 |\n",
       "| 46 | 23986               | Married             | Female              |  20000              | 1                   | Bachelors           | Clerical            | Yes                 | 0                   | 0-1 Miles           | Europe              | 66                  | Yes                 |\n",
       "| 47 | 24466               | Married             | Female              |  60000              | 1                   | Partial College     | Skilled Manual      | Yes                 | 1                   | 5-10 Miles          | Pacific             | 46                  | Yes                 |\n",
       "| 48 | 29097               | Single              | Female              |  40000              | 2                   | Partial College     | Skilled Manual      | Yes                 | 2                   | 5-10 Miles          | Pacific             | 52                  | Yes                 |\n",
       "| 51 | 13826               | Single              | Female              |  30000              | 0                   | Partial College     | Clerical            | No                  | 1                   | 0-1 Miles           | Europe              | 28                  | No                  |\n",
       "| 53 | 12558               | Married             | Female              |  20000              | 1                   | Bachelors           | Clerical            | Yes                 | 0                   | 0-1 Miles           | Europe              | 65                  | No                  |\n",
       "| 54 | 24871               | Single              | Female              |  90000              | 4                   | High School         | Management          | No                  | 3                   | 5-10 Miles          | Europe              | 56                  | No                  |\n",
       "| 55 | 17319               | Single              | Female              |  70000              | 0                   | Bachelors           | Professional        | No                  | 1                   | 5-10 Miles          | Pacific             | 42                  | No                  |\n",
       "| 59 | 25502               | Married             | Female              |  40000              | 1                   | Bachelors           | Skilled Manual      | Yes                 | 0                   | 0-1 Miles           | Europe              | 43                  | Yes                 |\n",
       "| ... | ... | ... | ... | ... | ... | ... | ... | ... | ... | ... | ... | ... | ... |\n",
       "| 937 | 19856               | Married             | Female              |  60000              | 4                   | Bachelors           | Management          | Yes                 | 2                   | 2-5 Miles           | North America       | 60                  | No                  |\n",
       "| 939 | 27740               | Married             | Female              |  40000              | 0                   | High School         | Skilled Manual      | Yes                 | 2                   | 5-10 Miles          | North America       | 27                  | No                  |\n",
       "| 941 | 15292               | Single              | Female              |  60000              | 1                   | Graduate Degree     | Skilled Manual      | Yes                 | 0                   | 1-2 Miles           | North America       | 35                  | No                  |\n",
       "| 942 | 21587               | Married             | Female              |  60000              | 1                   | Graduate Degree     | Skilled Manual      | Yes                 | 0                   | 2-5 Miles           | North America       | 34                  | Yes                 |\n",
       "| 943 | 23513               | Married             | Female              |  40000              | 3                   | Partial College     | Professional        | Yes                 | 2                   | 5-10 Miles          | North America       | 54                  | No                  |\n",
       "| 944 | 24322               | Married             | Female              |  60000              | 4                   | Bachelors           | Skilled Manual      | Yes                 | 2                   | 0-1 Miles           | North America       | 42                  | No                  |\n",
       "| 945 | 26298               | Married             | Female              |  50000              | 1                   | Bachelors           | Skilled Manual      | Yes                 | 0                   | 2-5 Miles           | North America       | 34                  | Yes                 |\n",
       "| 947 | 13343               | Married             | Female              |  90000              | 5                   | Bachelors           | Management          | Yes                 | 2                   | 1-2 Miles           | North America       | 63                  | Yes                 |\n",
       "| 948 | 11303               | Single              | Female              |  90000              | 4                   | High School         | Professional        | No                  | 3                   | 1-2 Miles           | North America       | 45                  | Yes                 |\n",
       "| 949 | 21693               | Single              | Female              |  60000              | 0                   | Graduate Degree     | Skilled Manual      | No                  | 0                   | 0-1 Miles           | North America       | 40                  | No                  |\n",
       "| 951 | 11788               | Single              | Female              |  70000              | 1                   | Graduate Degree     | Professional        | Yes                 | 0                   | 2-5 Miles           | North America       | 34                  | No                  |\n",
       "| 953 | 15319               | Married             | Female              |  70000              | 4                   | Bachelors           | Management          | No                  | 1                   | 1-2 Miles           | North America       | 59                  | No                  |\n",
       "| 954 | 17654               | Single              | Female              |  40000              | 3                   | Partial College     | Clerical            | Yes                 | 1                   | 1-2 Miles           | North America       | 30                  | Yes                 |\n",
       "| 956 | 17541               | Married             | Female              |  40000              | 4                   | High School         | Skilled Manual      | Yes                 | 2                   | 2-5 Miles           | North America       | 43                  | No                  |\n",
       "| 957 | 13886               | Married             | Female              |  70000              | 4                   | Graduate Degree     | Professional        | Yes                 | 0                   | 2-5 Miles           | North America       | 35                  | Yes                 |\n",
       "| 958 | 13073               | Married             | Female              |  60000              | 0                   | Partial College     | Professional        | Yes                 | 2                   | 5-10 Miles          | North America       | 30                  | No                  |\n",
       "| 962 | 16651               | Married             | Female              | 120000              | 2                   | Bachelors           | Management          | Yes                 | 3                   | 5-10 Miles          | North America       | 62                  | No                  |\n",
       "| 964 | 16007               | Married             | Female              |  90000              | 5                   | Bachelors           | Management          | Yes                 | 2                   | 1-2 Miles           | North America       | 66                  | Yes                 |\n",
       "| 966 | 27756               | Single              | Female              |  50000              | 3                   | Bachelors           | Skilled Manual      | No                  | 1                   | 0-1 Miles           | North America       | 40                  | No                  |\n",
       "| 967 | 23818               | Married             | Female              |  50000              | 0                   | Graduate Degree     | Skilled Manual      | Yes                 | 0                   | 1-2 Miles           | North America       | 33                  | Yes                 |\n",
       "| 971 | 26576               | Married             | Female              |  60000              | 0                   | Partial College     | Skilled Manual      | Yes                 | 2                   | 5-10 Miles          | North America       | 31                  | No                  |\n",
       "| 972 | 12192               | Single              | Female              |  60000              | 2                   | Partial High School | Skilled Manual      | No                  | 2                   | 1-2 Miles           | North America       | 51                  | No                  |\n",
       "| 973 | 14887               | Married             | Female              |  30000              | 1                   | High School         | Clerical            | Yes                 | 1                   | 5-10 Miles          | North America       | 52                  | No                  |\n",
       "| 977 | 28004               | Married             | Female              |  60000              | 3                   | Bachelors           | Management          | Yes                 | 2                   | 10+ Miles           | North America       | 66                  | No                  |\n",
       "| 978 | 19741               | Single              | Female              |  80000              | 4                   | Graduate Degree     | Management          | Yes                 | 2                   | 5-10 Miles          | North America       | 65                  | No                  |\n",
       "| 981 | 18594               | Single              | Female              |  80000              | 3                   | Bachelors           | Skilled Manual      | Yes                 | 3                   | 10+ Miles           | North America       | 40                  | Yes                 |\n",
       "| 986 | 13920               | Single              | Female              |  50000              | 4                   | Bachelors           | Skilled Manual      | Yes                 | 2                   | 0-1 Miles           | North America       | 42                  | No                  |\n",
       "| 988 | 28972               | Single              | Female              |  60000              | 3                   | Graduate Degree     | Management          | Yes                 | 2                   | 10+ Miles           | North America       | 66                  | No                  |\n",
       "| 991 | 14332               | Single              | Female              |  30000              | 0                   | High School         | Skilled Manual      | No                  | 2                   | 5-10 Miles          | North America       | 26                  | No                  |\n",
       "| 992 | 19117               | Single              | Female              |  60000              | 1                   | Graduate Degree     | Professional        | Yes                 | 0                   | 2-5 Miles           | North America       | 36                  | Yes                 |\n",
       "\n"
      ],
      "text/plain": [
       "    ID    Marital.Status Gender Income Children Education          \n",
       "1   12496 Married        Female  40000 1        Bachelors          \n",
       "6   13507 Married        Female  10000 2        Partial College    \n",
       "11  22173 Married        Female  30000 3        High School        \n",
       "12  12697 Single         Female  90000 0        Bachelors          \n",
       "16  20870 Single         Female  10000 2        High School        \n",
       "18  12610 Married        Female  30000 1        Bachelors          \n",
       "21  25598 Married        Female  40000 0        Graduate Degree    \n",
       "22  21564 Single         Female  80000 0        Bachelors          \n",
       "24  26412 Married        Female  80000 5        High School        \n",
       "28  18283 Married        Female 100000 0        Bachelors          \n",
       "30  16466 Single         Female  20000 0        Partial High School\n",
       "31  19273 Married        Female  20000 2        Partial College    \n",
       "33  20942 Single         Female  20000 0        High School        \n",
       "36  28380 Single         Female  10000 5        Partial High School\n",
       "37  17891 Married        Female  10000 2        Partial College    \n",
       "38  27832 Single         Female  30000 0        Partial College    \n",
       "40  16259 Single         Female  10000 4        Partial High School\n",
       "41  27803 Single         Female  30000 2        Partial College    \n",
       "42  14347 Single         Female  40000 2        Bachelors          \n",
       "43  17703 Married        Female  10000 1        Graduate Degree    \n",
       "44  17185 Married        Female 170000 4        Partial College    \n",
       "45  29380 Married        Female  20000 3        High School        \n",
       "46  23986 Married        Female  20000 1        Bachelors          \n",
       "47  24466 Married        Female  60000 1        Partial College    \n",
       "48  29097 Single         Female  40000 2        Partial College    \n",
       "51  13826 Single         Female  30000 0        Partial College    \n",
       "53  12558 Married        Female  20000 1        Bachelors          \n",
       "54  24871 Single         Female  90000 4        High School        \n",
       "55  17319 Single         Female  70000 0        Bachelors          \n",
       "59  25502 Married        Female  40000 1        Bachelors          \n",
       "... ...   ...            ...    ...    ...      ...                \n",
       "937 19856 Married        Female  60000 4        Bachelors          \n",
       "939 27740 Married        Female  40000 0        High School        \n",
       "941 15292 Single         Female  60000 1        Graduate Degree    \n",
       "942 21587 Married        Female  60000 1        Graduate Degree    \n",
       "943 23513 Married        Female  40000 3        Partial College    \n",
       "944 24322 Married        Female  60000 4        Bachelors          \n",
       "945 26298 Married        Female  50000 1        Bachelors          \n",
       "947 13343 Married        Female  90000 5        Bachelors          \n",
       "948 11303 Single         Female  90000 4        High School        \n",
       "949 21693 Single         Female  60000 0        Graduate Degree    \n",
       "951 11788 Single         Female  70000 1        Graduate Degree    \n",
       "953 15319 Married        Female  70000 4        Bachelors          \n",
       "954 17654 Single         Female  40000 3        Partial College    \n",
       "956 17541 Married        Female  40000 4        High School        \n",
       "957 13886 Married        Female  70000 4        Graduate Degree    \n",
       "958 13073 Married        Female  60000 0        Partial College    \n",
       "962 16651 Married        Female 120000 2        Bachelors          \n",
       "964 16007 Married        Female  90000 5        Bachelors          \n",
       "966 27756 Single         Female  50000 3        Bachelors          \n",
       "967 23818 Married        Female  50000 0        Graduate Degree    \n",
       "971 26576 Married        Female  60000 0        Partial College    \n",
       "972 12192 Single         Female  60000 2        Partial High School\n",
       "973 14887 Married        Female  30000 1        High School        \n",
       "977 28004 Married        Female  60000 3        Bachelors          \n",
       "978 19741 Single         Female  80000 4        Graduate Degree    \n",
       "981 18594 Single         Female  80000 3        Bachelors          \n",
       "986 13920 Single         Female  50000 4        Bachelors          \n",
       "988 28972 Single         Female  60000 3        Graduate Degree    \n",
       "991 14332 Single         Female  30000 0        High School        \n",
       "992 19117 Single         Female  60000 1        Graduate Degree    \n",
       "    Occupation     Home.Owner Cars Commute.Distance Region        Age\n",
       "1   Skilled Manual Yes        0    0-1 Miles        Europe        42 \n",
       "6   Manual         Yes        0    1-2 Miles        Europe        50 \n",
       "11  Skilled Manual No         2    1-2 Miles        Pacific       54 \n",
       "12  Professional   No         4    10+ Miles        Pacific       36 \n",
       "16  Manual         Yes        1    0-1 Miles        Europe        38 \n",
       "18  Clerical       Yes        0    0-1 Miles        Europe        47 \n",
       "21  Clerical       Yes        0    0-1 Miles        Europe        36 \n",
       "22  Professional   Yes        4    10+ Miles        Pacific       35 \n",
       "24  Management     No         3    5-10 Miles       Europe        56 \n",
       "28  Professional   No         1    5-10 Miles       Pacific       40 \n",
       "30  Manual         No         2    0-1 Miles        Europe        32 \n",
       "31  Manual         Yes        0    0-1 Miles        Europe        63 \n",
       "33  Manual         No         1    5-10 Miles       Europe        31 \n",
       "36  Manual         No         2    0-1 Miles        Europe        41 \n",
       "37  Manual         Yes        1    0-1 Miles        Europe        50 \n",
       "38  Clerical       No         1    2-5 Miles        Europe        30 \n",
       "40  Manual         Yes        2    0-1 Miles        Europe        40 \n",
       "41  Clerical       No         0    0-1 Miles        Europe        43 \n",
       "42  Management     Yes        2    5-10 Miles       Pacific       65 \n",
       "43  Manual         Yes        0    0-1 Miles        Europe        40 \n",
       "44  Professional   No         3    5-10 Miles       Europe        48 \n",
       "45  Manual         Yes        0    0-1 Miles        Europe        41 \n",
       "46  Clerical       Yes        0    0-1 Miles        Europe        66 \n",
       "47  Skilled Manual Yes        1    5-10 Miles       Pacific       46 \n",
       "48  Skilled Manual Yes        2    5-10 Miles       Pacific       52 \n",
       "51  Clerical       No         1    0-1 Miles        Europe        28 \n",
       "53  Clerical       Yes        0    0-1 Miles        Europe        65 \n",
       "54  Management     No         3    5-10 Miles       Europe        56 \n",
       "55  Professional   No         1    5-10 Miles       Pacific       42 \n",
       "59  Skilled Manual Yes        0    0-1 Miles        Europe        43 \n",
       "... ...            ...        ...  ...              ...           ...\n",
       "937 Management     Yes        2    2-5 Miles        North America 60 \n",
       "939 Skilled Manual Yes        2    5-10 Miles       North America 27 \n",
       "941 Skilled Manual Yes        0    1-2 Miles        North America 35 \n",
       "942 Skilled Manual Yes        0    2-5 Miles        North America 34 \n",
       "943 Professional   Yes        2    5-10 Miles       North America 54 \n",
       "944 Skilled Manual Yes        2    0-1 Miles        North America 42 \n",
       "945 Skilled Manual Yes        0    2-5 Miles        North America 34 \n",
       "947 Management     Yes        2    1-2 Miles        North America 63 \n",
       "948 Professional   No         3    1-2 Miles        North America 45 \n",
       "949 Skilled Manual No         0    0-1 Miles        North America 40 \n",
       "951 Professional   Yes        0    2-5 Miles        North America 34 \n",
       "953 Management     No         1    1-2 Miles        North America 59 \n",
       "954 Clerical       Yes        1    1-2 Miles        North America 30 \n",
       "956 Skilled Manual Yes        2    2-5 Miles        North America 43 \n",
       "957 Professional   Yes        0    2-5 Miles        North America 35 \n",
       "958 Professional   Yes        2    5-10 Miles       North America 30 \n",
       "962 Management     Yes        3    5-10 Miles       North America 62 \n",
       "964 Management     Yes        2    1-2 Miles        North America 66 \n",
       "966 Skilled Manual No         1    0-1 Miles        North America 40 \n",
       "967 Skilled Manual Yes        0    1-2 Miles        North America 33 \n",
       "971 Skilled Manual Yes        2    5-10 Miles       North America 31 \n",
       "972 Skilled Manual No         2    1-2 Miles        North America 51 \n",
       "973 Clerical       Yes        1    5-10 Miles       North America 52 \n",
       "977 Management     Yes        2    10+ Miles        North America 66 \n",
       "978 Management     Yes        2    5-10 Miles       North America 65 \n",
       "981 Skilled Manual Yes        3    10+ Miles        North America 40 \n",
       "986 Skilled Manual Yes        2    0-1 Miles        North America 42 \n",
       "988 Management     Yes        2    10+ Miles        North America 66 \n",
       "991 Skilled Manual No         2    5-10 Miles       North America 26 \n",
       "992 Professional   Yes        0    2-5 Miles        North America 36 \n",
       "    Purchased.Bike\n",
       "1   No            \n",
       "6   No            \n",
       "11  Yes           \n",
       "12  No            \n",
       "16  Yes           \n",
       "18  No            \n",
       "21  Yes           \n",
       "22  No            \n",
       "24  No            \n",
       "28  No            \n",
       "30  Yes           \n",
       "31  No            \n",
       "33  No            \n",
       "36  No            \n",
       "37  Yes           \n",
       "38  No            \n",
       "40  Yes           \n",
       "41  No            \n",
       "42  Yes           \n",
       "43  No            \n",
       "44  Yes           \n",
       "45  Yes           \n",
       "46  Yes           \n",
       "47  Yes           \n",
       "48  Yes           \n",
       "51  No            \n",
       "53  No            \n",
       "54  No            \n",
       "55  No            \n",
       "59  Yes           \n",
       "... ...           \n",
       "937 No            \n",
       "939 No            \n",
       "941 No            \n",
       "942 Yes           \n",
       "943 No            \n",
       "944 No            \n",
       "945 Yes           \n",
       "947 Yes           \n",
       "948 Yes           \n",
       "949 No            \n",
       "951 No            \n",
       "953 No            \n",
       "954 Yes           \n",
       "956 No            \n",
       "957 Yes           \n",
       "958 No            \n",
       "962 No            \n",
       "964 Yes           \n",
       "966 No            \n",
       "967 Yes           \n",
       "971 No            \n",
       "972 No            \n",
       "973 No            \n",
       "977 No            \n",
       "978 No            \n",
       "981 Yes           \n",
       "986 No            \n",
       "988 No            \n",
       "991 No            \n",
       "992 Yes           "
      ]
     },
     "metadata": {},
     "output_type": "display_data"
    }
   ],
   "source": [
    "filter_bike_F<-d[d$Gender=='Female',]\n",
    "filter_bike_F"
   ]
  },
  {
   "cell_type": "code",
   "execution_count": 26,
   "id": "d90fb372",
   "metadata": {},
   "outputs": [
    {
     "data": {
      "image/png": "[encoded data removed]",
      "text/plain": [
       "Plot with title \"Histogram of filter_bike_F$Age\""
      ]
     },
     "metadata": {},
     "output_type": "display_data"
    }
   ],
   "source": [
    "hist(filter_bike_F$Age)"
   ]
  },
  {
   "cell_type": "code",
   "execution_count": 27,
   "id": "d5af9701",
   "metadata": {},
   "outputs": [
    {
     "data": {
      "image/png": "[encoded data removed]",
      "text/plain": [
       "Plot with title \"kernel purchased bikes \""
      ]
     },
     "metadata": {},
     "output_type": "display_data"
    }
   ],
   "source": [
    "density_data<-density(filter_bike_F$Income)\n",
    "plot(density_data,main=\"kernel purchased bikes \")\n",
    "polygon(density_data,col=\"skyblue\",border=\"black\")"
   ]
  },
  {
   "cell_type": "code",
   "execution_count": 28,
   "id": "902a224b",
   "metadata": {
    "scrolled": true
   },
   "outputs": [
    {
     "data": {
      "text/html": [
       "<table>\n",
       "<thead><tr><th></th><th scope=col>ID</th><th scope=col>Marital.Status</th><th scope=col>Gender</th><th scope=col>Income</th><th scope=col>Children</th><th scope=col>Education</th><th scope=col>Occupation</th><th scope=col>Home.Owner</th><th scope=col>Cars</th><th scope=col>Commute.Distance</th><th scope=col>Region</th><th scope=col>Age</th><th scope=col>Purchased.Bike</th></tr></thead>\n",
       "<tbody>\n",
       "\t<tr><th scope=row>2</th><td>24107              </td><td>Married            </td><td>Male               </td><td> 30000             </td><td>3                  </td><td>Partial College    </td><td>Clerical           </td><td>Yes                </td><td>1.000000           </td><td>0-1 Miles          </td><td>Europe             </td><td>43                 </td><td>No                 </td></tr>\n",
       "\t<tr><th scope=row>3</th><td>14177              </td><td>Married            </td><td>Male               </td><td> 80000             </td><td>5                  </td><td>Partial College    </td><td>Professional       </td><td>No                 </td><td>2.000000           </td><td>2-5 Miles          </td><td>Europe             </td><td>60                 </td><td>No                 </td></tr>\n",
       "\t<tr><th scope=row>4</th><td>24381              </td><td>Single             </td><td>Male               </td><td> 70000             </td><td>0                  </td><td>Bachelors          </td><td>Professional       </td><td>Yes                </td><td>1.000000           </td><td>5-10 Miles         </td><td>Pacific            </td><td>41                 </td><td>Yes                </td></tr>\n",
       "\t<tr><th scope=row>5</th><td>25597              </td><td>Single             </td><td>Male               </td><td> 30000             </td><td>0                  </td><td>Bachelors          </td><td>Clerical           </td><td>No                 </td><td>0.000000           </td><td>0-1 Miles          </td><td>Europe             </td><td>36                 </td><td>Yes                </td></tr>\n",
       "\t<tr><th scope=row>7</th><td>27974              </td><td>Single             </td><td>Male               </td><td>160000             </td><td>2                  </td><td>High School        </td><td>Management         </td><td>Yes                </td><td>4.000000           </td><td>0-1 Miles          </td><td>Pacific            </td><td>33                 </td><td>Yes                </td></tr>\n",
       "\t<tr><th scope=row>8</th><td>19364              </td><td>Married            </td><td>Male               </td><td> 40000             </td><td>1                  </td><td>Bachelors          </td><td>Skilled Manual     </td><td>Yes                </td><td>0.000000           </td><td>0-1 Miles          </td><td>Europe             </td><td>43                 </td><td>Yes                </td></tr>\n",
       "\t<tr><th scope=row>9</th><td>22155              </td><td>Married            </td><td>Male               </td><td> 20000             </td><td>2                  </td><td>Partial High School</td><td>Clerical           </td><td>Yes                </td><td>2.000000           </td><td>5-10 Miles         </td><td>Pacific            </td><td>58                 </td><td>No                 </td></tr>\n",
       "\t<tr><th scope=row>10</th><td>19280              </td><td>Married            </td><td>Male               </td><td> 60000             </td><td>2                  </td><td>Partial College    </td><td>Manual             </td><td>Yes                </td><td>1.000000           </td><td>0-1 Miles          </td><td>Europe             </td><td>43                 </td><td>Yes                </td></tr>\n",
       "\t<tr><th scope=row>13</th><td>11434              </td><td>Married            </td><td>Male               </td><td>170000             </td><td>5                  </td><td>Partial College    </td><td>Professional       </td><td>Yes                </td><td>1.455096           </td><td>0-1 Miles          </td><td>Europe             </td><td>55                 </td><td>No                 </td></tr>\n",
       "\t<tr><th scope=row>14</th><td>25323              </td><td>Married            </td><td>Male               </td><td> 40000             </td><td>2                  </td><td>Partial College    </td><td>Clerical           </td><td>Yes                </td><td>1.000000           </td><td>1-2 Miles          </td><td>Europe             </td><td>35                 </td><td>Yes                </td></tr>\n",
       "\t<tr><th scope=row>15</th><td>23542              </td><td>Single             </td><td>Male               </td><td> 60000             </td><td>1                  </td><td>Partial College    </td><td>Skilled Manual     </td><td>No                 </td><td>1.000000           </td><td>0-1 Miles          </td><td>Pacific            </td><td>45                 </td><td>Yes                </td></tr>\n",
       "\t<tr><th scope=row>17</th><td>23316              </td><td>Single             </td><td>Male               </td><td> 30000             </td><td>3                  </td><td>Partial College    </td><td>Clerical           </td><td>No                 </td><td>2.000000           </td><td>1-2 Miles          </td><td>Pacific            </td><td>59                 </td><td>Yes                </td></tr>\n",
       "\t<tr><th scope=row>19</th><td>27183              </td><td>Single             </td><td>Male               </td><td> 40000             </td><td>2                  </td><td>Partial College    </td><td>Clerical           </td><td>Yes                </td><td>1.000000           </td><td>1-2 Miles          </td><td>Europe             </td><td>35                 </td><td>Yes                </td></tr>\n",
       "\t<tr><th scope=row>20</th><td>25940              </td><td>Single             </td><td>Male               </td><td> 20000             </td><td>2                  </td><td>Partial High School</td><td>Clerical           </td><td>Yes                </td><td>2.000000           </td><td>5-10 Miles         </td><td>Pacific            </td><td>55                 </td><td>Yes                </td></tr>\n",
       "\t<tr><th scope=row>23</th><td>19193              </td><td>Single             </td><td>Male               </td><td> 40000             </td><td>2                  </td><td>Partial College    </td><td>Clerical           </td><td>Yes                </td><td>0.000000           </td><td>1-2 Miles          </td><td>Europe             </td><td>35                 </td><td>Yes                </td></tr>\n",
       "\t<tr><th scope=row>25</th><td>27184              </td><td>Single             </td><td>Male               </td><td> 40000             </td><td>2                  </td><td>Partial College    </td><td>Clerical           </td><td>No                 </td><td>1.000000           </td><td>0-1 Miles          </td><td>Europe             </td><td>34                 </td><td>No                 </td></tr>\n",
       "\t<tr><th scope=row>26</th><td>12590              </td><td>Single             </td><td>Male               </td><td> 30000             </td><td>1                  </td><td>Bachelors          </td><td>Clerical           </td><td>Yes                </td><td>0.000000           </td><td>0-1 Miles          </td><td>Europe             </td><td>63                 </td><td>No                 </td></tr>\n",
       "\t<tr><th scope=row>27</th><td>17841              </td><td>Single             </td><td>Male               </td><td> 30000             </td><td>0                  </td><td>Partial College    </td><td>Clerical           </td><td>No                 </td><td>1.000000           </td><td>0-1 Miles          </td><td>Europe             </td><td>29                 </td><td>Yes                </td></tr>\n",
       "\t<tr><th scope=row>29</th><td>18299              </td><td>Married            </td><td>Male               </td><td> 70000             </td><td>5                  </td><td>Partial College    </td><td>Skilled Manual     </td><td>Yes                </td><td>2.000000           </td><td>5-10 Miles         </td><td>Pacific            </td><td>44                 </td><td>No                 </td></tr>\n",
       "\t<tr><th scope=row>32</th><td>22400              </td><td>Married            </td><td>Male               </td><td> 10000             </td><td>0                  </td><td>Partial College    </td><td>Manual             </td><td>No                 </td><td>1.000000           </td><td>0-1 Miles          </td><td>Pacific            </td><td>26                 </td><td>Yes                </td></tr>\n",
       "\t<tr><th scope=row>34</th><td>18484              </td><td>Single             </td><td>Male               </td><td> 80000             </td><td>2                  </td><td>High School        </td><td>Skilled Manual     </td><td>No                 </td><td>2.000000           </td><td>1-2 Miles          </td><td>Pacific            </td><td>50                 </td><td>Yes                </td></tr>\n",
       "\t<tr><th scope=row>35</th><td>12291              </td><td>Single             </td><td>Male               </td><td> 90000             </td><td>5                  </td><td>Partial College    </td><td>Professional       </td><td>No                 </td><td>2.000000           </td><td>2-5 Miles          </td><td>Europe             </td><td>62                 </td><td>Yes                </td></tr>\n",
       "\t<tr><th scope=row>39</th><td>26863              </td><td>Single             </td><td>Male               </td><td> 20000             </td><td>0                  </td><td>High School        </td><td>Manual             </td><td>No                 </td><td>1.000000           </td><td>2-5 Miles          </td><td>Europe             </td><td>28                 </td><td>No                 </td></tr>\n",
       "\t<tr><th scope=row>49</th><td>19487              </td><td>Married            </td><td>Male               </td><td> 30000             </td><td>2                  </td><td>Partial College    </td><td>Clerical           </td><td>No                 </td><td>2.000000           </td><td>0-1 Miles          </td><td>Europe             </td><td>42                 </td><td>No                 </td></tr>\n",
       "\t<tr><th scope=row>50</th><td>14939              </td><td>Married            </td><td>Male               </td><td> 40000             </td><td>0                  </td><td>Bachelors          </td><td>Clerical           </td><td>Yes                </td><td>0.000000           </td><td>0-1 Miles          </td><td>Europe             </td><td>39                 </td><td>Yes                </td></tr>\n",
       "\t<tr><th scope=row>52</th><td>20619              </td><td>Single             </td><td>Male               </td><td> 80000             </td><td>0                  </td><td>Bachelors          </td><td>Professional       </td><td>No                 </td><td>4.000000           </td><td>10+ Miles          </td><td>Pacific            </td><td>35                 </td><td>No                 </td></tr>\n",
       "\t<tr><th scope=row>56</th><td>28906              </td><td>Married            </td><td>Male               </td><td> 80000             </td><td>4                  </td><td>High School        </td><td>Professional       </td><td>Yes                </td><td>2.000000           </td><td>10+ Miles          </td><td>Europe             </td><td>54                 </td><td>No                 </td></tr>\n",
       "\t<tr><th scope=row>57</th><td>12808              </td><td>Married            </td><td>Male               </td><td> 40000             </td><td>0                  </td><td>Bachelors          </td><td>Clerical           </td><td>Yes                </td><td>0.000000           </td><td>0-1 Miles          </td><td>Europe             </td><td>38                 </td><td>Yes                </td></tr>\n",
       "\t<tr><th scope=row>58</th><td>20567              </td><td>Married            </td><td>Male               </td><td>130000             </td><td>4                  </td><td>Partial College    </td><td>Professional       </td><td>No                 </td><td>4.000000           </td><td>5-10 Miles         </td><td>Europe             </td><td>61                 </td><td>Yes                </td></tr>\n",
       "\t<tr><th scope=row>60</th><td>15580              </td><td>Married            </td><td>Male               </td><td> 60000             </td><td>2                  </td><td>Bachelors          </td><td>Professional       </td><td>Yes                </td><td>1.000000           </td><td>2-5 Miles          </td><td>Pacific            </td><td>38                 </td><td>Yes                </td></tr>\n",
       "\t<tr><th scope=row>...</th><td>...</td><td>...</td><td>...</td><td>...</td><td>...</td><td>...</td><td>...</td><td>...</td><td>...</td><td>...</td><td>...</td><td>...</td><td>...</td></tr>\n",
       "\t<tr><th scope=row>952</th><td>22296              </td><td>Married            </td><td>Male               </td><td> 70000             </td><td>0                  </td><td>Bachelors          </td><td>Professional       </td><td>No                 </td><td>1                  </td><td>0-1 Miles          </td><td>North America      </td><td>38                 </td><td>No                 </td></tr>\n",
       "\t<tr><th scope=row>955</th><td>14662              </td><td>Married            </td><td>Male               </td><td> 60000             </td><td>1                  </td><td>Bachelors          </td><td>Professional       </td><td>Yes                </td><td>1                  </td><td>0-1 Miles          </td><td>North America      </td><td>48                 </td><td>Yes                </td></tr>\n",
       "\t<tr><th scope=row>959</th><td>21940              </td><td>Married            </td><td>Male               </td><td> 90000             </td><td>5                  </td><td>Graduate Degree    </td><td>Professional       </td><td>Yes                </td><td>0                  </td><td>0-1 Miles          </td><td>North America      </td><td>47                 </td><td>Yes                </td></tr>\n",
       "\t<tr><th scope=row>960</th><td>20196              </td><td>Married            </td><td>Male               </td><td> 60000             </td><td>1                  </td><td>Partial College    </td><td>Skilled Manual     </td><td>Yes                </td><td>1                  </td><td>2-5 Miles          </td><td>North America      </td><td>45                 </td><td>Yes                </td></tr>\n",
       "\t<tr><th scope=row>961</th><td>23491              </td><td>Single             </td><td>Male               </td><td>100000             </td><td>0                  </td><td>Partial College    </td><td>Professional       </td><td>No                 </td><td>4                  </td><td>1-2 Miles          </td><td>North America      </td><td>45                 </td><td>No                 </td></tr>\n",
       "\t<tr><th scope=row>963</th><td>16813              </td><td>Married            </td><td>Male               </td><td> 60000             </td><td>2                  </td><td>Partial College    </td><td>Professional       </td><td>Yes                </td><td>2                  </td><td>10+ Miles          </td><td>North America      </td><td>55                 </td><td>No                 </td></tr>\n",
       "\t<tr><th scope=row>965</th><td>27434              </td><td>Single             </td><td>Male               </td><td> 70000             </td><td>4                  </td><td>Partial College    </td><td>Professional       </td><td>Yes                </td><td>1                  </td><td>10+ Miles          </td><td>North America      </td><td>56                 </td><td>No                 </td></tr>\n",
       "\t<tr><th scope=row>968</th><td>19012              </td><td>Married            </td><td>Male               </td><td> 80000             </td><td>3                  </td><td>Bachelors          </td><td>Management         </td><td>Yes                </td><td>1                  </td><td>1-2 Miles          </td><td>North America      </td><td>56                 </td><td>No                 </td></tr>\n",
       "\t<tr><th scope=row>969</th><td>18329              </td><td>Single             </td><td>Male               </td><td> 30000             </td><td>0                  </td><td>Partial High School</td><td>Clerical           </td><td>No                 </td><td>2                  </td><td>5-10 Miles         </td><td>North America      </td><td>27                 </td><td>No                 </td></tr>\n",
       "\t<tr><th scope=row>970</th><td>29037              </td><td>Married            </td><td>Male               </td><td> 60000             </td><td>0                  </td><td>Graduate Degree    </td><td>Professional       </td><td>No                 </td><td>0                  </td><td>0-1 Miles          </td><td>North America      </td><td>39                 </td><td>No                 </td></tr>\n",
       "\t<tr><th scope=row>974</th><td>11734              </td><td>Married            </td><td>Male               </td><td> 60000             </td><td>1                  </td><td>Partial College    </td><td>Skilled Manual     </td><td>No                 </td><td>1                  </td><td>0-1 Miles          </td><td>North America      </td><td>47                 </td><td>No                 </td></tr>\n",
       "\t<tr><th scope=row>975</th><td>17462              </td><td>Married            </td><td>Male               </td><td> 70000             </td><td>3                  </td><td>Graduate Degree    </td><td>Management         </td><td>Yes                </td><td>2                  </td><td>5-10 Miles         </td><td>North America      </td><td>53                 </td><td>Yes                </td></tr>\n",
       "\t<tr><th scope=row>976</th><td>20659              </td><td>Married            </td><td>Male               </td><td> 70000             </td><td>3                  </td><td>Graduate Degree    </td><td>Professional       </td><td>Yes                </td><td>0                  </td><td>0-1 Miles          </td><td>North America      </td><td>35                 </td><td>Yes                </td></tr>\n",
       "\t<tr><th scope=row>979</th><td>17450              </td><td>Married            </td><td>Male               </td><td> 80000             </td><td>5                  </td><td>Partial College    </td><td>Professional       </td><td>Yes                </td><td>3                  </td><td>5-10 Miles         </td><td>North America      </td><td>45                 </td><td>No                 </td></tr>\n",
       "\t<tr><th scope=row>980</th><td>17337              </td><td>Single             </td><td>Male               </td><td> 40000             </td><td>0                  </td><td>High School        </td><td>Skilled Manual     </td><td>Yes                </td><td>1                  </td><td>5-10 Miles         </td><td>North America      </td><td>31                 </td><td>No                 </td></tr>\n",
       "\t<tr><th scope=row>982</th><td>15982              </td><td>Married            </td><td>Male               </td><td>110000             </td><td>5                  </td><td>Partial College    </td><td>Professional       </td><td>Yes                </td><td>4                  </td><td>2-5 Miles          </td><td>North America      </td><td>46                 </td><td>No                 </td></tr>\n",
       "\t<tr><th scope=row>983</th><td>28625              </td><td>Single             </td><td>Male               </td><td> 40000             </td><td>2                  </td><td>Partial College    </td><td>Clerical           </td><td>No                 </td><td>1                  </td><td>1-2 Miles          </td><td>North America      </td><td>47                 </td><td>Yes                </td></tr>\n",
       "\t<tr><th scope=row>984</th><td>11269              </td><td>Married            </td><td>Male               </td><td>130000             </td><td>2                  </td><td>Graduate Degree    </td><td>Management         </td><td>Yes                </td><td>2                  </td><td>0-1 Miles          </td><td>North America      </td><td>41                 </td><td>No                 </td></tr>\n",
       "\t<tr><th scope=row>985</th><td>25148              </td><td>Married            </td><td>Male               </td><td> 60000             </td><td>2                  </td><td>High School        </td><td>Professional       </td><td>No                 </td><td>2                  </td><td>1-2 Miles          </td><td>North America      </td><td>48                 </td><td>Yes                </td></tr>\n",
       "\t<tr><th scope=row>987</th><td>23704              </td><td>Single             </td><td>Male               </td><td> 40000             </td><td>5                  </td><td>High School        </td><td>Professional       </td><td>Yes                </td><td>4                  </td><td>10+ Miles          </td><td>North America      </td><td>43                 </td><td>Yes                </td></tr>\n",
       "\t<tr><th scope=row>989</th><td>22730              </td><td>Married            </td><td>Male               </td><td> 70000             </td><td>5                  </td><td>Bachelors          </td><td>Management         </td><td>Yes                </td><td>2                  </td><td>10+ Miles          </td><td>North America      </td><td>63                 </td><td>No                 </td></tr>\n",
       "\t<tr><th scope=row>990</th><td>29134              </td><td>Married            </td><td>Male               </td><td> 60000             </td><td>4                  </td><td>Bachelors          </td><td>Skilled Manual     </td><td>No                 </td><td>3                  </td><td>10+ Miles          </td><td>North America      </td><td>42                 </td><td>No                 </td></tr>\n",
       "\t<tr><th scope=row>993</th><td>22864              </td><td>Married            </td><td>Male               </td><td> 90000             </td><td>2                  </td><td>Partial College    </td><td>Professional       </td><td>No                 </td><td>0                  </td><td>5-10 Miles         </td><td>North America      </td><td>49                 </td><td>Yes                </td></tr>\n",
       "\t<tr><th scope=row>994</th><td>11292              </td><td>Single             </td><td>Male               </td><td>150000             </td><td>1                  </td><td>Partial College    </td><td>Professional       </td><td>No                 </td><td>3                  </td><td>0-1 Miles          </td><td>North America      </td><td>44                 </td><td>Yes                </td></tr>\n",
       "\t<tr><th scope=row>995</th><td>13466              </td><td>Married            </td><td>Male               </td><td> 80000             </td><td>5                  </td><td>Partial College    </td><td>Professional       </td><td>Yes                </td><td>3                  </td><td>1-2 Miles          </td><td>North America      </td><td>46                 </td><td>No                 </td></tr>\n",
       "\t<tr><th scope=row>996</th><td>23731              </td><td>Married            </td><td>Male               </td><td> 60000             </td><td>2                  </td><td>High School        </td><td>Professional       </td><td>Yes                </td><td>2                  </td><td>2-5 Miles          </td><td>North America      </td><td>54                 </td><td>Yes                </td></tr>\n",
       "\t<tr><th scope=row>997</th><td>28672              </td><td>Single             </td><td>Male               </td><td> 70000             </td><td>4                  </td><td>Graduate Degree    </td><td>Professional       </td><td>Yes                </td><td>0                  </td><td>2-5 Miles          </td><td>North America      </td><td>35                 </td><td>Yes                </td></tr>\n",
       "\t<tr><th scope=row>998</th><td>11809              </td><td>Married            </td><td>Male               </td><td> 60000             </td><td>2                  </td><td>Bachelors          </td><td>Skilled Manual     </td><td>Yes                </td><td>0                  </td><td>0-1 Miles          </td><td>North America      </td><td>38                 </td><td>Yes                </td></tr>\n",
       "\t<tr><th scope=row>999</th><td>19664              </td><td>Single             </td><td>Male               </td><td>100000             </td><td>3                  </td><td>Bachelors          </td><td>Management         </td><td>No                 </td><td>3                  </td><td>1-2 Miles          </td><td>North America      </td><td>38                 </td><td>No                 </td></tr>\n",
       "\t<tr><th scope=row>1000</th><td>12121              </td><td>Single             </td><td>Male               </td><td> 60000             </td><td>3                  </td><td>High School        </td><td>Professional       </td><td>Yes                </td><td>2                  </td><td>10+ Miles          </td><td>North America      </td><td>53                 </td><td>Yes                </td></tr>\n",
       "</tbody>\n",
       "</table>\n"
      ],
      "text/latex": [
       "\\begin{tabular}{r|lllllllllllll}\n",
       "  & ID & Marital.Status & Gender & Income & Children & Education & Occupation & Home.Owner & Cars & Commute.Distance & Region & Age & Purchased.Bike\\\\\n",
       "\\hline\n",
       "\t2 & 24107               & Married             & Male                &  30000              & 3                   & Partial College     & Clerical            & Yes                 & 1.000000            & 0-1 Miles           & Europe              & 43                  & No                 \\\\\n",
       "\t3 & 14177               & Married             & Male                &  80000              & 5                   & Partial College     & Professional        & No                  & 2.000000            & 2-5 Miles           & Europe              & 60                  & No                 \\\\\n",
       "\t4 & 24381               & Single              & Male                &  70000              & 0                   & Bachelors           & Professional        & Yes                 & 1.000000            & 5-10 Miles          & Pacific             & 41                  & Yes                \\\\\n",
       "\t5 & 25597               & Single              & Male                &  30000              & 0                   & Bachelors           & Clerical            & No                  & 0.000000            & 0-1 Miles           & Europe              & 36                  & Yes                \\\\\n",
       "\t7 & 27974               & Single              & Male                & 160000              & 2                   & High School         & Management          & Yes                 & 4.000000            & 0-1 Miles           & Pacific             & 33                  & Yes                \\\\\n",
       "\t8 & 19364               & Married             & Male                &  40000              & 1                   & Bachelors           & Skilled Manual      & Yes                 & 0.000000            & 0-1 Miles           & Europe              & 43                  & Yes                \\\\\n",
       "\t9 & 22155               & Married             & Male                &  20000              & 2                   & Partial High School & Clerical            & Yes                 & 2.000000            & 5-10 Miles          & Pacific             & 58                  & No                 \\\\\n",
       "\t10 & 19280               & Married             & Male                &  60000              & 2                   & Partial College     & Manual              & Yes                 & 1.000000            & 0-1 Miles           & Europe              & 43                  & Yes                \\\\\n",
       "\t13 & 11434               & Married             & Male                & 170000              & 5                   & Partial College     & Professional        & Yes                 & 1.455096            & 0-1 Miles           & Europe              & 55                  & No                 \\\\\n",
       "\t14 & 25323               & Married             & Male                &  40000              & 2                   & Partial College     & Clerical            & Yes                 & 1.000000            & 1-2 Miles           & Europe              & 35                  & Yes                \\\\\n",
       "\t15 & 23542               & Single              & Male                &  60000              & 1                   & Partial College     & Skilled Manual      & No                  & 1.000000            & 0-1 Miles           & Pacific             & 45                  & Yes                \\\\\n",
       "\t17 & 23316               & Single              & Male                &  30000              & 3                   & Partial College     & Clerical            & No                  & 2.000000            & 1-2 Miles           & Pacific             & 59                  & Yes                \\\\\n",
       "\t19 & 27183               & Single              & Male                &  40000              & 2                   & Partial College     & Clerical            & Yes                 & 1.000000            & 1-2 Miles           & Europe              & 35                  & Yes                \\\\\n",
       "\t20 & 25940               & Single              & Male                &  20000              & 2                   & Partial High School & Clerical            & Yes                 & 2.000000            & 5-10 Miles          & Pacific             & 55                  & Yes                \\\\\n",
       "\t23 & 19193               & Single              & Male                &  40000              & 2                   & Partial College     & Clerical            & Yes                 & 0.000000            & 1-2 Miles           & Europe              & 35                  & Yes                \\\\\n",
       "\t25 & 27184               & Single              & Male                &  40000              & 2                   & Partial College     & Clerical            & No                  & 1.000000            & 0-1 Miles           & Europe              & 34                  & No                 \\\\\n",
       "\t26 & 12590               & Single              & Male                &  30000              & 1                   & Bachelors           & Clerical            & Yes                 & 0.000000            & 0-1 Miles           & Europe              & 63                  & No                 \\\\\n",
       "\t27 & 17841               & Single              & Male                &  30000              & 0                   & Partial College     & Clerical            & No                  & 1.000000            & 0-1 Miles           & Europe              & 29                  & Yes                \\\\\n",
       "\t29 & 18299               & Married             & Male                &  70000              & 5                   & Partial College     & Skilled Manual      & Yes                 & 2.000000            & 5-10 Miles          & Pacific             & 44                  & No                 \\\\\n",
       "\t32 & 22400               & Married             & Male                &  10000              & 0                   & Partial College     & Manual              & No                  & 1.000000            & 0-1 Miles           & Pacific             & 26                  & Yes                \\\\\n",
       "\t34 & 18484               & Single              & Male                &  80000              & 2                   & High School         & Skilled Manual      & No                  & 2.000000            & 1-2 Miles           & Pacific             & 50                  & Yes                \\\\\n",
       "\t35 & 12291               & Single              & Male                &  90000              & 5                   & Partial College     & Professional        & No                  & 2.000000            & 2-5 Miles           & Europe              & 62                  & Yes                \\\\\n",
       "\t39 & 26863               & Single              & Male                &  20000              & 0                   & High School         & Manual              & No                  & 1.000000            & 2-5 Miles           & Europe              & 28                  & No                 \\\\\n",
       "\t49 & 19487               & Married             & Male                &  30000              & 2                   & Partial College     & Clerical            & No                  & 2.000000            & 0-1 Miles           & Europe              & 42                  & No                 \\\\\n",
       "\t50 & 14939               & Married             & Male                &  40000              & 0                   & Bachelors           & Clerical            & Yes                 & 0.000000            & 0-1 Miles           & Europe              & 39                  & Yes                \\\\\n",
       "\t52 & 20619               & Single              & Male                &  80000              & 0                   & Bachelors           & Professional        & No                  & 4.000000            & 10+ Miles           & Pacific             & 35                  & No                 \\\\\n",
       "\t56 & 28906               & Married             & Male                &  80000              & 4                   & High School         & Professional        & Yes                 & 2.000000            & 10+ Miles           & Europe              & 54                  & No                 \\\\\n",
       "\t57 & 12808               & Married             & Male                &  40000              & 0                   & Bachelors           & Clerical            & Yes                 & 0.000000            & 0-1 Miles           & Europe              & 38                  & Yes                \\\\\n",
       "\t58 & 20567               & Married             & Male                & 130000              & 4                   & Partial College     & Professional        & No                  & 4.000000            & 5-10 Miles          & Europe              & 61                  & Yes                \\\\\n",
       "\t60 & 15580               & Married             & Male                &  60000              & 2                   & Bachelors           & Professional        & Yes                 & 1.000000            & 2-5 Miles           & Pacific             & 38                  & Yes                \\\\\n",
       "\t... & ... & ... & ... & ... & ... & ... & ... & ... & ... & ... & ... & ... & ...\\\\\n",
       "\t952 & 22296               & Married             & Male                &  70000              & 0                   & Bachelors           & Professional        & No                  & 1                   & 0-1 Miles           & North America       & 38                  & No                 \\\\\n",
       "\t955 & 14662               & Married             & Male                &  60000              & 1                   & Bachelors           & Professional        & Yes                 & 1                   & 0-1 Miles           & North America       & 48                  & Yes                \\\\\n",
       "\t959 & 21940               & Married             & Male                &  90000              & 5                   & Graduate Degree     & Professional        & Yes                 & 0                   & 0-1 Miles           & North America       & 47                  & Yes                \\\\\n",
       "\t960 & 20196               & Married             & Male                &  60000              & 1                   & Partial College     & Skilled Manual      & Yes                 & 1                   & 2-5 Miles           & North America       & 45                  & Yes                \\\\\n",
       "\t961 & 23491               & Single              & Male                & 100000              & 0                   & Partial College     & Professional        & No                  & 4                   & 1-2 Miles           & North America       & 45                  & No                 \\\\\n",
       "\t963 & 16813               & Married             & Male                &  60000              & 2                   & Partial College     & Professional        & Yes                 & 2                   & 10+ Miles           & North America       & 55                  & No                 \\\\\n",
       "\t965 & 27434               & Single              & Male                &  70000              & 4                   & Partial College     & Professional        & Yes                 & 1                   & 10+ Miles           & North America       & 56                  & No                 \\\\\n",
       "\t968 & 19012               & Married             & Male                &  80000              & 3                   & Bachelors           & Management          & Yes                 & 1                   & 1-2 Miles           & North America       & 56                  & No                 \\\\\n",
       "\t969 & 18329               & Single              & Male                &  30000              & 0                   & Partial High School & Clerical            & No                  & 2                   & 5-10 Miles          & North America       & 27                  & No                 \\\\\n",
       "\t970 & 29037               & Married             & Male                &  60000              & 0                   & Graduate Degree     & Professional        & No                  & 0                   & 0-1 Miles           & North America       & 39                  & No                 \\\\\n",
       "\t974 & 11734               & Married             & Male                &  60000              & 1                   & Partial College     & Skilled Manual      & No                  & 1                   & 0-1 Miles           & North America       & 47                  & No                 \\\\\n",
       "\t975 & 17462               & Married             & Male                &  70000              & 3                   & Graduate Degree     & Management          & Yes                 & 2                   & 5-10 Miles          & North America       & 53                  & Yes                \\\\\n",
       "\t976 & 20659               & Married             & Male                &  70000              & 3                   & Graduate Degree     & Professional        & Yes                 & 0                   & 0-1 Miles           & North America       & 35                  & Yes                \\\\\n",
       "\t979 & 17450               & Married             & Male                &  80000              & 5                   & Partial College     & Professional        & Yes                 & 3                   & 5-10 Miles          & North America       & 45                  & No                 \\\\\n",
       "\t980 & 17337               & Single              & Male                &  40000              & 0                   & High School         & Skilled Manual      & Yes                 & 1                   & 5-10 Miles          & North America       & 31                  & No                 \\\\\n",
       "\t982 & 15982               & Married             & Male                & 110000              & 5                   & Partial College     & Professional        & Yes                 & 4                   & 2-5 Miles           & North America       & 46                  & No                 \\\\\n",
       "\t983 & 28625               & Single              & Male                &  40000              & 2                   & Partial College     & Clerical            & No                  & 1                   & 1-2 Miles           & North America       & 47                  & Yes                \\\\\n",
       "\t984 & 11269               & Married             & Male                & 130000              & 2                   & Graduate Degree     & Management          & Yes                 & 2                   & 0-1 Miles           & North America       & 41                  & No                 \\\\\n",
       "\t985 & 25148               & Married             & Male                &  60000              & 2                   & High School         & Professional        & No                  & 2                   & 1-2 Miles           & North America       & 48                  & Yes                \\\\\n",
       "\t987 & 23704               & Single              & Male                &  40000              & 5                   & High School         & Professional        & Yes                 & 4                   & 10+ Miles           & North America       & 43                  & Yes                \\\\\n",
       "\t989 & 22730               & Married             & Male                &  70000              & 5                   & Bachelors           & Management          & Yes                 & 2                   & 10+ Miles           & North America       & 63                  & No                 \\\\\n",
       "\t990 & 29134               & Married             & Male                &  60000              & 4                   & Bachelors           & Skilled Manual      & No                  & 3                   & 10+ Miles           & North America       & 42                  & No                 \\\\\n",
       "\t993 & 22864               & Married             & Male                &  90000              & 2                   & Partial College     & Professional        & No                  & 0                   & 5-10 Miles          & North America       & 49                  & Yes                \\\\\n",
       "\t994 & 11292               & Single              & Male                & 150000              & 1                   & Partial College     & Professional        & No                  & 3                   & 0-1 Miles           & North America       & 44                  & Yes                \\\\\n",
       "\t995 & 13466               & Married             & Male                &  80000              & 5                   & Partial College     & Professional        & Yes                 & 3                   & 1-2 Miles           & North America       & 46                  & No                 \\\\\n",
       "\t996 & 23731               & Married             & Male                &  60000              & 2                   & High School         & Professional        & Yes                 & 2                   & 2-5 Miles           & North America       & 54                  & Yes                \\\\\n",
       "\t997 & 28672               & Single              & Male                &  70000              & 4                   & Graduate Degree     & Professional        & Yes                 & 0                   & 2-5 Miles           & North America       & 35                  & Yes                \\\\\n",
       "\t998 & 11809               & Married             & Male                &  60000              & 2                   & Bachelors           & Skilled Manual      & Yes                 & 0                   & 0-1 Miles           & North America       & 38                  & Yes                \\\\\n",
       "\t999 & 19664               & Single              & Male                & 100000              & 3                   & Bachelors           & Management          & No                  & 3                   & 1-2 Miles           & North America       & 38                  & No                 \\\\\n",
       "\t1000 & 12121               & Single              & Male                &  60000              & 3                   & High School         & Professional        & Yes                 & 2                   & 10+ Miles           & North America       & 53                  & Yes                \\\\\n",
       "\\end{tabular}\n"
      ],
      "text/markdown": [
       "\n",
       "| <!--/--> | ID | Marital.Status | Gender | Income | Children | Education | Occupation | Home.Owner | Cars | Commute.Distance | Region | Age | Purchased.Bike |\n",
       "|---|---|---|---|---|---|---|---|---|---|---|---|---|---|\n",
       "| 2 | 24107               | Married             | Male                |  30000              | 3                   | Partial College     | Clerical            | Yes                 | 1.000000            | 0-1 Miles           | Europe              | 43                  | No                  |\n",
       "| 3 | 14177               | Married             | Male                |  80000              | 5                   | Partial College     | Professional        | No                  | 2.000000            | 2-5 Miles           | Europe              | 60                  | No                  |\n",
       "| 4 | 24381               | Single              | Male                |  70000              | 0                   | Bachelors           | Professional        | Yes                 | 1.000000            | 5-10 Miles          | Pacific             | 41                  | Yes                 |\n",
       "| 5 | 25597               | Single              | Male                |  30000              | 0                   | Bachelors           | Clerical            | No                  | 0.000000            | 0-1 Miles           | Europe              | 36                  | Yes                 |\n",
       "| 7 | 27974               | Single              | Male                | 160000              | 2                   | High School         | Management          | Yes                 | 4.000000            | 0-1 Miles           | Pacific             | 33                  | Yes                 |\n",
       "| 8 | 19364               | Married             | Male                |  40000              | 1                   | Bachelors           | Skilled Manual      | Yes                 | 0.000000            | 0-1 Miles           | Europe              | 43                  | Yes                 |\n",
       "| 9 | 22155               | Married             | Male                |  20000              | 2                   | Partial High School | Clerical            | Yes                 | 2.000000            | 5-10 Miles          | Pacific             | 58                  | No                  |\n",
       "| 10 | 19280               | Married             | Male                |  60000              | 2                   | Partial College     | Manual              | Yes                 | 1.000000            | 0-1 Miles           | Europe              | 43                  | Yes                 |\n",
       "| 13 | 11434               | Married             | Male                | 170000              | 5                   | Partial College     | Professional        | Yes                 | 1.455096            | 0-1 Miles           | Europe              | 55                  | No                  |\n",
       "| 14 | 25323               | Married             | Male                |  40000              | 2                   | Partial College     | Clerical            | Yes                 | 1.000000            | 1-2 Miles           | Europe              | 35                  | Yes                 |\n",
       "| 15 | 23542               | Single              | Male                |  60000              | 1                   | Partial College     | Skilled Manual      | No                  | 1.000000            | 0-1 Miles           | Pacific             | 45                  | Yes                 |\n",
       "| 17 | 23316               | Single              | Male                |  30000              | 3                   | Partial College     | Clerical            | No                  | 2.000000            | 1-2 Miles           | Pacific             | 59                  | Yes                 |\n",
       "| 19 | 27183               | Single              | Male                |  40000              | 2                   | Partial College     | Clerical            | Yes                 | 1.000000            | 1-2 Miles           | Europe              | 35                  | Yes                 |\n",
       "| 20 | 25940               | Single              | Male                |  20000              | 2                   | Partial High School | Clerical            | Yes                 | 2.000000            | 5-10 Miles          | Pacific             | 55                  | Yes                 |\n",
       "| 23 | 19193               | Single              | Male                |  40000              | 2                   | Partial College     | Clerical            | Yes                 | 0.000000            | 1-2 Miles           | Europe              | 35                  | Yes                 |\n",
       "| 25 | 27184               | Single              | Male                |  40000              | 2                   | Partial College     | Clerical            | No                  | 1.000000            | 0-1 Miles           | Europe              | 34                  | No                  |\n",
       "| 26 | 12590               | Single              | Male                |  30000              | 1                   | Bachelors           | Clerical            | Yes                 | 0.000000            | 0-1 Miles           | Europe              | 63                  | No                  |\n",
       "| 27 | 17841               | Single              | Male                |  30000              | 0                   | Partial College     | Clerical            | No                  | 1.000000            | 0-1 Miles           | Europe              | 29                  | Yes                 |\n",
       "| 29 | 18299               | Married             | Male                |  70000              | 5                   | Partial College     | Skilled Manual      | Yes                 | 2.000000            | 5-10 Miles          | Pacific             | 44                  | No                  |\n",
       "| 32 | 22400               | Married             | Male                |  10000              | 0                   | Partial College     | Manual              | No                  | 1.000000            | 0-1 Miles           | Pacific             | 26                  | Yes                 |\n",
       "| 34 | 18484               | Single              | Male                |  80000              | 2                   | High School         | Skilled Manual      | No                  | 2.000000            | 1-2 Miles           | Pacific             | 50                  | Yes                 |\n",
       "| 35 | 12291               | Single              | Male                |  90000              | 5                   | Partial College     | Professional        | No                  | 2.000000            | 2-5 Miles           | Europe              | 62                  | Yes                 |\n",
       "| 39 | 26863               | Single              | Male                |  20000              | 0                   | High School         | Manual              | No                  | 1.000000            | 2-5 Miles           | Europe              | 28                  | No                  |\n",
       "| 49 | 19487               | Married             | Male                |  30000              | 2                   | Partial College     | Clerical            | No                  | 2.000000            | 0-1 Miles           | Europe              | 42                  | No                  |\n",
       "| 50 | 14939               | Married             | Male                |  40000              | 0                   | Bachelors           | Clerical            | Yes                 | 0.000000            | 0-1 Miles           | Europe              | 39                  | Yes                 |\n",
       "| 52 | 20619               | Single              | Male                |  80000              | 0                   | Bachelors           | Professional        | No                  | 4.000000            | 10+ Miles           | Pacific             | 35                  | No                  |\n",
       "| 56 | 28906               | Married             | Male                |  80000              | 4                   | High School         | Professional        | Yes                 | 2.000000            | 10+ Miles           | Europe              | 54                  | No                  |\n",
       "| 57 | 12808               | Married             | Male                |  40000              | 0                   | Bachelors           | Clerical            | Yes                 | 0.000000            | 0-1 Miles           | Europe              | 38                  | Yes                 |\n",
       "| 58 | 20567               | Married             | Male                | 130000              | 4                   | Partial College     | Professional        | No                  | 4.000000            | 5-10 Miles          | Europe              | 61                  | Yes                 |\n",
       "| 60 | 15580               | Married             | Male                |  60000              | 2                   | Bachelors           | Professional        | Yes                 | 1.000000            | 2-5 Miles           | Pacific             | 38                  | Yes                 |\n",
       "| ... | ... | ... | ... | ... | ... | ... | ... | ... | ... | ... | ... | ... | ... |\n",
       "| 952 | 22296               | Married             | Male                |  70000              | 0                   | Bachelors           | Professional        | No                  | 1                   | 0-1 Miles           | North America       | 38                  | No                  |\n",
       "| 955 | 14662               | Married             | Male                |  60000              | 1                   | Bachelors           | Professional        | Yes                 | 1                   | 0-1 Miles           | North America       | 48                  | Yes                 |\n",
       "| 959 | 21940               | Married             | Male                |  90000              | 5                   | Graduate Degree     | Professional        | Yes                 | 0                   | 0-1 Miles           | North America       | 47                  | Yes                 |\n",
       "| 960 | 20196               | Married             | Male                |  60000              | 1                   | Partial College     | Skilled Manual      | Yes                 | 1                   | 2-5 Miles           | North America       | 45                  | Yes                 |\n",
       "| 961 | 23491               | Single              | Male                | 100000              | 0                   | Partial College     | Professional        | No                  | 4                   | 1-2 Miles           | North America       | 45                  | No                  |\n",
       "| 963 | 16813               | Married             | Male                |  60000              | 2                   | Partial College     | Professional        | Yes                 | 2                   | 10+ Miles           | North America       | 55                  | No                  |\n",
       "| 965 | 27434               | Single              | Male                |  70000              | 4                   | Partial College     | Professional        | Yes                 | 1                   | 10+ Miles           | North America       | 56                  | No                  |\n",
       "| 968 | 19012               | Married             | Male                |  80000              | 3                   | Bachelors           | Management          | Yes                 | 1                   | 1-2 Miles           | North America       | 56                  | No                  |\n",
       "| 969 | 18329               | Single              | Male                |  30000              | 0                   | Partial High School | Clerical            | No                  | 2                   | 5-10 Miles          | North America       | 27                  | No                  |\n",
       "| 970 | 29037               | Married             | Male                |  60000              | 0                   | Graduate Degree     | Professional        | No                  | 0                   | 0-1 Miles           | North America       | 39                  | No                  |\n",
       "| 974 | 11734               | Married             | Male                |  60000              | 1                   | Partial College     | Skilled Manual      | No                  | 1                   | 0-1 Miles           | North America       | 47                  | No                  |\n",
       "| 975 | 17462               | Married             | Male                |  70000              | 3                   | Graduate Degree     | Management          | Yes                 | 2                   | 5-10 Miles          | North America       | 53                  | Yes                 |\n",
       "| 976 | 20659               | Married             | Male                |  70000              | 3                   | Graduate Degree     | Professional        | Yes                 | 0                   | 0-1 Miles           | North America       | 35                  | Yes                 |\n",
       "| 979 | 17450               | Married             | Male                |  80000              | 5                   | Partial College     | Professional        | Yes                 | 3                   | 5-10 Miles          | North America       | 45                  | No                  |\n",
       "| 980 | 17337               | Single              | Male                |  40000              | 0                   | High School         | Skilled Manual      | Yes                 | 1                   | 5-10 Miles          | North America       | 31                  | No                  |\n",
       "| 982 | 15982               | Married             | Male                | 110000              | 5                   | Partial College     | Professional        | Yes                 | 4                   | 2-5 Miles           | North America       | 46                  | No                  |\n",
       "| 983 | 28625               | Single              | Male                |  40000              | 2                   | Partial College     | Clerical            | No                  | 1                   | 1-2 Miles           | North America       | 47                  | Yes                 |\n",
       "| 984 | 11269               | Married             | Male                | 130000              | 2                   | Graduate Degree     | Management          | Yes                 | 2                   | 0-1 Miles           | North America       | 41                  | No                  |\n",
       "| 985 | 25148               | Married             | Male                |  60000              | 2                   | High School         | Professional        | No                  | 2                   | 1-2 Miles           | North America       | 48                  | Yes                 |\n",
       "| 987 | 23704               | Single              | Male                |  40000              | 5                   | High School         | Professional        | Yes                 | 4                   | 10+ Miles           | North America       | 43                  | Yes                 |\n",
       "| 989 | 22730               | Married             | Male                |  70000              | 5                   | Bachelors           | Management          | Yes                 | 2                   | 10+ Miles           | North America       | 63                  | No                  |\n",
       "| 990 | 29134               | Married             | Male                |  60000              | 4                   | Bachelors           | Skilled Manual      | No                  | 3                   | 10+ Miles           | North America       | 42                  | No                  |\n",
       "| 993 | 22864               | Married             | Male                |  90000              | 2                   | Partial College     | Professional        | No                  | 0                   | 5-10 Miles          | North America       | 49                  | Yes                 |\n",
       "| 994 | 11292               | Single              | Male                | 150000              | 1                   | Partial College     | Professional        | No                  | 3                   | 0-1 Miles           | North America       | 44                  | Yes                 |\n",
       "| 995 | 13466               | Married             | Male                |  80000              | 5                   | Partial College     | Professional        | Yes                 | 3                   | 1-2 Miles           | North America       | 46                  | No                  |\n",
       "| 996 | 23731               | Married             | Male                |  60000              | 2                   | High School         | Professional        | Yes                 | 2                   | 2-5 Miles           | North America       | 54                  | Yes                 |\n",
       "| 997 | 28672               | Single              | Male                |  70000              | 4                   | Graduate Degree     | Professional        | Yes                 | 0                   | 2-5 Miles           | North America       | 35                  | Yes                 |\n",
       "| 998 | 11809               | Married             | Male                |  60000              | 2                   | Bachelors           | Skilled Manual      | Yes                 | 0                   | 0-1 Miles           | North America       | 38                  | Yes                 |\n",
       "| 999 | 19664               | Single              | Male                | 100000              | 3                   | Bachelors           | Management          | No                  | 3                   | 1-2 Miles           | North America       | 38                  | No                  |\n",
       "| 1000 | 12121               | Single              | Male                |  60000              | 3                   | High School         | Professional        | Yes                 | 2                   | 10+ Miles           | North America       | 53                  | Yes                 |\n",
       "\n"
      ],
      "text/plain": [
       "     ID    Marital.Status Gender Income Children Education          \n",
       "2    24107 Married        Male    30000 3        Partial College    \n",
       "3    14177 Married        Male    80000 5        Partial College    \n",
       "4    24381 Single         Male    70000 0        Bachelors          \n",
       "5    25597 Single         Male    30000 0        Bachelors          \n",
       "7    27974 Single         Male   160000 2        High School        \n",
       "8    19364 Married        Male    40000 1        Bachelors          \n",
       "9    22155 Married        Male    20000 2        Partial High School\n",
       "10   19280 Married        Male    60000 2        Partial College    \n",
       "13   11434 Married        Male   170000 5        Partial College    \n",
       "14   25323 Married        Male    40000 2        Partial College    \n",
       "15   23542 Single         Male    60000 1        Partial College    \n",
       "17   23316 Single         Male    30000 3        Partial College    \n",
       "19   27183 Single         Male    40000 2        Partial College    \n",
       "20   25940 Single         Male    20000 2        Partial High School\n",
       "23   19193 Single         Male    40000 2        Partial College    \n",
       "25   27184 Single         Male    40000 2        Partial College    \n",
       "26   12590 Single         Male    30000 1        Bachelors          \n",
       "27   17841 Single         Male    30000 0        Partial College    \n",
       "29   18299 Married        Male    70000 5        Partial College    \n",
       "32   22400 Married        Male    10000 0        Partial College    \n",
       "34   18484 Single         Male    80000 2        High School        \n",
       "35   12291 Single         Male    90000 5        Partial College    \n",
       "39   26863 Single         Male    20000 0        High School        \n",
       "49   19487 Married        Male    30000 2        Partial College    \n",
       "50   14939 Married        Male    40000 0        Bachelors          \n",
       "52   20619 Single         Male    80000 0        Bachelors          \n",
       "56   28906 Married        Male    80000 4        High School        \n",
       "57   12808 Married        Male    40000 0        Bachelors          \n",
       "58   20567 Married        Male   130000 4        Partial College    \n",
       "60   15580 Married        Male    60000 2        Bachelors          \n",
       "...  ...   ...            ...    ...    ...      ...                \n",
       "952  22296 Married        Male    70000 0        Bachelors          \n",
       "955  14662 Married        Male    60000 1        Bachelors          \n",
       "959  21940 Married        Male    90000 5        Graduate Degree    \n",
       "960  20196 Married        Male    60000 1        Partial College    \n",
       "961  23491 Single         Male   100000 0        Partial College    \n",
       "963  16813 Married        Male    60000 2        Partial College    \n",
       "965  27434 Single         Male    70000 4        Partial College    \n",
       "968  19012 Married        Male    80000 3        Bachelors          \n",
       "969  18329 Single         Male    30000 0        Partial High School\n",
       "970  29037 Married        Male    60000 0        Graduate Degree    \n",
       "974  11734 Married        Male    60000 1        Partial College    \n",
       "975  17462 Married        Male    70000 3        Graduate Degree    \n",
       "976  20659 Married        Male    70000 3        Graduate Degree    \n",
       "979  17450 Married        Male    80000 5        Partial College    \n",
       "980  17337 Single         Male    40000 0        High School        \n",
       "982  15982 Married        Male   110000 5        Partial College    \n",
       "983  28625 Single         Male    40000 2        Partial College    \n",
       "984  11269 Married        Male   130000 2        Graduate Degree    \n",
       "985  25148 Married        Male    60000 2        High School        \n",
       "987  23704 Single         Male    40000 5        High School        \n",
       "989  22730 Married        Male    70000 5        Bachelors          \n",
       "990  29134 Married        Male    60000 4        Bachelors          \n",
       "993  22864 Married        Male    90000 2        Partial College    \n",
       "994  11292 Single         Male   150000 1        Partial College    \n",
       "995  13466 Married        Male    80000 5        Partial College    \n",
       "996  23731 Married        Male    60000 2        High School        \n",
       "997  28672 Single         Male    70000 4        Graduate Degree    \n",
       "998  11809 Married        Male    60000 2        Bachelors          \n",
       "999  19664 Single         Male   100000 3        Bachelors          \n",
       "1000 12121 Single         Male    60000 3        High School        \n",
       "     Occupation     Home.Owner Cars     Commute.Distance Region        Age\n",
       "2    Clerical       Yes        1.000000 0-1 Miles        Europe        43 \n",
       "3    Professional   No         2.000000 2-5 Miles        Europe        60 \n",
       "4    Professional   Yes        1.000000 5-10 Miles       Pacific       41 \n",
       "5    Clerical       No         0.000000 0-1 Miles        Europe        36 \n",
       "7    Management     Yes        4.000000 0-1 Miles        Pacific       33 \n",
       "8    Skilled Manual Yes        0.000000 0-1 Miles        Europe        43 \n",
       "9    Clerical       Yes        2.000000 5-10 Miles       Pacific       58 \n",
       "10   Manual         Yes        1.000000 0-1 Miles        Europe        43 \n",
       "13   Professional   Yes        1.455096 0-1 Miles        Europe        55 \n",
       "14   Clerical       Yes        1.000000 1-2 Miles        Europe        35 \n",
       "15   Skilled Manual No         1.000000 0-1 Miles        Pacific       45 \n",
       "17   Clerical       No         2.000000 1-2 Miles        Pacific       59 \n",
       "19   Clerical       Yes        1.000000 1-2 Miles        Europe        35 \n",
       "20   Clerical       Yes        2.000000 5-10 Miles       Pacific       55 \n",
       "23   Clerical       Yes        0.000000 1-2 Miles        Europe        35 \n",
       "25   Clerical       No         1.000000 0-1 Miles        Europe        34 \n",
       "26   Clerical       Yes        0.000000 0-1 Miles        Europe        63 \n",
       "27   Clerical       No         1.000000 0-1 Miles        Europe        29 \n",
       "29   Skilled Manual Yes        2.000000 5-10 Miles       Pacific       44 \n",
       "32   Manual         No         1.000000 0-1 Miles        Pacific       26 \n",
       "34   Skilled Manual No         2.000000 1-2 Miles        Pacific       50 \n",
       "35   Professional   No         2.000000 2-5 Miles        Europe        62 \n",
       "39   Manual         No         1.000000 2-5 Miles        Europe        28 \n",
       "49   Clerical       No         2.000000 0-1 Miles        Europe        42 \n",
       "50   Clerical       Yes        0.000000 0-1 Miles        Europe        39 \n",
       "52   Professional   No         4.000000 10+ Miles        Pacific       35 \n",
       "56   Professional   Yes        2.000000 10+ Miles        Europe        54 \n",
       "57   Clerical       Yes        0.000000 0-1 Miles        Europe        38 \n",
       "58   Professional   No         4.000000 5-10 Miles       Europe        61 \n",
       "60   Professional   Yes        1.000000 2-5 Miles        Pacific       38 \n",
       "...  ...            ...        ...      ...              ...           ...\n",
       "952  Professional   No         1        0-1 Miles        North America 38 \n",
       "955  Professional   Yes        1        0-1 Miles        North America 48 \n",
       "959  Professional   Yes        0        0-1 Miles        North America 47 \n",
       "960  Skilled Manual Yes        1        2-5 Miles        North America 45 \n",
       "961  Professional   No         4        1-2 Miles        North America 45 \n",
       "963  Professional   Yes        2        10+ Miles        North America 55 \n",
       "965  Professional   Yes        1        10+ Miles        North America 56 \n",
       "968  Management     Yes        1        1-2 Miles        North America 56 \n",
       "969  Clerical       No         2        5-10 Miles       North America 27 \n",
       "970  Professional   No         0        0-1 Miles        North America 39 \n",
       "974  Skilled Manual No         1        0-1 Miles        North America 47 \n",
       "975  Management     Yes        2        5-10 Miles       North America 53 \n",
       "976  Professional   Yes        0        0-1 Miles        North America 35 \n",
       "979  Professional   Yes        3        5-10 Miles       North America 45 \n",
       "980  Skilled Manual Yes        1        5-10 Miles       North America 31 \n",
       "982  Professional   Yes        4        2-5 Miles        North America 46 \n",
       "983  Clerical       No         1        1-2 Miles        North America 47 \n",
       "984  Management     Yes        2        0-1 Miles        North America 41 \n",
       "985  Professional   No         2        1-2 Miles        North America 48 \n",
       "987  Professional   Yes        4        10+ Miles        North America 43 \n",
       "989  Management     Yes        2        10+ Miles        North America 63 \n",
       "990  Skilled Manual No         3        10+ Miles        North America 42 \n",
       "993  Professional   No         0        5-10 Miles       North America 49 \n",
       "994  Professional   No         3        0-1 Miles        North America 44 \n",
       "995  Professional   Yes        3        1-2 Miles        North America 46 \n",
       "996  Professional   Yes        2        2-5 Miles        North America 54 \n",
       "997  Professional   Yes        0        2-5 Miles        North America 35 \n",
       "998  Skilled Manual Yes        0        0-1 Miles        North America 38 \n",
       "999  Management     No         3        1-2 Miles        North America 38 \n",
       "1000 Professional   Yes        2        10+ Miles        North America 53 \n",
       "     Purchased.Bike\n",
       "2    No            \n",
       "3    No            \n",
       "4    Yes           \n",
       "5    Yes           \n",
       "7    Yes           \n",
       "8    Yes           \n",
       "9    No            \n",
       "10   Yes           \n",
       "13   No            \n",
       "14   Yes           \n",
       "15   Yes           \n",
       "17   Yes           \n",
       "19   Yes           \n",
       "20   Yes           \n",
       "23   Yes           \n",
       "25   No            \n",
       "26   No            \n",
       "27   Yes           \n",
       "29   No            \n",
       "32   Yes           \n",
       "34   Yes           \n",
       "35   Yes           \n",
       "39   No            \n",
       "49   No            \n",
       "50   Yes           \n",
       "52   No            \n",
       "56   No            \n",
       "57   Yes           \n",
       "58   Yes           \n",
       "60   Yes           \n",
       "...  ...           \n",
       "952  No            \n",
       "955  Yes           \n",
       "959  Yes           \n",
       "960  Yes           \n",
       "961  No            \n",
       "963  No            \n",
       "965  No            \n",
       "968  No            \n",
       "969  No            \n",
       "970  No            \n",
       "974  No            \n",
       "975  Yes           \n",
       "976  Yes           \n",
       "979  No            \n",
       "980  No            \n",
       "982  No            \n",
       "983  Yes           \n",
       "984  No            \n",
       "985  Yes           \n",
       "987  Yes           \n",
       "989  No            \n",
       "990  No            \n",
       "993  Yes           \n",
       "994  Yes           \n",
       "995  No            \n",
       "996  Yes           \n",
       "997  Yes           \n",
       "998  Yes           \n",
       "999  No            \n",
       "1000 Yes           "
      ]
     },
     "metadata": {},
     "output_type": "display_data"
    }
   ],
   "source": [
    "filter_bike_M<-d[d$Gender=='Male',]\n",
    "filter_bike_M"
   ]
  },
  {
   "cell_type": "code",
   "execution_count": 29,
   "id": "3a9d7ff5",
   "metadata": {
    "scrolled": false
   },
   "outputs": [
    {
     "data": {
      "image/png": "[encoded data removed]",
      "text/plain": [
       "Plot with title \"kernel purchased bikes \""
      ]
     },
     "metadata": {},
     "output_type": "display_data"
    }
   ],
   "source": [
    "density_data<-density(filter_bike_M$Income)\n",
    "plot(density_data,main=\"kernel purchased bikes \")\n",
    "polygon(density_data,col=\"skyblue\",border=\"black\")"
   ]
  },
  {
   "cell_type": "code",
   "execution_count": 30,
   "id": "e23b4611",
   "metadata": {
    "scrolled": false
   },
   "outputs": [
    {
     "data": {
      "image/png": "[encoded data removed]",
      "text/plain": [
       "Plot with title \"Histogram of filter_bike_M$Age\""
      ]
     },
     "metadata": {},
     "output_type": "display_data"
    }
   ],
   "source": [
    "hist(filter_bike_M$Age)"
   ]
  },
  {
   "cell_type": "markdown",
   "id": "fdba344a",
   "metadata": {},
   "source": [
    "* **Visualisation gives an insight about the age types of females and males included in analysis and most of them are between 30-40"
   ]
  },
  {
   "cell_type": "code",
   "execution_count": 31,
   "id": "8ee4b2d5",
   "metadata": {},
   "outputs": [
    {
     "data": {
      "image/png": "[encoded data removed]",
      "text/plain": [
       "plot without title"
      ]
     },
     "metadata": {},
     "output_type": "display_data"
    }
   ],
   "source": [
    "ggplot(d,aes(y = Age, x = Gender)) +geom_point()"
   ]
  },
  {
   "cell_type": "markdown",
   "id": "61ddfa20",
   "metadata": {},
   "source": [
    "##### Maximum age of female included in the data is around 80 and male is around 70"
   ]
  },
  {
   "cell_type": "code",
   "execution_count": 32,
   "id": "1a8b481a",
   "metadata": {},
   "outputs": [
    {
     "data": {
      "image/png": "[encoded data removed]",
      "text/plain": [
       "plot without title"
      ]
     },
     "metadata": {},
     "output_type": "display_data"
    }
   ],
   "source": [
    "ggplot(d,aes(x=Income,y=Occupation,fill=Occupation))+ggtitle(\"Income by Occupation\")+geom_col()+coord_flip()"
   ]
  },
  {
   "cell_type": "markdown",
   "id": "e4b7c64f",
   "metadata": {},
   "source": [
    "#### This indicates Professionals gets the highest income "
   ]
  },
  {
   "cell_type": "code",
   "execution_count": 33,
   "id": "2d23e73c",
   "metadata": {},
   "outputs": [
    {
     "data": {
      "text/plain": [
       "d$Education: Bachelors\n",
       "   Min. 1st Qu.  Median    Mean 3rd Qu.    Max. \n",
       "  10000   40000   60000   63007   80000  150000 \n",
       "------------------------------------------------------------ \n",
       "d$Education: Graduate Degree\n",
       "   Min. 1st Qu.  Median    Mean 3rd Qu.    Max. \n",
       "  10000   50000   60000   66092   80000  170000 \n",
       "------------------------------------------------------------ \n",
       "d$Education: High School\n",
       "   Min. 1st Qu.  Median    Mean 3rd Qu.    Max. \n",
       "  10000   30000   40000   47095   60000  160000 \n",
       "------------------------------------------------------------ \n",
       "d$Education: Partial College\n",
       "   Min. 1st Qu.  Median    Mean 3rd Qu.    Max. \n",
       "  10000   30000   50000   54566   70000  170000 \n",
       "------------------------------------------------------------ \n",
       "d$Education: Partial High School\n",
       "   Min. 1st Qu.  Median    Mean 3rd Qu.    Max. \n",
       "  10000   10000   20000   34474   45000  120000 "
      ]
     },
     "metadata": {},
     "output_type": "display_data"
    },
    {
     "data": {
      "text/plain": [
       "d$Education: Bachelors\n",
       "[1] 63006.54\n",
       "------------------------------------------------------------ \n",
       "d$Education: Graduate Degree\n",
       "[1] 66091.95\n",
       "------------------------------------------------------------ \n",
       "d$Education: High School\n",
       "[1] 47094.97\n",
       "------------------------------------------------------------ \n",
       "d$Education: Partial College\n",
       "[1] 54566.04\n",
       "------------------------------------------------------------ \n",
       "d$Education: Partial High School\n",
       "[1] 34473.68"
      ]
     },
     "metadata": {},
     "output_type": "display_data"
    },
    {
     "data": {
      "text/plain": [
       "d$Education: Bachelors\n",
       "[1] 60000\n",
       "------------------------------------------------------------ \n",
       "d$Education: Graduate Degree\n",
       "[1] 60000\n",
       "------------------------------------------------------------ \n",
       "d$Education: High School\n",
       "[1] 40000\n",
       "------------------------------------------------------------ \n",
       "d$Education: Partial College\n",
       "[1] 50000\n",
       "------------------------------------------------------------ \n",
       "d$Education: Partial High School\n",
       "[1] 20000"
      ]
     },
     "metadata": {},
     "output_type": "display_data"
    }
   ],
   "source": [
    "by(d$Income, d$Education, summary)\n",
    "by(d$Income, d$Education, mean)\n",
    "by(d$Income, d$Education, median)\n"
   ]
  },
  {
   "cell_type": "code",
   "execution_count": 34,
   "id": "304324c0",
   "metadata": {
    "scrolled": true
   },
   "outputs": [
    {
     "name": "stderr",
     "output_type": "stream",
     "text": [
      "Warning message in grid.Call(C_stringMetric, as.graphicsAnnot(x$label)):\n",
      "\"font family not found in Windows font database\"Warning message in grid.Call(C_stringMetric, as.graphicsAnnot(x$label)):\n",
      "\"font family not found in Windows font database\"Warning message in grid.Call(C_textBounds, as.graphicsAnnot(x$label), x$x, x$y, :\n",
      "\"font family not found in Windows font database\"Warning message in grid.Call(C_stringMetric, as.graphicsAnnot(x$label)):\n",
      "\"font family not found in Windows font database\"Warning message in grid.Call(C_textBounds, as.graphicsAnnot(x$label), x$x, x$y, :\n",
      "\"font family not found in Windows font database\"Warning message in grid.Call(C_textBounds, as.graphicsAnnot(x$label), x$x, x$y, :\n",
      "\"font family not found in Windows font database\"Warning message in grid.Call(C_stringMetric, as.graphicsAnnot(x$label)):\n",
      "\"font family not found in Windows font database\"Warning message in grid.Call(C_textBounds, as.graphicsAnnot(x$label), x$x, x$y, :\n",
      "\"font family not found in Windows font database\"Warning message in grid.Call(C_textBounds, as.graphicsAnnot(x$label), x$x, x$y, :\n",
      "\"font family not found in Windows font database\"Warning message in grid.Call(C_textBounds, as.graphicsAnnot(x$label), x$x, x$y, :\n",
      "\"font family not found in Windows font database\"Warning message in grid.Call(C_textBounds, as.graphicsAnnot(x$label), x$x, x$y, :\n",
      "\"font family not found in Windows font database\"Warning message in grid.Call(C_textBounds, as.graphicsAnnot(x$label), x$x, x$y, :\n",
      "\"font family not found in Windows font database\"Warning message in grid.Call(C_textBounds, as.graphicsAnnot(x$label), x$x, x$y, :\n",
      "\"font family not found in Windows font database\"Warning message in grid.Call(C_textBounds, as.graphicsAnnot(x$label), x$x, x$y, :\n",
      "\"font family not found in Windows font database\"Warning message in grid.Call(C_textBounds, as.graphicsAnnot(x$label), x$x, x$y, :\n",
      "\"font family not found in Windows font database\"Warning message in grid.Call(C_textBounds, as.graphicsAnnot(x$label), x$x, x$y, :\n",
      "\"font family not found in Windows font database\"Warning message in grid.Call(C_textBounds, as.graphicsAnnot(x$label), x$x, x$y, :\n",
      "\"font family not found in Windows font database\"Warning message in grid.Call.graphics(C_text, as.graphicsAnnot(x$label), x$x, x$y, :\n",
      "\"font family not found in Windows font database\"Warning message in grid.Call(C_textBounds, as.graphicsAnnot(x$label), x$x, x$y, :\n",
      "\"font family not found in Windows font database\"Warning message in grid.Call(C_textBounds, as.graphicsAnnot(x$label), x$x, x$y, :\n",
      "\"font family not found in Windows font database\"Warning message in grid.Call(C_textBounds, as.graphicsAnnot(x$label), x$x, x$y, :\n",
      "\"font family not found in Windows font database\"Warning message in grid.Call(C_textBounds, as.graphicsAnnot(x$label), x$x, x$y, :\n",
      "\"font family not found in Windows font database\"Warning message in grid.Call(C_textBounds, as.graphicsAnnot(x$label), x$x, x$y, :\n",
      "\"font family not found in Windows font database\""
     ]
    },
    {
     "data": {
      "image/png": "[encoded data removed]",
      "text/plain": [
       "plot without title"
      ]
     },
     "metadata": {},
     "output_type": "display_data"
    }
   ],
   "source": [
    "density_income_edu <- ggplot(d, aes(x=Income, group=Education, fill=Education, alpha=.5))+\n",
    "  geom_density(adjust=1)+         #plots the density graph\n",
    "  labs(title=\"Income V/s Education\")+theme_ipsum()\n",
    "density_income_edu\n"
   ]
  },
  {
   "cell_type": "markdown",
   "id": "e3f27881",
   "metadata": {},
   "source": [
    "#### people who are well educated earns more\n",
    "* Graduates and Bachelors earns the most "
   ]
  },
  {
   "cell_type": "code",
   "execution_count": 35,
   "id": "41d76ff2",
   "metadata": {},
   "outputs": [
    {
     "data": {
      "text/plain": [
       "                     Purchased.Bike\n",
       "Education              No Yes\n",
       "  Bachelors           137 169\n",
       "  Graduate Degree      80  94\n",
       "  High School         100  79\n",
       "  Partial College     146 119\n",
       "  Partial High School  56  20"
      ]
     },
     "metadata": {},
     "output_type": "display_data"
    },
    {
     "data": {
      "image/png": "[encoded data removed]",
      "text/plain": [
       "Plot with title \"Education V/s purchased Bike\""
      ]
     },
     "metadata": {},
     "output_type": "display_data"
    }
   ],
   "source": [
    "xtabs(~Education+Purchased.Bike, d)\n",
    "plot(xtabs(~Education+Purchased.Bike, d), col=c(\"indianred1\",\"lightgreen\"), main=\"Education V/s purchased Bike\")"
   ]
  },
  {
   "cell_type": "markdown",
   "id": "451d0557",
   "metadata": {},
   "source": [
    "#### Those with higher education purchase bikes the most"
   ]
  },
  {
   "cell_type": "markdown",
   "id": "d14771cd",
   "metadata": {},
   "source": [
    "### <u>Conclusion<u> \n",
    "* The dataset includes the data of females and males who are in the range of 30-50 the most \n",
    "* Professionals gets highest salary\n",
    "* Income depends on the education level - Graduates and Bachelors gets the top income\n",
    "* Graduates and Bachelors purchase the bike the most where as the partial high school the least"
   ]
  },
  {
   "cell_type": "code",
   "execution_count": null,
   "id": "1090f6e5",
   "metadata": {},
   "outputs": [],
   "source": []
  }
 ],
 "metadata": {
  "kernelspec": {
   "display_name": "R",
   "language": "R",
   "name": "ir"
  },
  "language_info": {
   "codemirror_mode": "r",
   "file_extension": ".r",
   "mimetype": "text/x-r-source",
   "name": "R",
   "pygments_lexer": "r",
   "version": "3.6.1"
  }
 },
 "nbformat": 4,
 "nbformat_minor": 5
}
